{
 "cells": [
  {
   "cell_type": "markdown",
   "metadata": {},
   "source": [
    "## Architecure : NL to SQL with RAG\n",
    "\n",
    "PaLM2 API expecially Codey has capability to convert NL to SQL efficiently. But NL to SQL isn't a kind of single translation process. It needs more than SQL transation. \n",
    "\n",
    "For example, \n",
    "\n",
    "1. Codey will convert NL to SQL with appropriate Schema Information. \n",
    "2. In many cases, predicate values (Filter values) can't be extracted from the given question directly. \n",
    "\n",
    "I will show the how to solve above issues with RAG architecture and selection filter value process."
   ]
  },
  {
   "cell_type": "markdown",
   "metadata": {},
   "source": [
    "### Preparation\n",
    "\n",
    "Before to convert NL to SQL, we need to store Schema / Table & description of table to vector database.\n",
    "Schema information is essnetial to make queries. So we need to store it with embedding and retreive right schema information when to convert nl to SQL.\n"
   ]
  },
  {
   "cell_type": "code",
   "execution_count": 28,
   "metadata": {},
   "outputs": [],
   "source": [
    "test_question_simple_but_complex_sql = \"I want to know the location of dilivery center for order 100\"   # It will show the wrong result!\n",
    "test_question_simple = \"I want to know the total count of the product in Sports category\"\n",
    "\n",
    "test_question = test_question_simple    \n",
    "\n",
    "\n"
   ]
  },
  {
   "cell_type": "code",
   "execution_count": 29,
   "metadata": {},
   "outputs": [],
   "source": [
    "# TODO : Implement the following functions\n",
    "from google.cloud import bigquery\n",
    "\n",
    "client = bigquery.Client()\n",
    "\n",
    "sample_dataset_id = 'bigquery-public-data.thelook_ecommerce'\n",
    "\n",
    "def crawl_table_schemas(dataset_name):\n",
    "  tables = client.list_tables(dataset_name)\n",
    "  table_schemas = []\n",
    "  for table in tables:\n",
    "    table_id = f\"{dataset_name}.{table.table_id}\"\n",
    "    table_schema = client.get_table(table).schema\n",
    "    table_schemas.append({'table_id': table_id, 'table_schema': table_schema})\n",
    "  return table_schemas\n",
    "\n",
    "table_schemas = crawl_table_schemas(sample_dataset_id)\n",
    "\n"
   ]
  },
  {
   "cell_type": "code",
   "execution_count": 4,
   "metadata": {},
   "outputs": [],
   "source": [
    "import vertexai\n",
    "from langchain.chat_models import ChatVertexAI\n",
    "from langchain.llms import VertexAI\n",
    "import os\n",
    "\n",
    "PROJECT_ID = os.getenv(\"PROJECT_ID\")  # @param {type:\"string\"}\n",
    "vertexai.init(project=PROJECT_ID, location=\"us-central1\")\n",
    "\n",
    "llm_vertex = VertexAI(\n",
    "    #model_name=\"text-bison@latest\",\n",
    "    model_name=\"text-bison-32k\",\n",
    "    max_output_tokens=8000,\n",
    "    temperature=0,\n",
    "    top_p=0.8,\n",
    "    top_k=40,\n",
    ")\n",
    "\n",
    "llm = llm_vertex"
   ]
  },
  {
   "cell_type": "code",
   "execution_count": 5,
   "metadata": {},
   "outputs": [],
   "source": [
    "import json\n",
    "\n",
    "def parse_json_response(llm_json_response) -> any:\n",
    "  #print('llm response:'+ response)\n",
    "  start_char = '['\n",
    "  end_char = ']'\n",
    "  if llm_json_response.find('[') == -1 or llm_json_response.find('{') < llm_json_response.find('[') :\n",
    "    start_char = '{'\n",
    "    end_char = '}'\n",
    "  start_index = llm_json_response.find(start_char)\n",
    "  end_index = llm_json_response.rfind(end_char)\n",
    "  json_data = llm_json_response[start_index:end_index+1]\n",
    "  parsed_json = json.loads(json_data)\n",
    "  return parsed_json\n"
   ]
  },
  {
   "cell_type": "code",
   "execution_count": 41,
   "metadata": {},
   "outputs": [],
   "source": [
    "import ast\n",
    "\n",
    "def parse_python_object(llm_python_object) -> any:\n",
    "  print('llm response:'+ llm_python_object)\n",
    "  if llm_python_object.find('{') == -1:\n",
    "    start_char = '['\n",
    "    end_char = ']'\n",
    "  elif llm_python_object.find('[') == -1 or llm_python_object.find('{') < llm_python_object.find('[') :\n",
    "    start_char = '{'\n",
    "    end_char = '}'\n",
    "  start_index = llm_python_object.find(start_char)\n",
    "  end_index = llm_python_object.rfind(end_char)\n",
    "  object_data = llm_python_object[start_index:end_index+1]\n",
    "  print(object_data)\n",
    "  parsed_object = ast.literal_eval(object_data)\n",
    "  return parsed_object\n"
   ]
  },
  {
   "cell_type": "code",
   "execution_count": 6,
   "metadata": {},
   "outputs": [],
   "source": [
    "\n",
    "def enrich_schema_information(table_name, table_schema):\n",
    "  sample_json = \"\"\"\n",
    "  {\n",
    "    \"table_name\" : \"bigquery-public-data.thelook_ecommerce.orders\",\n",
    "    \"table_description\" : \"Orders placed by customers on the Look, an online store that sells clothing, shoes, and other items.\",\n",
    "    \"columns\" : [\n",
    "      \"column_name\" : \"order_id\",\n",
    "      \"column_description\" : \"A unique identifier for the order. This is populated when an order is created.\",\n",
    "    ]\n",
    "  }\n",
    "  \"\"\"\n",
    "  prompt_template = \"\"\"You are a Looker Developer, enrich the schama information for the table {table_name} with the following information:\n",
    "\n",
    "  table_name : \n",
    "  {table_name}\n",
    "\n",
    "  table_column_schema :\n",
    "  {table_column_schema}\n",
    "\n",
    "  output_json :\n",
    "  {sample_json}\n",
    "  \"\"\"\n",
    "  prompt = prompt_template.format(table_name=table_name, table_column_schema=table_schema, sample_json=sample_json)\n",
    "  response = llm.predict(prompt)\n",
    "  return response\n",
    "\n",
    "def enrich_table_schemas(table_schemas):\n",
    "  results = []\n",
    "  for table_schema in table_schemas:\n",
    "    table_name = table_schema['table_id']\n",
    "    one_table_schema = table_schema['table_schema']\n",
    "    response = enrich_schema_information(table_name, one_table_schema)\n",
    "    results.append(parse_json_response(response))\n",
    "  return results\n",
    "\n",
    "enriched_table_schemas = enrich_table_schemas(table_schemas)"
   ]
  },
  {
   "cell_type": "code",
   "execution_count": 7,
   "metadata": {},
   "outputs": [
    {
     "data": {
      "text/plain": [
       "{'table_name': 'bigquery-public-data.thelook_ecommerce.distribution_centers',\n",
       " 'table_description': 'List of distribution centers for the Look, an online store that sells clothing, shoes, and other items.',\n",
       " 'columns': [{'column_name': 'id',\n",
       "   'column_description': 'A unique identifier for the distribution center.',\n",
       "   'column_type': 'INTEGER',\n",
       "   'column_nullable': 'NULLABLE'},\n",
       "  {'column_name': 'name',\n",
       "   'column_description': 'The name of the distribution center.',\n",
       "   'column_type': 'STRING',\n",
       "   'column_nullable': 'NULLABLE'},\n",
       "  {'column_name': 'latitude',\n",
       "   'column_description': 'The latitude of the distribution center.',\n",
       "   'column_type': 'FLOAT',\n",
       "   'column_nullable': 'NULLABLE'},\n",
       "  {'column_name': 'longitude',\n",
       "   'column_description': 'The longitude of the distribution center.',\n",
       "   'column_type': 'FLOAT',\n",
       "   'column_nullable': 'NULLABLE'}]}"
      ]
     },
     "execution_count": 7,
     "metadata": {},
     "output_type": "execute_result"
    }
   ],
   "source": [
    "enriched_table_schemas[0]"
   ]
  },
  {
   "cell_type": "code",
   "execution_count": 8,
   "metadata": {},
   "outputs": [],
   "source": [
    "from vector_util import VectorDatabase\n",
    "\n",
    "vdb = VectorDatabase()\n",
    "\n",
    "vdb.truncate_table()"
   ]
  },
  {
   "cell_type": "code",
   "execution_count": 9,
   "metadata": {},
   "outputs": [],
   "source": [
    "from langchain.embeddings import VertexAIEmbeddings\n",
    "\n",
    "embeddings = VertexAIEmbeddings()\n",
    "\n"
   ]
  },
  {
   "cell_type": "code",
   "execution_count": 11,
   "metadata": {},
   "outputs": [],
   "source": [
    "\n",
    "def write_schema_to_vdb(enriched_table_schemas):\n",
    "  for enriched_table_schema in enriched_table_schemas:\n",
    "    description = enriched_table_schema['table_description']\n",
    "    desc_vector = embeddings.embed_query(description)\n",
    "    vdb.insert_record(sql=None, parameters=None, description=description, explore_view=None, model_name=None, table_name=str(enriched_table_schema['table_name']), column_schema=str(enriched_table_schema['columns']), desc_vector=desc_vector)\n",
    "\n",
    "write_schema_to_vdb(enriched_table_schemas)"
   ]
  },
  {
   "cell_type": "code",
   "execution_count": null,
   "metadata": {},
   "outputs": [],
   "source": [
    "test_embedding =  embeddings.embed_query(test_question)"
   ]
  },
  {
   "cell_type": "markdown",
   "metadata": {},
   "source": [
    "Crawlling and Schema storing finished."
   ]
  },
  {
   "cell_type": "code",
   "execution_count": 31,
   "metadata": {},
   "outputs": [
    {
     "name": "stdout",
     "output_type": "stream",
     "text": [
      "[('List of distribution centers for the Look, an online store that sells clothing, shoes, and other items.', 'bigquery-public-data.thelook_ecommerce.distribution_centers', \"[{'column_name': 'id', 'column_description': 'A unique identifier for the distribution center.', 'column_type': 'INTEGER', 'column_nullable': 'NULLABLE'}, {'column_name': 'name', 'column_description': 'The name of the distribution center.', 'column_type': 'STRING', 'column_nullable': 'NULLABLE'}, {'column_name': 'latitude', 'column_description': 'The latitude of the distribution center.', 'column_type': 'FLOAT', 'column_nullable': 'NULLABLE'}, {'column_name': 'longitude', 'column_description': 'The longitude of the distribution center.', 'column_type': 'FLOAT', 'column_nullable': 'NULLABLE'}]\"), ('Events that occur on the Look website, such as page views, product views, and purchases.', 'bigquery-public-data.thelook_ecommerce.events', \"[{'column_name': 'id', 'column_description': 'A unique identifier for the event.'}, {'column_name': 'user_id', 'column_description': 'The ID of the user who performed the action.'}, {'column_name': 'sequence_number', 'column_description': 'The sequence number of the event.'}, {'column_name': 'session_id', 'column_description': 'The ID of the session in which the event occurred.'}, {'column_name': 'created_at', 'column_description': 'The timestamp when the event occurred.'}, {'column_name': 'ip_address', 'column_description': 'The IP address of the user who performed the action.'}, {'column_name': 'city', 'column_description': 'The city of the user who performed the action.'}, {'column_name': 'state', 'column_description': 'The state of the user who performed the action.'}, {'column_name': 'postal_code', 'column_description': 'The postal code of the user who performed the action.'}, {'column_name': 'browser', 'column_description': 'The browser used by the user who performed the action.'}, {'column_name': 'traffic_source', 'column_description': 'The traffic source that referred the user to the Look website.'}, {'column_name': 'uri', 'column_description': 'The URI of the page that the user was on when the event occurred.'}, {'column_name': 'event_type', 'column_description': 'The type of event that occurred.'}]\"), ('Inventory items for the Look, an online store that sells clothing, shoes, and other items.', 'bigquery-public-data.thelook_ecommerce.inventory_items', \"[{'column_name': 'id', 'column_description': 'A unique identifier for the inventory item.', 'column_type': 'INTEGER', 'column_nullable': 'NULLABLE'}, {'column_name': 'product_id', 'column_description': 'The ID of the product that this inventory item is for.', 'column_type': 'INTEGER', 'column_nullable': 'NULLABLE'}, {'column_name': 'created_at', 'column_description': 'The date and time when the inventory item was created.', 'column_type': 'TIMESTAMP', 'column_nullable': 'NULLABLE'}, {'column_name': 'sold_at', 'column_description': 'The date and time when the inventory item was sold.', 'column_type': 'TIMESTAMP', 'column_nullable': 'NULLABLE'}, {'column_name': 'cost', 'column_description': 'The cost of the inventory item.', 'column_type': 'FLOAT', 'column_nullable': 'NULLABLE'}, {'column_name': 'product_category', 'column_description': 'The category of the product that this inventory item is for.', 'column_type': 'STRING', 'column_nullable': 'NULLABLE'}, {'column_name': 'product_name', 'column_description': 'The name of the product that this inventory item is for.', 'column_type': 'STRING', 'column_nullable': 'NULLABLE'}, {'column_name': 'product_brand', 'column_description': 'The brand of the product that this inventory item is for.', 'column_type': 'STRING', 'column_nullable': 'NULLABLE'}, {'column_name': 'product_retail_price', 'column_description': 'The retail price of the product that this inventory item is for.', 'column_type': 'FLOAT', 'column_nullable': 'NULLABLE'}, {'column_name': 'product_department', 'column_description': 'The department of the product that this inventory item is for.', 'column_type': 'STRING', 'column_nullable': 'NULLABLE'}, {'column_name': 'product_sku', 'column_description': 'The SKU of the product that this inventory item is for.', 'column_type': 'STRING', 'column_nullable': 'NULLABLE'}, {'column_name': 'product_distribution_center_id', 'column_description': 'The ID of the distribution center where this inventory item is stored.', 'column_type': 'INTEGER', 'column_nullable': 'NULLABLE'}]\"), ('Items in orders placed by customers on the Look, an online store that sells clothing, shoes, and other items.', 'bigquery-public-data.thelook_ecommerce.order_items', \"[{'column_name': 'id', 'column_description': 'A unique identifier for the order item. This is populated when an order item is created.', 'column_type': 'INTEGER', 'is_nullable': 'NULLABLE'}, {'column_name': 'order_id', 'column_description': 'The ID of the order that the item is a part of.', 'column_type': 'INTEGER', 'is_nullable': 'NULLABLE'}, {'column_name': 'user_id', 'column_description': 'The ID of the user who placed the order.', 'column_type': 'INTEGER', 'is_nullable': 'NULLABLE'}, {'column_name': 'product_id', 'column_description': 'The ID of the product that was ordered.', 'column_type': 'INTEGER', 'is_nullable': 'NULLABLE'}, {'column_name': 'inventory_item_id', 'column_description': 'The ID of the inventory item that was ordered.', 'column_type': 'INTEGER', 'is_nullable': 'NULLABLE'}, {'column_name': 'status', 'column_description': 'The status of the order item.', 'column_type': 'STRING', 'is_nullable': 'NULLABLE'}, {'column_name': 'created_at', 'column_description': 'The date and time when the order item was created.', 'column_type': 'TIMESTAMP', 'is_nullable': 'NULLABLE'}, {'column_name': 'shipped_at', 'column_description': 'The date and time when the order item was shipped.', 'column_type': 'TIMESTAMP', 'is_nullable': 'NULLABLE'}, {'column_name': 'delivered_at', 'column_description': 'The date and time when the order item was delivered.', 'column_type': 'TIMESTAMP', 'is_nullable': 'NULLABLE'}, {'column_name': 'returned_at', 'column_description': 'The date and time when the order item was returned.', 'column_type': 'TIMESTAMP', 'is_nullable': 'NULLABLE'}, {'column_name': 'sale_price', 'column_description': 'The sale price of the order item.', 'column_type': 'FLOAT', 'is_nullable': 'NULLABLE'}]\"), ('Orders placed by customers on the Look, an online store that sells clothing, shoes, and other items.', 'bigquery-public-data.thelook_ecommerce.orders', \"[{'column_name': 'order_id', 'column_description': 'A unique identifier for the order. This is populated when an order is created.', 'column_type': 'INTEGER', 'column_mode': 'NULLABLE', 'column_field_path': 'order_id'}, {'column_name': 'user_id', 'column_description': 'The ID of the user who placed the order.', 'column_type': 'INTEGER', 'column_mode': 'NULLABLE', 'column_field_path': 'user_id'}, {'column_name': 'status', 'column_description': 'The current status of the order.', 'column_type': 'STRING', 'column_mode': 'NULLABLE', 'column_field_path': 'status'}, {'column_name': 'gender', 'column_description': 'The gender of the user who placed the order.', 'column_type': 'STRING', 'column_mode': 'NULLABLE', 'column_field_path': 'gender'}, {'column_name': 'created_at', 'column_description': 'The date and time when the order was created.', 'column_type': 'TIMESTAMP', 'column_mode': 'NULLABLE', 'column_field_path': 'created_at'}, {'column_name': 'returned_at', 'column_description': 'The date and time when the order was returned.', 'column_type': 'TIMESTAMP', 'column_mode': 'NULLABLE', 'column_field_path': 'returned_at'}, {'column_name': 'shipped_at', 'column_description': 'The date and time when the order was shipped.', 'column_type': 'TIMESTAMP', 'column_mode': 'NULLABLE', 'column_field_path': 'shipped_at'}, {'column_name': 'delivered_at', 'column_description': 'The date and time when the order was delivered.', 'column_type': 'TIMESTAMP', 'column_mode': 'NULLABLE', 'column_field_path': 'delivered_at'}, {'column_name': 'num_of_item', 'column_description': 'The number of items in the order.', 'column_type': 'INTEGER', 'column_mode': 'NULLABLE', 'column_field_path': 'num_of_item'}]\"), ('Products sold by Look, an online store that sells clothing, shoes, and other items.', 'bigquery-public-data.thelook_ecommerce.products', \"[{'column_name': 'id', 'column_description': 'A unique identifier for the product.', 'column_type': 'INTEGER', 'column_is_nullable': 'NULLABLE', 'column_default': 'None', 'column_max_length': 'None', 'column_enum_values': 'None', 'column_is_key': 'None'}, {'column_name': 'cost', 'column_description': 'The cost of the product to Look.', 'column_type': 'FLOAT', 'column_is_nullable': 'NULLABLE', 'column_default': 'None', 'column_max_length': 'None', 'column_enum_values': 'None', 'column_is_key': 'None'}, {'column_name': 'category', 'column_description': 'The category of the product.', 'column_type': 'STRING', 'column_is_nullable': 'NULLABLE', 'column_default': 'None', 'column_max_length': 'None', 'column_enum_values': 'None', 'column_is_key': 'None'}, {'column_name': 'name', 'column_description': 'The name of the product.', 'column_type': 'STRING', 'column_is_nullable': 'NULLABLE', 'column_default': 'None', 'column_max_length': 'None', 'column_enum_values': 'None', 'column_is_key': 'None'}, {'column_name': 'brand', 'column_description': 'The brand of the product.', 'column_type': 'STRING', 'column_is_nullable': 'NULLABLE', 'column_default': 'None', 'column_max_length': 'None', 'column_enum_values': 'None', 'column_is_key': 'None'}, {'column_name': 'retail_price', 'column_description': 'The retail price of the product.', 'column_type': 'FLOAT', 'column_is_nullable': 'NULLABLE', 'column_default': 'None', 'column_max_length': 'None', 'column_enum_values': 'None', 'column_is_key': 'None'}, {'column_name': 'department', 'column_description': 'The department in which the product is sold.', 'column_type': 'STRING', 'column_is_nullable': 'NULLABLE', 'column_default': 'None', 'column_max_length': 'None', 'column_enum_values': 'None', 'column_is_key': 'None'}, {'column_name': 'sku', 'column_description': 'The SKU of the product.', 'column_type': 'STRING', 'column_is_nullable': 'NULLABLE', 'column_default': 'None', 'column_max_length': 'None', 'column_enum_values': 'None', 'column_is_key': 'None'}, {'column_name': 'distribution_center_id', 'column_description': 'The ID of the distribution center in which the product is stored.', 'column_type': 'INTEGER', 'column_is_nullable': 'NULLABLE', 'column_default': 'None', 'column_max_length': 'None', 'column_enum_values': 'None', 'column_is_key': 'None'}]\"), ('Users who have registered on the Look, an online store that sells clothing, shoes, and other items.', 'bigquery-public-data.thelook_ecommerce.users', '[{\\'column_name\\': \\'id\\', \\'column_description\\': \\'A unique identifier for the user. This is populated when a user registers on the Look.\\', \\'column_type\\': \\'INTEGER\\', \\'column_nullable\\': \\'NULLABLE\\', \\'column_default\\': \\'None\\', \\'column_max_length\\': \\'None\\', \\'column_enum_values\\': \\'()\\', \\'column_comment\\': \\'None\\'}, {\\'column_name\\': \\'first_name\\', \\'column_description\\': \\'The first name of the user.\\', \\'column_type\\': \\'STRING\\', \\'column_nullable\\': \\'NULLABLE\\', \\'column_default\\': \\'None\\', \\'column_max_length\\': \\'None\\', \\'column_enum_values\\': \\'()\\', \\'column_comment\\': \\'None\\'}, {\\'column_name\\': \\'last_name\\', \\'column_description\\': \\'The last name of the user.\\', \\'column_type\\': \\'STRING\\', \\'column_nullable\\': \\'NULLABLE\\', \\'column_default\\': \\'None\\', \\'column_max_length\\': \\'None\\', \\'column_enum_values\\': \\'()\\', \\'column_comment\\': \\'None\\'}, {\\'column_name\\': \\'email\\', \\'column_description\\': \\'The email address of the user.\\', \\'column_type\\': \\'STRING\\', \\'column_nullable\\': \\'NULLABLE\\', \\'column_default\\': \\'None\\', \\'column_max_length\\': \\'None\\', \\'column_enum_values\\': \\'()\\', \\'column_comment\\': \\'None\\'}, {\\'column_name\\': \\'age\\', \\'column_description\\': \\'The age of the user.\\', \\'column_type\\': \\'INTEGER\\', \\'column_nullable\\': \\'NULLABLE\\', \\'column_default\\': \\'None\\', \\'column_max_length\\': \\'None\\', \\'column_enum_values\\': \\'()\\', \\'column_comment\\': \\'None\\'}, {\\'column_name\\': \\'gender\\', \\'column_description\\': \\'The gender of the user.\\', \\'column_type\\': \\'STRING\\', \\'column_nullable\\': \\'NULLABLE\\', \\'column_default\\': \\'None\\', \\'column_max_length\\': \\'None\\', \\'column_enum_values\\': \\'()\\', \\'column_comment\\': \\'None\\'}, {\\'column_name\\': \\'state\\', \\'column_description\\': \\'The state where the user lives.\\', \\'column_type\\': \\'STRING\\', \\'column_nullable\\': \\'NULLABLE\\', \\'column_default\\': \\'None\\', \\'column_max_length\\': \\'None\\', \\'column_enum_values\\': \\'()\\', \\'column_comment\\': \\'None\\'}, {\\'column_name\\': \\'street_address\\', \\'column_description\\': \\'The street address of the user.\\', \\'column_type\\': \\'STRING\\', \\'column_nullable\\': \\'NULLABLE\\', \\'column_default\\': \\'None\\', \\'column_max_length\\': \\'None\\', \\'column_enum_values\\': \\'()\\', \\'column_comment\\': \\'None\\'}, {\\'column_name\\': \\'postal_code\\', \\'column_description\\': \\'The postal code of the user.\\', \\'column_type\\': \\'STRING\\', \\'column_nullable\\': \\'NULLABLE\\', \\'column_default\\': \\'None\\', \\'column_max_length\\': \\'None\\', \\'column_enum_values\\': \\'()\\', \\'column_comment\\': \\'None\\'}, {\\'column_name\\': \\'city\\', \\'column_description\\': \\'The city where the user lives.\\', \\'column_type\\': \\'STRING\\', \\'column_nullable\\': \\'NULLABLE\\', \\'column_default\\': \\'None\\', \\'column_max_length\\': \\'None\\', \\'column_enum_values\\': \\'()\\', \\'column_comment\\': \\'None\\'}, {\\'column_name\\': \\'country\\', \\'column_description\\': \\'The country where the user lives.\\', \\'column_type\\': \\'STRING\\', \\'column_nullable\\': \\'NULLABLE\\', \\'column_default\\': \\'None\\', \\'column_max_length\\': \\'None\\', \\'column_enum_values\\': \\'()\\', \\'column_comment\\': \\'None\\'}, {\\'column_name\\': \\'latitude\\', \\'column_description\\': \"The latitude of the user\\'s location.\", \\'column_type\\': \\'FLOAT\\', \\'column_nullable\\': \\'NULLABLE\\', \\'column_default\\': \\'None\\', \\'column_max_length\\': \\'None\\', \\'column_enum_values\\': \\'()\\', \\'column_comment\\': \\'None\\'}, {\\'column_name\\': \\'longitude\\', \\'column_description\\': \"The longitude of the user\\'s location.\", \\'column_type\\': \\'FLOAT\\', \\'column_nullable\\': \\'NULLABLE\\', \\'column_default\\': \\'None\\', \\'column_max_length\\': \\'None\\', \\'column_enum_values\\': \\'()\\', \\'column_comment\\': \\'None\\'}, {\\'column_name\\': \\'traffic_source\\', \\'column_description\\': \\'The source of traffic that brought the user to the Look.\\', \\'column_type\\': \\'STRING\\', \\'column_nullable\\': \\'NULLABLE\\', \\'column_default\\': \\'None\\', \\'column_max_length\\': \\'None\\', \\'column_enum_values\\': \\'()\\', \\'column_comment\\': \\'None\\'}, {\\'column_name\\': \\'created_at\\', \\'column_description\\': \\'The date and time when the user registered on the Look.\\', \\'column_type\\': \\'TIMESTAMP\\', \\'column_nullable\\': \\'NULLABLE\\', \\'column_default\\': \\'None\\', \\'column_max_length\\': \\'None\\', \\'column_enum_values\\': \\'()\\', \\'column_comment\\': \\'None\\'}]')]\n"
     ]
    }
   ],
   "source": [
    "\n",
    "def get_related_tables(question):\n",
    "  test_embedding =  embeddings.embed_query(question)\n",
    "  results = []\n",
    "  with vdb.get_connection() as conn:\n",
    "    try:\n",
    "      with conn.cursor() as cur:\n",
    "        select_record = (str(test_embedding).replace(' ',''),)\n",
    "        cur.execute(f\"SELECT description, table_name, column_schema FROM rag_test where (1 - (desc_vector <=> %s)) > 0.5 \", select_record)\n",
    "        results = cur.fetchall()\n",
    "        print(results)\n",
    "    except Exception as e:\n",
    "      print(e)\n",
    "  return results\n",
    "\n",
    "related_tables = get_related_tables(test_question)"
   ]
  },
  {
   "cell_type": "markdown",
   "metadata": {},
   "source": [
    "Yes. you see that this simple RAG pipeline could help to make more precise SQL conversion. "
   ]
  },
  {
   "cell_type": "markdown",
   "metadata": {},
   "source": [
    "## Considerations\n",
    "\n",
    "To convert NL to SQL with only LLM service isn't perfect. Why is it difficult or impossible to convert NL to SQL directly ?\n",
    "\n",
    "  - Insufficient context information\n",
    "    - In ERD, a table could be joined other tables under given context. \n",
    "    - If a table has a relation to other tables with foreign key, LLM(machine) can't detect the exact relationships between them. (one-to-one, one-to-many, many-to-one, many-to-many)\n",
    "    - If order table has relation with order-product table, and order-product table has relation with 'shipment' table and 'shipment' table has relation with 'distribution center' table, how could LLM know these relation chains ?\n",
    "\n",
    "\n",
    "  - Filter value mismatching\n",
    "    - In a NL command, \"What is the average salary on Jan 2022 ?\", LLM can't decide which format is used in the date field - YYYYMM, MM-YYYY, MMM YYYY ?\n",
    "    - In a NL command, \"How many employee exist in Ohio office ?\", LLM can't decide what value is real 'Ohio Office' in the office field - \"Ohio\", \"Ohio Office\", \"OH Office.\" even \"OH\".\n",
    "    - If a user want to filter records with primary key - product_id, order_id, delivery_id, user must suggest the exact value in the question. [Link](#Issue-for-the-count-of-distinct-values-in-a-filter-column.)\n",
    "\n",
    "\n",
    "To overcome two major issues, we should provide additional information (Context) to the LLM.\n"
   ]
  },
  {
   "cell_type": "markdown",
   "metadata": {},
   "source": [
    "I will show how to hanlde issue #1 at the next time. Now, I focus on the second issue. "
   ]
  },
  {
   "cell_type": "code",
   "execution_count": 69,
   "metadata": {},
   "outputs": [],
   "source": [
    "def convert_sql_with_schemas(question, realted_tables):\n",
    "  prompt_template = \"\"\"You are a Developer, convert the following question into SQL with the schema information:\n",
    "\n",
    "  related_tables :\n",
    "  {related_tables}\n",
    "\n",
    "  question :\n",
    "  {question}\n",
    "\n",
    "  output: SQL\n",
    "  \"\"\"\n",
    "  prompt = prompt_template.format(related_tables=related_tables, question=question)\n",
    "  response = llm.predict(prompt)\n",
    "  return response\n",
    "\n",
    "PREPARED_STATEMENT_PARAMETER_CHAR_BIGQUERY = '?'\n",
    "PREPARED_STATEMENT_PARAMETER_CHAR_OTHERS = '%s'\n",
    "\n",
    "PREPARED_STATEMENT_PARAMETER_CHAR = PREPARED_STATEMENT_PARAMETER_CHAR_BIGQUERY\n",
    "\n",
    "def extract_filter_columns(sql, related_tables):\n",
    "  \n",
    "  sample_json = \"\"\"\n",
    "  {\n",
    "    \"prepared_statement\" : \"select * from `bigquery-public-data.thelook_ecommerce.delivery` where created_at between ? and ?\",\n",
    "    \"filter_columns\" : [\n",
    "      {\n",
    "        \"table_name\" : \"bigquery-public-data.thelook_ecommerce.delivery\",\n",
    "        \"column_name\" : \"created_at\",\n",
    "        \"column_type\" : \"TIMESTAMP\",\n",
    "        \"operator\" : \"between\",\n",
    "        \"filter_names\" : [\"created_at_start\", \"created_at_end\"],\n",
    "        \"filter_values\" : [\"2020-01-01\", \"2020-01-02\"],\n",
    "        \"filter_order\" : 1\n",
    "      }\n",
    "    ]\n",
    "  }\n",
    "  \"\"\"\n",
    "  prompt_template = \"\"\"You are a looker developer, extract the filter columns and change the given sql into prepared statement in JSON format. Please don't suggest python code. Give me a json output as the given output example format.:\n",
    "\n",
    "  output format : json\n",
    "  {sample_json}\n",
    "\n",
    "  ----------------------------------------------\n",
    "  sql :\n",
    "  {sql}\n",
    "\n",
    "  related_tables :\n",
    "  {related_tables}\n",
    "\n",
    "  \"\"\"\n",
    "  prompt = prompt_template.format(sql=sql, parameter_char=PREPARED_STATEMENT_PARAMETER_CHAR, related_tables=related_tables, sample_json=sample_json)\n",
    "  response = llm.predict(prompt)\n",
    "  print(response)\n",
    "  return parse_json_response(response)\n"
   ]
  },
  {
   "cell_type": "markdown",
   "metadata": {},
   "source": [
    "In complex output cases, it is better to place the output format at the top of the prompt than at the bottom."
   ]
  },
  {
   "cell_type": "code",
   "execution_count": 56,
   "metadata": {},
   "outputs": [],
   "source": [
    "converted_sql = convert_sql_with_schemas(test_question, related_tables)"
   ]
  },
  {
   "cell_type": "code",
   "execution_count": 57,
   "metadata": {},
   "outputs": [
    {
     "data": {
      "text/plain": [
       "\" ```sql\\nSELECT COUNT(*) AS total_count\\nFROM bigquery-public-data.thelook_ecommerce.products\\nWHERE category = 'Sports';\\n```\""
      ]
     },
     "execution_count": 57,
     "metadata": {},
     "output_type": "execute_result"
    }
   ],
   "source": [
    "converted_sql"
   ]
  },
  {
   "cell_type": "code",
   "execution_count": 70,
   "metadata": {},
   "outputs": [
    {
     "name": "stdout",
     "output_type": "stream",
     "text": [
      " ```json\n",
      "{\n",
      "  \"prepared_statement\": \"SELECT COUNT(*) AS total_count\\nFROM bigquery-public-data.thelook_ecommerce.products\\nWHERE category = ?\",\n",
      "  \"filter_columns\": [\n",
      "    {\n",
      "      \"table_name\": \"bigquery-public-data.thelook_ecommerce.products\",\n",
      "      \"column_name\": \"category\",\n",
      "      \"column_type\": \"STRING\",\n",
      "      \"operator\": \"=\",\n",
      "      \"filter_names\": [\n",
      "        \"category\"\n",
      "      ],\n",
      "      \"filter_values\": [\n",
      "        \"Sports\"\n",
      "      ],\n",
      "      \"filter_order\": 1\n",
      "    }\n",
      "  ]\n",
      "}\n",
      "```\n"
     ]
    }
   ],
   "source": [
    "sql_and_filters = extract_filter_columns(converted_sql, related_tables)"
   ]
  },
  {
   "cell_type": "markdown",
   "metadata": {},
   "source": [
    "### Wrong Query Generation Examples :\n",
    "\n",
    "1. Undefined Function - YEAR, MONTH....\n",
    "\n",
    "  ```SQL\n",
    "  SELECT \n",
    "  AVG(i.retail_price) AS average_price\n",
    "  FROM \n",
    "    bigquery-public-data.thelook_ecommerce.inventory_items AS i\n",
    "    JOIN bigquery-public-data.thelook_ecommerce.order_items AS oi\n",
    "      ON i.id = oi.inventory_item_id\n",
    "    JOIN bigquery-public-data.thelook_ecommerce.orders AS o\n",
    "      ON oi.order_id = o.order_id\n",
    "  WHERE YEAR(o.created_at) = 2023\n",
    "  ```\n",
    "\n",
    "2. Wrong Join\n",
    "\n",
    "...\n",
    "\n",
    "..."
   ]
  },
  {
   "cell_type": "code",
   "execution_count": 64,
   "metadata": {},
   "outputs": [],
   "source": [
    "def get_field_unique_values(matched_table, matched_field):\n",
    "  if matched_table[0] != '`' :\n",
    "    matched_table = '`' + matched_table + '`'\n",
    "  sql_query = f\"with distinct_values as ( select distinct {matched_field} as {matched_field} from {matched_table} ) select {matched_field}, (select count(1) from distinct_values) as total_count from distinct_values limit 500\"\n",
    "  df = client.query(sql_query).to_dataframe()\n",
    "  return df[matched_field].tolist(), df['total_count'][0]\n",
    "  "
   ]
  },
  {
   "cell_type": "markdown",
   "metadata": {},
   "source": [
    "### Issue for the count of distinct values in a filter column. \n",
    "\n",
    "For example, if someone wanted to filter records by product_id. 'product_id' column might be a primary key column and there are lots of unique values in this field. \n",
    "So, LLM can't hanldle this field efficiently. The end user(questioner) MUST suggest 'exact' value as a filter value. \n",
    "\n",
    "In many BI solutions, a filter column shows only partial set of distinct values. \n",
    "\n",
    "To choose filter values via 'seeing' and via 'saying' are very different. When 'Seeing' values in a field, BI can show 50 values in a page. But for 'Saying' values in a field, it's not proper way to choose multiple values. \n",
    "\n",
    "So, if there are lots of distinct values in a filter columnd, we need to check whether there is a exact matching filter value in the 'question' itself. \n"
   ]
  },
  {
   "cell_type": "markdown",
   "metadata": {},
   "source": [
    "### Issue for the number of filter values\n",
    "\n",
    "If someone wanted to retrieve 'Sport' category in the product table and there was no direct matched category in it.\n",
    "\n",
    "LLM would suggest very related items such like - Soccer Shirts, Baseball Hats and etc.\n",
    "\n",
    "The problem is \n",
    "\n",
    "in the generated sql has filter with operation '=', but in this case we should change the operation '=' to 'IN'."
   ]
  },
  {
   "cell_type": "code",
   "execution_count": 65,
   "metadata": {},
   "outputs": [],
   "source": [
    "\n",
    "import ast\n",
    "\n",
    "def choose_right_filter_value(filter_values, wanted_value):\n",
    "  prompt_template = \"\"\"As a looker developer, choose right filter value for the wanted value below without changing filter value itself.\n",
    "\n",
    "  filter_values : {filter_values}\n",
    "\n",
    "  wanted_values: {wanted_value}\n",
    "\n",
    "  answer format: python list\n",
    "[filter_value1, filter_value2, ...]\n",
    "  \"\"\"\n",
    "  prompt = prompt_template.format(filter_values=filter_values, wanted_value=wanted_value)\n",
    "  print(prompt)\n",
    "  response = llm.predict(prompt)\n",
    "  return response \n",
    "\n",
    "def adjust_filter_value(filter_columns):\n",
    "  for filter in filter_columns:\n",
    "    matched_table = filter['table_name']\n",
    "    matched_field = filter['column_name']\n",
    "    filter['unique_values'], filter['unique_count'] = get_field_unique_values(matched_table, matched_field)\n",
    "    # TODO: if unique_count < 500, then choose right filter value in the unique value list.\n",
    "    if filter['unique_count'] < 500:\n",
    "      response = choose_right_filter_value(filter['unique_values'], filter['filter_values'])\n",
    "      print(response)\n",
    "      if response.strip().find(\"```json\") == 0 :\n",
    "        filter['adjust_filter_values'] = parse_json_response(response)\n",
    "      else:\n",
    "        filter['adjust_filter_values'] = parse_python_object(response)\n",
    "    else:\n",
    "      filter['adjust_filter_values'] = filter['filter_values']\n",
    "  \n",
    "  \n",
    "\n",
    "  "
   ]
  },
  {
   "cell_type": "code",
   "execution_count": 71,
   "metadata": {},
   "outputs": [
    {
     "data": {
      "text/plain": [
       "{'prepared_statement': 'SELECT COUNT(*) AS total_count\\nFROM bigquery-public-data.thelook_ecommerce.products\\nWHERE category = ?',\n",
       " 'filter_columns': [{'table_name': 'bigquery-public-data.thelook_ecommerce.products',\n",
       "   'column_name': 'category',\n",
       "   'column_type': 'STRING',\n",
       "   'operator': '=',\n",
       "   'filter_names': ['category'],\n",
       "   'filter_values': ['Sports'],\n",
       "   'filter_order': 1}]}"
      ]
     },
     "execution_count": 71,
     "metadata": {},
     "output_type": "execute_result"
    }
   ],
   "source": [
    "sql_and_filters"
   ]
  },
  {
   "cell_type": "code",
   "execution_count": 84,
   "metadata": {},
   "outputs": [
    {
     "name": "stdout",
     "output_type": "stream",
     "text": [
      "As a looker developer, choose right filter value for the wanted value below without changing filter value itself.\n",
      "\n",
      "  filter_values : ['Swim', 'Jeans', 'Pants', 'Socks', 'Active', 'Shorts', 'Sweaters', 'Underwear', 'Accessories', 'Tops & Tees', 'Sleep & Lounge', 'Outerwear & Coats', 'Suits & Sport Coats', 'Fashion Hoodies & Sweatshirts', 'Plus', 'Suits', 'Skirts', 'Dresses', 'Leggings', 'Intimates', 'Maternity', 'Clothing Sets', 'Pants & Capris', 'Socks & Hosiery', 'Blazers & Jackets', 'Jumpsuits & Rompers']\n",
      "\n",
      "  wanted_values: ['Sports']\n",
      "\n",
      "  answer format: python list\n",
      "[filter_value1, filter_value2, ...]\n",
      "  \n",
      " ```python\n",
      "['Active', 'Shorts', 'Sweaters']\n",
      "```\n",
      "llm response: ```python\n",
      "['Active', 'Shorts', 'Sweaters']\n",
      "```\n",
      "['Active', 'Shorts', 'Sweaters']\n"
     ]
    }
   ],
   "source": [
    "adjust_filter_value(sql_and_filters['filter_columns'])"
   ]
  },
  {
   "cell_type": "code",
   "execution_count": 85,
   "metadata": {},
   "outputs": [],
   "source": [
    "SINGLE_OPERATORS = ['=', '>', '<', '>=', '<=', '!=', '<>']\n",
    "\n",
    "def choose_right_one_value_from_adjusted_values(sql_and_filters):\n",
    "  for filter in sql_and_filters['filter_columns']:\n",
    "    if filter['operator'] in SINGLE_OPERATORS :\n",
    "      filter['adjust_filter_values'] = [filter['adjust_filter_values'][0]]\n",
    "\n",
    "choose_right_one_value_from_adjusted_values(sql_and_filters)"
   ]
  },
  {
   "cell_type": "code",
   "execution_count": 86,
   "metadata": {},
   "outputs": [
    {
     "data": {
      "text/plain": [
       "{'prepared_statement': 'SELECT COUNT(*) AS total_count\\nFROM bigquery-public-data.thelook_ecommerce.products\\nWHERE category = ?',\n",
       " 'filter_columns': [{'table_name': 'bigquery-public-data.thelook_ecommerce.products',\n",
       "   'column_name': 'category',\n",
       "   'column_type': 'STRING',\n",
       "   'operator': '=',\n",
       "   'filter_names': ['category'],\n",
       "   'filter_values': ['Sports'],\n",
       "   'filter_order': 1,\n",
       "   'unique_values': ['Swim',\n",
       "    'Jeans',\n",
       "    'Pants',\n",
       "    'Socks',\n",
       "    'Active',\n",
       "    'Shorts',\n",
       "    'Sweaters',\n",
       "    'Underwear',\n",
       "    'Accessories',\n",
       "    'Tops & Tees',\n",
       "    'Sleep & Lounge',\n",
       "    'Outerwear & Coats',\n",
       "    'Suits & Sport Coats',\n",
       "    'Fashion Hoodies & Sweatshirts',\n",
       "    'Plus',\n",
       "    'Suits',\n",
       "    'Skirts',\n",
       "    'Dresses',\n",
       "    'Leggings',\n",
       "    'Intimates',\n",
       "    'Maternity',\n",
       "    'Clothing Sets',\n",
       "    'Pants & Capris',\n",
       "    'Socks & Hosiery',\n",
       "    'Blazers & Jackets',\n",
       "    'Jumpsuits & Rompers'],\n",
       "   'unique_count': 26,\n",
       "   'adjust_filter_values': ['Active']}]}"
      ]
     },
     "execution_count": 86,
     "metadata": {},
     "output_type": "execute_result"
    }
   ],
   "source": [
    "sql_and_filters"
   ]
  },
  {
   "cell_type": "code",
   "execution_count": 87,
   "metadata": {},
   "outputs": [],
   "source": [
    "def prepared_statement_with_filter_values_in_bigquery(sql_and_filters):\n",
    "  prepared_statement = sql_and_filters['prepared_statement']\n",
    "  query_parameters = []\n",
    "  for filter_column in sql_and_filters['filter_columns']:\n",
    "    if len(filter_column['adjust_filter_values']) > 1:\n",
    "      if(filter_column['column_type'] == 'FLOAT64'):\n",
    "        query_parameters.append(bigquery.ArrayQueryParameter(None, \"FLOAT64\", filter_column['adjust_filter_values']))\n",
    "      elif(filter_column['column_type'] == 'INT64'):\n",
    "        query_parameters.append(bigquery.ArrayQueryParameter(None, \"INT64\", filter_column['adjust_filter_values']))\n",
    "      else:\n",
    "        query_parameters.append(bigquery.ArrayQueryParameter(None, \"STRING\", filter_column['adjust_filter_values']))  \n",
    "    else:\n",
    "      if(filter_column['column_type'] == 'FLOAT64'):\n",
    "        query_parameters.append(bigquery.ScalarQueryParameter(None, \"FLOAT64\", filter_column['adjust_filter_values'][0]))\n",
    "      elif(filter_column['column_type'] == 'INT64'):\n",
    "        query_parameters.append(bigquery.ScalarQueryParameter(None, \"INT64\", filter_column['adjust_filter_values'][0]))\n",
    "      else:\n",
    "        query_parameters.append(bigquery.ScalarQueryParameter(None, \"STRING\", filter_column['adjust_filter_values'][0]))\n",
    "    \n",
    "  job_config = bigquery.QueryJobConfig(\n",
    "    query_parameters=query_parameters\n",
    "  )\n",
    "  print(query_parameters)\n",
    "  query_job = client.query(prepared_statement, job_config=job_config)\n",
    "  return query_job.to_dataframe()\n",
    "\n",
    "  "
   ]
  },
  {
   "cell_type": "code",
   "execution_count": 88,
   "metadata": {},
   "outputs": [
    {
     "name": "stdout",
     "output_type": "stream",
     "text": [
      "[ScalarQueryParameter(None, 'STRING', 'Active')]\n"
     ]
    }
   ],
   "source": [
    "df_result = prepared_statement_with_filter_values_in_bigquery(sql_and_filters)"
   ]
  },
  {
   "cell_type": "code",
   "execution_count": 89,
   "metadata": {},
   "outputs": [
    {
     "data": {
      "text/html": [
       "<div>\n",
       "<style scoped>\n",
       "    .dataframe tbody tr th:only-of-type {\n",
       "        vertical-align: middle;\n",
       "    }\n",
       "\n",
       "    .dataframe tbody tr th {\n",
       "        vertical-align: top;\n",
       "    }\n",
       "\n",
       "    .dataframe thead th {\n",
       "        text-align: right;\n",
       "    }\n",
       "</style>\n",
       "<table border=\"1\" class=\"dataframe\">\n",
       "  <thead>\n",
       "    <tr style=\"text-align: right;\">\n",
       "      <th></th>\n",
       "      <th>total_count</th>\n",
       "    </tr>\n",
       "  </thead>\n",
       "  <tbody>\n",
       "    <tr>\n",
       "      <th>0</th>\n",
       "      <td>1432</td>\n",
       "    </tr>\n",
       "  </tbody>\n",
       "</table>\n",
       "</div>"
      ],
      "text/plain": [
       "   total_count\n",
       "0         1432"
      ]
     },
     "execution_count": 89,
     "metadata": {},
     "output_type": "execute_result"
    }
   ],
   "source": [
    "df_result"
   ]
  },
  {
   "cell_type": "markdown",
   "metadata": {},
   "source": [
    "## For the complex query.\n",
    "\n",
    "For the complex query, \n",
    "\n",
    "There are lots of considerations. \n",
    "\n",
    "The below is a good(?) example."
   ]
  },
  {
   "cell_type": "markdown",
   "metadata": {},
   "source": [
    "\n",
    "For the question : I want to know the location of dilivery center for order 100\n",
    "\n",
    "Generated query is\n",
    "``` SQL\n",
    "SELECT c.name AS distribution_center_name,c.latitude AS distribution_center_latitude,c.longitude AS distribution_center_longitude FROM bigquery-public-data.thelook_ecommerce.orders AS o\n",
    "JOIN bigquery-public-data.thelook_ecommerce.order_items AS oi ON o.order_id = oi.order_id\n",
    "JOIN bigquery-public-data.thelook_ecommerce.distribution_centers AS c ON oi.inventory_item_id = c.id \n",
    "WHERE o.order_id = ?\n",
    "```\n",
    "\n",
    "This query shows no result.\n",
    "\n",
    "But in real case, there are three records. \n",
    "\n",
    "\n",
    "| Center Name | Latitude | Longitude |\n",
    "|-------------|----------|-----------|\n",
    "| Savannah GA | 32.0167  | -81.1167  |\n",
    "| Chaleston SC | 32.7833 | -79.9333  |\n",
    "| Houston TX  | 29.7604  | -95.3695  |\n",
    "\n",
    "Real query is \n",
    "``` SQL\n",
    "    select d.name, d.latitude, d.longitude from `bigquery-public-data.thelook_ecommerce.orders` a \n",
    "    join `bigquery-public-data.thelook_ecommerce.order_items` b on (a.order_id = b.order_id)\n",
    "    join `bigquery-public-data.thelook_ecommerce.products` c on (b.product_id = c.id)\n",
    "    join `bigquery-public-data.thelook_ecommerce.distribution_centers` d on (c.distribution_center_id = d.id)\n",
    "```\n",
    "\n",
    "\n",
    "Can you notice the difference between two SQLs ?\n",
    "\n",
    "In the above RAG pipeline - expecially get_related_tables -, this function can't retrieve the mandatory table schema (product) because of low similarity.\n",
    "\n",
    "Yes, you can solve this problem to lower similarity threshold. But if there were lots of tables and columns in the vector spaces ?\n",
    "\n",
    "It could hurt the performance of the ohter processes in the LLM. \n",
    "\n",
    "\n",
    "If both your question & SQL are simple, it can show very good performance. \n"
   ]
  },
  {
   "cell_type": "markdown",
   "metadata": {},
   "source": []
  }
 ],
 "metadata": {
  "kernelspec": {
   "display_name": ".venv",
   "language": "python",
   "name": "python3"
  },
  "language_info": {
   "codemirror_mode": {
    "name": "ipython",
    "version": 3
   },
   "file_extension": ".py",
   "mimetype": "text/x-python",
   "name": "python",
   "nbconvert_exporter": "python",
   "pygments_lexer": "ipython3",
   "version": "3.8.5"
  }
 },
 "nbformat": 4,
 "nbformat_minor": 2
}
