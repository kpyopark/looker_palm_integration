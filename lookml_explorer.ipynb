{
 "cells": [
  {
   "cell_type": "markdown",
   "metadata": {},
   "source": [
    "## NL to BI Architecture. \n",
    "\n",
    "Looker symantic layer can be a good helper to convert natural language to SQL and show a dashboard dependent on the given query. \n"
   ]
  },
  {
   "cell_type": "code",
   "execution_count": 1,
   "metadata": {},
   "outputs": [],
   "source": [
    "#!pip install looker-sdk\n",
    "#!pip install google-cloud-aiplatform langchain"
   ]
  },
  {
   "cell_type": "code",
   "execution_count": 19,
   "metadata": {},
   "outputs": [],
   "source": [
    "question = \"2022년 생성일 기준으로, 금융업에 속한 국민연금 평균 납부액을 월별로 보여주세요.\"\n",
    "#question = \"As of the creation date in 2022, please show me the monthly average national pension data for the financial industry along with data from three months ago\""
   ]
  },
  {
   "cell_type": "code",
   "execution_count": 20,
   "metadata": {},
   "outputs": [],
   "source": [
    "import looker_sdk\n",
    "\n",
    "sdk = looker_sdk.init31()  # or init40() for the older v3.1 API\n",
    "my_user = sdk.me()"
   ]
  },
  {
   "cell_type": "code",
   "execution_count": 21,
   "metadata": {},
   "outputs": [],
   "source": [
    "def listup_explore(model_name):\n",
    "  \n",
    "  return sdk.all_projects()"
   ]
  },
  {
   "cell_type": "code",
   "execution_count": 22,
   "metadata": {},
   "outputs": [
    {
     "name": "stdout",
     "output_type": "stream",
     "text": [
      "sample_project\n",
      "lookml_hol_sample\n",
      "LookmlModelNavExplore(name='postal_location', description=None, label='Postal Location', hidden=False, group_label='Lookml Hol Sample', can={})\n",
      "LookmlModelNavExplore(name='bizcategory', description='이 View는 한국 산업 코드 정보를 담고 있습니다. 대분류(Catl1)부터 세분류(CatL4)까지 가지고 있으며, 산업코드를 구분짓는데 사용합니다. ', label='Bizcategory', hidden=False, group_label='Lookml Hol Sample', can={})\n",
      "LookmlModelNavExplore(name='national_pension_category_summary', description='이 화면은 국민연금에 대한 산업별 월 단위 통계 정보를 제공합니다. 제공되는 정보는 다음과 같습니다.\\n평균/총 근로자 수\\n평균/총 연금 납부액\\n평균/총 신규 근로자 수\\n평균/총 실업 근로자 수\\n또한, 이 화면은 월별 통계를 비교할 수 있는 추가적인 기능도 제공합니다.', label='National Pension Category Summary', hidden=False, group_label='Lookml Hol Sample', can={})\n",
      "LookmlModelNavExplore(name='national_pension_mom', description=\"This view provides monthly company-specific payment details for the National Pension Service. It includes information on the number of employees who contribute to the company's pension, and the amount of pension paid by the company. And also it includes gelocation information.\", label='National Pension Mom', hidden=False, group_label='Lookml Hol Sample', can={})\n",
      "extension-api-explorer\n"
     ]
    }
   ],
   "source": [
    "from pprint import pprint\n",
    "\n",
    "for lookml_model in sdk.all_lookml_models():\n",
    "  print(lookml_model.name)\n",
    "  for nav_explore in lookml_model.explores:\n",
    "    print(nav_explore)"
   ]
  },
  {
   "cell_type": "code",
   "execution_count": 23,
   "metadata": {},
   "outputs": [],
   "source": [
    "from vector_util import VectorDatabase\n",
    "\n",
    "vdb = VectorDatabase()\n",
    "\n",
    "vdb.truncate_table()"
   ]
  },
  {
   "cell_type": "code",
   "execution_count": 24,
   "metadata": {},
   "outputs": [],
   "source": [
    "from langchain.embeddings import VertexAIEmbeddings\n",
    "\n",
    "embeddings = VertexAIEmbeddings()"
   ]
  },
  {
   "cell_type": "code",
   "execution_count": 25,
   "metadata": {},
   "outputs": [],
   "source": [
    "\n",
    "def write_navexplore_to_vdb(lookml_model):\n",
    "  for nav_explore in lookml_model.explores:\n",
    "    if(nav_explore.description is None):\n",
    "      continue \n",
    "    description = nav_explore.description\n",
    "    desc_vector = embeddings.embed_query(description)\n",
    "    vdb.insert_record(sql=None, parameters=None, description=description, explore_view=nav_explore.name, model_name=lookml_model.name, table_name=None, column_schema=None, desc_vector=desc_vector)\n",
    "\n",
    "for lookml_model in sdk.all_lookml_models():\n",
    "  write_navexplore_to_vdb(lookml_model)"
   ]
  },
  {
   "cell_type": "code",
   "execution_count": 26,
   "metadata": {},
   "outputs": [
    {
     "name": "stdout",
     "output_type": "stream",
     "text": [
      "lookml_hol_sample national_pension_category_summary 이 화면은 국민연금에 대한 산업별 월 단위 통계 정보를 제공합니다. 제공되는 정보는 다음과 같습니다.\n",
      "평균/총 근로자 수\n",
      "평균/총 연금 납부액\n",
      "평균/총 신규 근로자 수\n",
      "평균/총 실업 근로자 수\n",
      "또한, 이 화면은 월별 통계를 비교할 수 있는 추가적인 기능도 제공합니다. 0.6933283122159007\n"
     ]
    }
   ],
   "source": [
    "\n",
    "def get_right_explore(question):\n",
    "  test_embedding =  embeddings.embed_query(question)\n",
    "  with vdb.get_connection() as conn:\n",
    "    try:\n",
    "      with conn.cursor() as cur:\n",
    "        select_record = (str(test_embedding).replace(' ',''),)\n",
    "        cur.execute(f\"with tb_settings as (select %s::vector as compared_vec) SELECT model_name, explore_view, description, 1 - cosine_distance(desc_vector,compared_vec) as cosine_sim FROM rag_test, tb_settings where (1 - cosine_distance(desc_vector,compared_vec)) > 0.5 order by 4 desc limit 4\", select_record)\n",
    "        result = cur.fetchone()\n",
    "        print(result[0], result[1], result[2], result[3])\n",
    "        return result[0], result[1]\n",
    "    except Exception as e:\n",
    "      print(e)\n",
    "  return None, None\n",
    "\n",
    "lookml_model, lookml_explore = get_right_explore(question)  "
   ]
  },
  {
   "cell_type": "code",
   "execution_count": 27,
   "metadata": {},
   "outputs": [],
   "source": [
    "def get_field_values(model_name, explore_name):\n",
    "\n",
    "  # API Call to pull in metadata about fields in a particular explore\n",
    "  explore = sdk.lookml_model_explore(\n",
    "    lookml_model_name=model_name,\n",
    "    explore_name=explore_name,\n",
    "    fields=\"id, name, description, fields\",\n",
    "  )\n",
    "\n",
    "  my_fields = []\n",
    "\n",
    "  # Iterate through the field definitions and pull in the description, sql,\n",
    "  # and other looker tags you might want to include in  your data dictionary.\n",
    "  if explore.fields and explore.fields.dimensions:\n",
    "    for dimension in explore.fields.dimensions:\n",
    "      if dimension.hidden:\n",
    "        #print(dimension)\n",
    "        continue\n",
    "      dim_def = {\n",
    "        \"field_type\": \"Dimension\",\n",
    "        \"view_name\": dimension.view_label,\n",
    "        \"field_name\": dimension.name,\n",
    "        \"type\": dimension.type,\n",
    "        \"description\": dimension.description,\n",
    "        #\"sql\": dimension.sql,\n",
    "      }\n",
    "      my_fields.append(dim_def)\n",
    "  if explore.fields and explore.fields.measures:\n",
    "    for measure in explore.fields.measures:\n",
    "      mes_def = {\n",
    "        \"field_type\": \"Measure\",\n",
    "        \"view_name\": measure.view_label,\n",
    "        \"field_name\": measure.name,\n",
    "        \"type\": measure.type,\n",
    "        \"description\": measure.description,\n",
    "        #\"sql\": measure.sql,\n",
    "      }\n",
    "      my_fields.append(mes_def)\n",
    "  if explore.fields and explore.fields.parameters:\n",
    "    for parameter in explore.fields.parameters:\n",
    "      par_def = {\n",
    "        \"field_type\": \"Parameter\",\n",
    "        \"view_name\": parameter.view_label,\n",
    "        \"field_name\": parameter.name,\n",
    "        \"default_filter_value\": parameter.default_filter_value,\n",
    "        \"type\": parameter.type,\n",
    "        \"description\": parameter.description,\n",
    "        #\"sql\": parameter.sql,\n",
    "      }\n",
    "      my_fields.append(par_def)\n",
    "  return my_fields"
   ]
  },
  {
   "cell_type": "code",
   "execution_count": 28,
   "metadata": {},
   "outputs": [],
   "source": [
    "# for lookml_model in sdk.all_lookml_models():\n",
    "#   print('lookml model name:' + lookml_model.name)\n",
    "#   for one_explore in lookml_model.explores:\n",
    "#     print('explore name:' + one_explore.name)\n",
    "#     pprint(get_field_values(lookml_model.name, one_explore.name))\n",
    "fields = get_field_values(lookml_model, lookml_explore)"
   ]
  },
  {
   "cell_type": "code",
   "execution_count": 29,
   "metadata": {},
   "outputs": [
    {
     "data": {
      "text/plain": [
       "[{'field_type': 'Dimension',\n",
       "  'view_name': 'Bizcategory',\n",
       "  'field_name': 'bizcategory.cat_code',\n",
       "  'type': 'string',\n",
       "  'description': None},\n",
       " {'field_type': 'Dimension',\n",
       "  'view_name': 'Bizcategory',\n",
       "  'field_name': 'bizcategory.cat_l1',\n",
       "  'type': 'string',\n",
       "  'description': 'In general, largest catgories in Korea Industry segment table such like 건설업, 제조업'},\n",
       " {'field_type': 'Dimension',\n",
       "  'view_name': 'Bizcategory',\n",
       "  'field_name': 'bizcategory.cat_l1_code',\n",
       "  'type': 'string',\n",
       "  'description': None},\n",
       " {'field_type': 'Dimension',\n",
       "  'view_name': 'Bizcategory',\n",
       "  'field_name': 'bizcategory.cat_l2',\n",
       "  'type': 'string',\n",
       "  'description': None},\n",
       " {'field_type': 'Dimension',\n",
       "  'view_name': 'Bizcategory',\n",
       "  'field_name': 'bizcategory.cat_l2_code',\n",
       "  'type': 'string',\n",
       "  'description': None},\n",
       " {'field_type': 'Dimension',\n",
       "  'view_name': 'Bizcategory',\n",
       "  'field_name': 'bizcategory.cat_l3',\n",
       "  'type': 'string',\n",
       "  'description': None},\n",
       " {'field_type': 'Dimension',\n",
       "  'view_name': 'Bizcategory',\n",
       "  'field_name': 'bizcategory.cat_l3_code',\n",
       "  'type': 'string',\n",
       "  'description': None},\n",
       " {'field_type': 'Dimension',\n",
       "  'view_name': 'Bizcategory',\n",
       "  'field_name': 'bizcategory.cat_l4',\n",
       "  'type': 'string',\n",
       "  'description': None},\n",
       " {'field_type': 'Dimension',\n",
       "  'view_name': 'Bizcategory',\n",
       "  'field_name': 'bizcategory.cat_l4_code',\n",
       "  'type': 'string',\n",
       "  'description': None},\n",
       " {'field_type': 'Dimension',\n",
       "  'view_name': 'Bizcategory',\n",
       "  'field_name': 'bizcategory.cat_l5',\n",
       "  'type': 'string',\n",
       "  'description': None},\n",
       " {'field_type': 'Dimension',\n",
       "  'view_name': 'Bizcategory',\n",
       "  'field_name': 'bizcategory.filtered_l1_code',\n",
       "  'type': 'string',\n",
       "  'description': None},\n",
       " {'field_type': 'Dimension',\n",
       "  'view_name': 'National Pension Category Summary',\n",
       "  'field_name': 'national_pension_category_summary.avg_of_lost_members_per_category',\n",
       "  'type': 'number',\n",
       "  'description': None},\n",
       " {'field_type': 'Dimension',\n",
       "  'view_name': 'National Pension Category Summary',\n",
       "  'field_name': 'national_pension_category_summary.avg_of_members_per_category',\n",
       "  'type': 'number',\n",
       "  'description': None},\n",
       " {'field_type': 'Dimension',\n",
       "  'view_name': 'National Pension Category Summary',\n",
       "  'field_name': 'national_pension_category_summary.avg_of_monthly_fixed_amount_per_category',\n",
       "  'type': 'number',\n",
       "  'description': None},\n",
       " {'field_type': 'Dimension',\n",
       "  'view_name': 'National Pension Category Summary',\n",
       "  'field_name': 'national_pension_category_summary.avg_of_new_members_per_category',\n",
       "  'type': 'number',\n",
       "  'description': None},\n",
       " {'field_type': 'Dimension',\n",
       "  'view_name': 'National Pension Category Summary Compared',\n",
       "  'field_name': 'national_pension_category_summary_compared.avg_of_lost_members_per_category',\n",
       "  'type': 'number',\n",
       "  'description': None},\n",
       " {'field_type': 'Dimension',\n",
       "  'view_name': 'National Pension Category Summary Compared',\n",
       "  'field_name': 'national_pension_category_summary_compared.avg_of_members_per_category',\n",
       "  'type': 'number',\n",
       "  'description': None},\n",
       " {'field_type': 'Dimension',\n",
       "  'view_name': 'National Pension Category Summary Compared',\n",
       "  'field_name': 'national_pension_category_summary_compared.avg_of_monthly_fixed_amount_per_category',\n",
       "  'type': 'number',\n",
       "  'description': None},\n",
       " {'field_type': 'Dimension',\n",
       "  'view_name': 'National Pension Category Summary Compared',\n",
       "  'field_name': 'national_pension_category_summary_compared.avg_of_new_members_per_category',\n",
       "  'type': 'number',\n",
       "  'description': None},\n",
       " {'field_type': 'Dimension',\n",
       "  'view_name': 'National Pension Category Summary Compared',\n",
       "  'field_name': 'national_pension_category_summary_compared.data_create_yearmonth_lagged_month',\n",
       "  'type': 'date_month',\n",
       "  'description': 'This field will be used as join phrase to compare original create date and this lagged date.'},\n",
       " {'field_type': 'Dimension',\n",
       "  'view_name': 'National Pension Category Summary Compared',\n",
       "  'field_name': 'national_pension_category_summary_compared.data_create_yearmonth_lagged_quarter',\n",
       "  'type': 'date_quarter',\n",
       "  'description': 'This field will be used as join phrase to compare original create date and this lagged date.'},\n",
       " {'field_type': 'Dimension',\n",
       "  'view_name': 'National Pension Category Summary Compared',\n",
       "  'field_name': 'national_pension_category_summary_compared.data_create_yearmonth_lagged_year',\n",
       "  'type': 'date_year',\n",
       "  'description': 'This field will be used as join phrase to compare original create date and this lagged date.'},\n",
       " {'field_type': 'Dimension',\n",
       "  'view_name': 'National Pension Category Summary Compared',\n",
       "  'field_name': 'national_pension_category_summary_compared.data_create_yearmonth_month',\n",
       "  'type': 'date_month',\n",
       "  'description': 'This field is generally avaiable to check company information.'},\n",
       " {'field_type': 'Dimension',\n",
       "  'view_name': 'National Pension Category Summary Compared',\n",
       "  'field_name': 'national_pension_category_summary_compared.data_create_yearmonth_quarter',\n",
       "  'type': 'date_quarter',\n",
       "  'description': 'This field is generally avaiable to check company information.'},\n",
       " {'field_type': 'Dimension',\n",
       "  'view_name': 'National Pension Category Summary Compared',\n",
       "  'field_name': 'national_pension_category_summary_compared.data_create_yearmonth_year',\n",
       "  'type': 'date_year',\n",
       "  'description': 'This field is generally avaiable to check company information.'},\n",
       " {'field_type': 'Dimension',\n",
       "  'view_name': 'National Pension Category Summary Compared',\n",
       "  'field_name': 'national_pension_category_summary_compared.sum_of_lost_members_per_category',\n",
       "  'type': 'number',\n",
       "  'description': None},\n",
       " {'field_type': 'Dimension',\n",
       "  'view_name': 'National Pension Category Summary Compared',\n",
       "  'field_name': 'national_pension_category_summary_compared.sum_of_members_per_category',\n",
       "  'type': 'number',\n",
       "  'description': None},\n",
       " {'field_type': 'Dimension',\n",
       "  'view_name': 'National Pension Category Summary Compared',\n",
       "  'field_name': 'national_pension_category_summary_compared.sum_of_monthly_fixed_amount_per_category',\n",
       "  'type': 'number',\n",
       "  'description': None},\n",
       " {'field_type': 'Dimension',\n",
       "  'view_name': 'National Pension Category Summary Compared',\n",
       "  'field_name': 'national_pension_category_summary_compared.sum_of_new_members_per_category',\n",
       "  'type': 'number',\n",
       "  'description': None},\n",
       " {'field_type': 'Dimension',\n",
       "  'view_name': 'National Pension Category Summary',\n",
       "  'field_name': 'national_pension_category_summary.data_create_yearmonth_month',\n",
       "  'type': 'date_month',\n",
       "  'description': 'This field is generally avaiable to check company information.'},\n",
       " {'field_type': 'Dimension',\n",
       "  'view_name': 'National Pension Category Summary',\n",
       "  'field_name': 'national_pension_category_summary.data_create_yearmonth_quarter',\n",
       "  'type': 'date_quarter',\n",
       "  'description': 'This field is generally avaiable to check company information.'},\n",
       " {'field_type': 'Dimension',\n",
       "  'view_name': 'National Pension Category Summary',\n",
       "  'field_name': 'national_pension_category_summary.data_create_yearmonth_year',\n",
       "  'type': 'date_year',\n",
       "  'description': 'This field is generally avaiable to check company information.'},\n",
       " {'field_type': 'Dimension',\n",
       "  'view_name': 'National Pension Category Summary',\n",
       "  'field_name': 'national_pension_category_summary.sum_of_lost_members_per_category',\n",
       "  'type': 'number',\n",
       "  'description': None},\n",
       " {'field_type': 'Dimension',\n",
       "  'view_name': 'National Pension Category Summary',\n",
       "  'field_name': 'national_pension_category_summary.sum_of_members_per_category',\n",
       "  'type': 'number',\n",
       "  'description': None},\n",
       " {'field_type': 'Dimension',\n",
       "  'view_name': 'National Pension Category Summary',\n",
       "  'field_name': 'national_pension_category_summary.sum_of_monthly_fixed_amount_per_category',\n",
       "  'type': 'number',\n",
       "  'description': None},\n",
       " {'field_type': 'Dimension',\n",
       "  'view_name': 'National Pension Category Summary',\n",
       "  'field_name': 'national_pension_category_summary.sum_of_new_members_per_category',\n",
       "  'type': 'number',\n",
       "  'description': None},\n",
       " {'field_type': 'Measure',\n",
       "  'view_name': 'Bizcategory',\n",
       "  'field_name': 'bizcategory.count',\n",
       "  'type': 'count',\n",
       "  'description': None},\n",
       " {'field_type': 'Measure',\n",
       "  'view_name': 'National Pension Category Summary',\n",
       "  'field_name': 'national_pension_category_summary.avg_of_lost_members',\n",
       "  'type': 'average',\n",
       "  'description': 'Use this for average of monthly lost employees in the industry segment.'},\n",
       " {'field_type': 'Measure',\n",
       "  'view_name': 'National Pension Category Summary',\n",
       "  'field_name': 'national_pension_category_summary.avg_of_members',\n",
       "  'type': 'average',\n",
       "  'description': 'Use this for average of total members in the industry segment.'},\n",
       " {'field_type': 'Measure',\n",
       "  'view_name': 'National Pension Category Summary',\n",
       "  'field_name': 'national_pension_category_summary.avg_of_monthly_fixed_amount',\n",
       "  'type': 'average',\n",
       "  'description': 'Use this for average of monthly national pension in the industry segment.'},\n",
       " {'field_type': 'Measure',\n",
       "  'view_name': 'National Pension Category Summary',\n",
       "  'field_name': 'national_pension_category_summary.avg_of_new_members',\n",
       "  'type': 'sum',\n",
       "  'description': 'Use this for average of monthly new employees in the industry segment.'},\n",
       " {'field_type': 'Measure',\n",
       "  'view_name': 'National Pension Category Summary Compared',\n",
       "  'field_name': 'national_pension_category_summary_compared.avg_of_lost_members',\n",
       "  'type': 'average',\n",
       "  'description': 'Use this for average of monthly lost employees in the industry segment.'},\n",
       " {'field_type': 'Measure',\n",
       "  'view_name': 'National Pension Category Summary Compared',\n",
       "  'field_name': 'national_pension_category_summary_compared.avg_of_members',\n",
       "  'type': 'average',\n",
       "  'description': 'Use this for average of total members in the industry segment.'},\n",
       " {'field_type': 'Measure',\n",
       "  'view_name': 'National Pension Category Summary Compared',\n",
       "  'field_name': 'national_pension_category_summary_compared.avg_of_monthly_fixed_amount',\n",
       "  'type': 'average',\n",
       "  'description': 'Use this for average of monthly national pension in the industry segment.'},\n",
       " {'field_type': 'Measure',\n",
       "  'view_name': 'National Pension Category Summary Compared',\n",
       "  'field_name': 'national_pension_category_summary_compared.avg_of_new_members',\n",
       "  'type': 'sum',\n",
       "  'description': 'Use this for average of monthly new employees in the industry segment.'},\n",
       " {'field_type': 'Measure',\n",
       "  'view_name': 'National Pension Category Summary Compared',\n",
       "  'field_name': 'national_pension_category_summary_compared.corp_count',\n",
       "  'type': 'count',\n",
       "  'description': 'The number of corporation in the industry segment.'},\n",
       " {'field_type': 'Measure',\n",
       "  'view_name': 'National Pension Category Summary Compared',\n",
       "  'field_name': 'national_pension_category_summary_compared.sum_of_lost_members',\n",
       "  'type': 'sum',\n",
       "  'description': 'Use this for sum of monthly lost employees in the industry segment.'},\n",
       " {'field_type': 'Measure',\n",
       "  'view_name': 'National Pension Category Summary Compared',\n",
       "  'field_name': 'national_pension_category_summary_compared.sum_of_members',\n",
       "  'type': 'sum',\n",
       "  'description': 'Use this for sum of total members in the industry segment.'},\n",
       " {'field_type': 'Measure',\n",
       "  'view_name': 'National Pension Category Summary Compared',\n",
       "  'field_name': 'national_pension_category_summary_compared.sum_of_monthly_fixed_amount',\n",
       "  'type': 'sum',\n",
       "  'description': 'Use this for sum of monthly national pension in the industry segment.'},\n",
       " {'field_type': 'Measure',\n",
       "  'view_name': 'National Pension Category Summary Compared',\n",
       "  'field_name': 'national_pension_category_summary_compared.sum_of_new_members',\n",
       "  'type': 'sum',\n",
       "  'description': 'Use this for sum of monthly new employees in the industry segment.'},\n",
       " {'field_type': 'Measure',\n",
       "  'view_name': 'National Pension Category Summary',\n",
       "  'field_name': 'national_pension_category_summary.corp_count',\n",
       "  'type': 'count',\n",
       "  'description': 'The number of corporation in the industry segment.'},\n",
       " {'field_type': 'Measure',\n",
       "  'view_name': 'National Pension Category Summary',\n",
       "  'field_name': 'national_pension_category_summary.sum_of_lost_members',\n",
       "  'type': 'sum',\n",
       "  'description': 'Use this for sum of monthly lost employees in the industry segment.'},\n",
       " {'field_type': 'Measure',\n",
       "  'view_name': 'National Pension Category Summary',\n",
       "  'field_name': 'national_pension_category_summary.sum_of_members',\n",
       "  'type': 'sum',\n",
       "  'description': 'Use this for sum of total members in the industry segment.'},\n",
       " {'field_type': 'Measure',\n",
       "  'view_name': 'National Pension Category Summary',\n",
       "  'field_name': 'national_pension_category_summary.sum_of_monthly_fixed_amount',\n",
       "  'type': 'sum',\n",
       "  'description': 'Use this for sum of monthly national pension in the industry segment.'},\n",
       " {'field_type': 'Measure',\n",
       "  'view_name': 'National Pension Category Summary',\n",
       "  'field_name': 'national_pension_category_summary.sum_of_new_members',\n",
       "  'type': 'sum',\n",
       "  'description': 'Use this for sum of monthly new employees in the industry segment.'},\n",
       " {'field_type': 'Parameter',\n",
       "  'view_name': 'National Pension Category Summary Compared',\n",
       "  'field_name': 'national_pension_category_summary_compared.compared_month',\n",
       "  'default_filter_value': None,\n",
       "  'type': 'number',\n",
       "  'description': \"If you want to compare two different measures in two different months, use it. If you set this value, this 'compared' view will generate lagged statistics.\"}]"
      ]
     },
     "execution_count": 29,
     "metadata": {},
     "output_type": "execute_result"
    }
   ],
   "source": [
    "fields"
   ]
  },
  {
   "cell_type": "code",
   "execution_count": 30,
   "metadata": {},
   "outputs": [],
   "source": [
    "import vertexai\n",
    "from langchain.chat_models import ChatVertexAI\n",
    "from langchain.llms import VertexAI\n",
    "import os\n",
    "\n",
    "PROJECT_ID = os.getenv(\"PROJECT_ID\")  # @param {type:\"string\"}\n",
    "vertexai.init(project=PROJECT_ID, location=\"us-central1\")\n",
    "\n",
    "llm_vertex = VertexAI(\n",
    "    #model_name=\"text-bison@latest\",\n",
    "    #model_name=\"text-unicorn@001\",\n",
    "    model_name=\"text-bison-32k\",\n",
    "    max_output_tokens=1020,\n",
    "    temperature=0,\n",
    "    top_p=0.8,\n",
    "    top_k=40,\n",
    ")\n"
   ]
  },
  {
   "cell_type": "code",
   "execution_count": 31,
   "metadata": {},
   "outputs": [],
   "source": [
    "llm = llm_vertex"
   ]
  },
  {
   "cell_type": "code",
   "execution_count": 32,
   "metadata": {},
   "outputs": [],
   "source": [
    "def choose_right_fields(fields, question):\n",
    "  sample_json = \"\"\"\n",
    "{\n",
    "  \"dimensions\": [\n",
    "    \"dimension1\",\n",
    "  ],\n",
    "  \"measures\": [\n",
    "    \"measure1\",\n",
    "  ],\n",
    "  \"filters\": [\n",
    "    {\n",
    "      \"field_name\": \"field_name1\",\n",
    "      \"values\": [\n",
    "        \"value1\"\n",
    "      ]\n",
    "    }\n",
    "  ],\n",
    "  \"sorts\": [\n",
    "    {\n",
    "      \"field_name\": \"field_name1\",\n",
    "      \"direction\": \"asc\"\n",
    "    }\n",
    "  ],\n",
    "  \"parameters\": [\n",
    "    \"param1\",\n",
    "  ],\n",
    "  \"pivots\": [\n",
    "    \"field1\"\n",
    "  ],\n",
    "  \"hidden_fields\": [\n",
    "    \"field1\"\n",
    "  ]\n",
    "}\n",
    "  \"\"\"\n",
    "\n",
    "  prompt_template = \"\"\"As a looker developer, choose right dimesions and measures for the question below. \n",
    "  You should choose right fields as least as possible and sort fields must be choosen in the dimension fields.\n",
    "\n",
    "  fields : {fields}\n",
    "\n",
    "  question: {question}\n",
    "\n",
    "  answer format: json\n",
    "  {sample_json}\n",
    "  \"\"\"\n",
    "  response = llm.predict(prompt_template.format(fields=fields, question=question, sample_json=sample_json))\n",
    "  return response\n",
    "\n",
    "\n"
   ]
  },
  {
   "cell_type": "code",
   "execution_count": 33,
   "metadata": {},
   "outputs": [],
   "source": [
    "# Test Code.\n",
    "# get_field_values(lookml_model, lookml_explore)\n"
   ]
  },
  {
   "cell_type": "code",
   "execution_count": 34,
   "metadata": {},
   "outputs": [],
   "source": [
    "schema_fields = get_field_values(lookml_model, lookml_explore)\n",
    "response = choose_right_fields(fields=schema_fields, question=question) #S\n"
   ]
  },
  {
   "cell_type": "code",
   "execution_count": 35,
   "metadata": {},
   "outputs": [
    {
     "data": {
      "text/plain": [
       "' ```json\\n{\\n  \"dimensions\": [\\n    \"national_pension_category_summary.data_create_yearmonth_year\",\\n    \"national_pension_category_summary.data_create_yearmonth_month\",\\n    \"bizcategory.cat_l1\"\\n  ],\\n  \"measures\": [\\n    \"national_pension_category_summary.avg_of_monthly_fixed_amount\"\\n  ],\\n  \"filters\": [\\n    {\\n      \"field_name\": \"bizcategory.cat_l1\",\\n      \"values\": [\\n        \"금융업\"\\n      ]\\n    },\\n    {\\n      \"field_name\": \"national_pension_category_summary.data_create_yearmonth_year\",\\n      \"values\": [\\n        \"2022\"\\n      ]\\n    }\\n  ],\\n  \"sorts\": [\\n    {\\n      \"field_name\": \"national_pension_category_summary.data_create_yearmonth_year\",\\n      \"direction\": \"asc\"\\n    },\\n    {\\n      \"field_name\": \"national_pension_category_summary.data_create_yearmonth_month\",\\n      \"direction\": \"asc\"\\n    }\\n  ],\\n  \"parameters\": [],\\n  \"pivots\": [],\\n  \"hidden_fields\": []\\n}\\n```'"
      ]
     },
     "execution_count": 35,
     "metadata": {},
     "output_type": "execute_result"
    }
   ],
   "source": [
    "response"
   ]
  },
  {
   "cell_type": "code",
   "execution_count": 36,
   "metadata": {},
   "outputs": [],
   "source": [
    "import json\n",
    "\n",
    "def parse_json_response(llm_json_response) -> any:\n",
    "  #print('llm response:'+ response)\n",
    "  start_char = '['\n",
    "  end_char = ']'\n",
    "  if llm_json_response.find('[') == -1 or llm_json_response.find('{') < llm_json_response.find('[') :\n",
    "    start_char = '{'\n",
    "    end_char = '}'\n",
    "  start_index = llm_json_response.find(start_char)\n",
    "  end_index = llm_json_response.rfind(end_char)\n",
    "  json_data = llm_json_response[start_index:end_index+1]\n",
    "  parsed_json = json.loads(json_data)\n",
    "  return parsed_json\n"
   ]
  },
  {
   "cell_type": "code",
   "execution_count": 37,
   "metadata": {},
   "outputs": [],
   "source": [
    "import ast\n",
    "\n",
    "def parse_python_object(llm_python_object) -> any:\n",
    "  print('llm response:'+ llm_python_object)\n",
    "  if llm_python_object.find('{') == -1:\n",
    "    start_char = '['\n",
    "    end_char = ']'\n",
    "  elif llm_python_object.find('[') == -1 or llm_python_object.find('{') < llm_python_object.find('[') :\n",
    "    start_char = '{'\n",
    "    end_char = '}'\n",
    "  start_index = llm_python_object.find(start_char)\n",
    "  end_index = llm_python_object.rfind(end_char)\n",
    "  object_data = llm_python_object[start_index:end_index+1]\n",
    "  print(object_data)\n",
    "  parsed_object = ast.literal_eval(object_data)\n",
    "  return parsed_object\n"
   ]
  },
  {
   "cell_type": "code",
   "execution_count": 38,
   "metadata": {},
   "outputs": [],
   "source": [
    "response_object = parse_json_response(response)"
   ]
  },
  {
   "cell_type": "code",
   "execution_count": 39,
   "metadata": {},
   "outputs": [
    {
     "data": {
      "text/plain": [
       "{'dimensions': ['national_pension_category_summary.data_create_yearmonth_year',\n",
       "  'national_pension_category_summary.data_create_yearmonth_month',\n",
       "  'bizcategory.cat_l1'],\n",
       " 'measures': ['national_pension_category_summary.avg_of_monthly_fixed_amount'],\n",
       " 'filters': [{'field_name': 'bizcategory.cat_l1', 'values': ['금융업']},\n",
       "  {'field_name': 'national_pension_category_summary.data_create_yearmonth_year',\n",
       "   'values': ['2022']}],\n",
       " 'sorts': [{'field_name': 'national_pension_category_summary.data_create_yearmonth_year',\n",
       "   'direction': 'asc'},\n",
       "  {'field_name': 'national_pension_category_summary.data_create_yearmonth_month',\n",
       "   'direction': 'asc'}],\n",
       " 'parameters': [],\n",
       " 'pivots': [],\n",
       " 'hidden_fields': []}"
      ]
     },
     "execution_count": 39,
     "metadata": {},
     "output_type": "execute_result"
    }
   ],
   "source": [
    "response_object"
   ]
  },
  {
   "cell_type": "code",
   "execution_count": 40,
   "metadata": {},
   "outputs": [],
   "source": [
    "def get_field_type(field_name, schema_fields):\n",
    "  for field in schema_fields:\n",
    "    if field['field_name'] == field_name:\n",
    "      return field['type']"
   ]
  },
  {
   "cell_type": "code",
   "execution_count": 41,
   "metadata": {},
   "outputs": [],
   "source": [
    "# from langchain.output_parsers import PydanticOutputParser\n",
    "# from langchain.pydantic_v1 import BaseModel, Field, validator\n",
    "# from typing import List\n",
    "\n",
    "# class LookerFilterValue(BaseModel):\n",
    "#   field_name: str = Field(description=\"field_name\")\n",
    "#   values: List[str] = Field(description=\"values\")\n",
    "\n",
    "# class LookerSortField(BaseModel):\n",
    "#   field_name: str = Field(description=\"field_name\")\n",
    "#   direction: str = Field(description=\"direction\")\n",
    "\n",
    "# class LookerQueryParameters(BaseModel):\n",
    "#   dimensions: List[str] = Field(description=\"dimensions\")\n",
    "#   measures: List[str] = Field(description=\"measures\")\n",
    "#   parameters: List[str] = Field(description=\"parameters\")\n",
    "#   filters: List[LookerFilterValue] = Field(description=\"filters\")\n",
    "#   sorts: List[LookerSortField] = Field(description=\"sorts\")\n",
    "#   pivots: List[str] = Field(description=\"pivot - These fields are used as pivots in the chart.\")\n",
    "#   hidden_fields: List[str] = Field(description=\"hidden_fields - These fields are used as filters but are not shown in the chart.\")\n",
    "\n",
    "# def get_right_fields_object(response):\n",
    "#   parser = PydanticOutputParser(pydantic_object=LookerQueryParameters)\n",
    "#   return parser.parse(response)\n"
   ]
  },
  {
   "cell_type": "code",
   "execution_count": 42,
   "metadata": {},
   "outputs": [],
   "source": [
    "#related_fields = get_right_fields_object(response)\n",
    "related_fields = parse_json_response(response)"
   ]
  },
  {
   "cell_type": "code",
   "execution_count": 43,
   "metadata": {},
   "outputs": [
    {
     "data": {
      "text/plain": [
       "[{'field_name': 'bizcategory.cat_l1', 'values': ['금융업']},\n",
       " {'field_name': 'national_pension_category_summary.data_create_yearmonth_year',\n",
       "  'values': ['2022']}]"
      ]
     },
     "execution_count": 43,
     "metadata": {},
     "output_type": "execute_result"
    }
   ],
   "source": [
    "related_fields['filters']"
   ]
  },
  {
   "cell_type": "code",
   "execution_count": 44,
   "metadata": {},
   "outputs": [],
   "source": [
    "def decide_to_retrieve_values_for_the_filters(related_fields):\n",
    "  output_sample = \"\"\"\n",
    "  {\n",
    "    \"required_target\": [\"field1\",\"field2\"]\n",
    "  }\n",
    "  \"\"\"\n",
    "  prompt_template = \"\"\"As a looker developer, decide whether to retrieve values for the filters below. \n",
    "  For example, date / timestamp columns don't need to retrieve values. but string columns need to retrieve values from the database.\n",
    "\n",
    "  filter fields : {filter_fields}\n",
    "\n",
    "  output sample : json array\n",
    "  {output_sample}\n",
    "  \"\"\"\n",
    "  response = llm.predict(prompt_template.format(filter_fields=related_fields['filters'], output_sample=output_sample))\n",
    "  return response"
   ]
  },
  {
   "cell_type": "code",
   "execution_count": 45,
   "metadata": {},
   "outputs": [],
   "source": [
    "retrieve_target_filters = decide_to_retrieve_values_for_the_filters(related_fields)"
   ]
  },
  {
   "cell_type": "code",
   "execution_count": 46,
   "metadata": {},
   "outputs": [
    {
     "data": {
      "text/plain": [
       "' ```json\\n  {\\n    \"required_target\": [\"bizcategory.cat_l1\"]\\n  }\\n  ```'"
      ]
     },
     "execution_count": 46,
     "metadata": {},
     "output_type": "execute_result"
    }
   ],
   "source": [
    "retrieve_target_filters"
   ]
  },
  {
   "cell_type": "code",
   "execution_count": 47,
   "metadata": {},
   "outputs": [],
   "source": [
    "\n",
    "# class LookerFilterRetrieves(BaseModel):\n",
    "#   required_target: List[str] = Field(description=\"required_target\")\n",
    "\n",
    "# def get_retrieve_target_filters_object(retrieve_target_filters):\n",
    "#   parser = PydanticOutputParser(pydantic_object=LookerFilterRetrieves)\n",
    "#   return parser.parse(retrieve_target_filters)\n"
   ]
  },
  {
   "cell_type": "code",
   "execution_count": 48,
   "metadata": {},
   "outputs": [],
   "source": [
    "retrieve_target_filter_obj = parse_json_response(retrieve_target_filters)"
   ]
  },
  {
   "cell_type": "code",
   "execution_count": 49,
   "metadata": {},
   "outputs": [],
   "source": [
    "def get_user_input_value_for_filter_field(related_fields, field_name):\n",
    "  for filter in related_fields['filters']:\n",
    "    if filter['field_name'] == field_name:\n",
    "      return filter['values']\n",
    "  return \"\"\n"
   ]
  },
  {
   "cell_type": "code",
   "execution_count": 50,
   "metadata": {},
   "outputs": [],
   "source": [
    "# retrieve_target_filter_obj = get_retrieve_target_filters_object(retrieve_target_filters)"
   ]
  },
  {
   "cell_type": "code",
   "execution_count": 51,
   "metadata": {},
   "outputs": [
    {
     "data": {
      "text/plain": [
       "{'required_target': ['bizcategory.cat_l1']}"
      ]
     },
     "execution_count": 51,
     "metadata": {},
     "output_type": "execute_result"
    }
   ],
   "source": [
    "retrieve_target_filter_obj"
   ]
  },
  {
   "cell_type": "code",
   "execution_count": 52,
   "metadata": {},
   "outputs": [],
   "source": [
    "from looker_sdk.sdk.api31 import models as ml\n",
    "\n",
    "def get_validated_filter_values_from_looker(lookml_model, lookml_explore, retrieve_target_filter_obj):\n",
    "  choose_right_filter_value_list = []\n",
    "  for retrieve_target_filter in retrieve_target_filter_obj['required_target']:\n",
    "    print(retrieve_target_filter)\n",
    "    query_template = ml.WriteQuery(model=lookml_model, view=lookml_explore,fields=[retrieve_target_filter])\n",
    "    query = sdk.create_query(query_template)\n",
    "    json_ = sdk.run_query(query.id, \"json\")\n",
    "    print(json_)\n",
    "    choose_right_filter_value_list.append({ retrieve_target_filter : json_})\n",
    "  return choose_right_filter_value_list\n",
    "    \n"
   ]
  },
  {
   "cell_type": "code",
   "execution_count": 53,
   "metadata": {},
   "outputs": [
    {
     "name": "stdout",
     "output_type": "stream",
     "text": [
      "bizcategory.cat_l1\n",
      "[{\"bizcategory.cat_l1\":\"가구 내 고용활동 및 달리 분류되지 않은 자가 소비 생산활동\"},\n",
      "{\"bizcategory.cat_l1\":\"건 설 업\"},\n",
      "{\"bizcategory.cat_l1\":\"공공 행정, 국방 및 사회보장 행정\"},\n",
      "{\"bizcategory.cat_l1\":\"광업\"},\n",
      "{\"bizcategory.cat_l1\":\"교육서비스업\"},\n",
      "{\"bizcategory.cat_l1\":\"금융 및 보험업\"},\n",
      "{\"bizcategory.cat_l1\":\"도매 및 소매업\"},\n",
      "{\"bizcategory.cat_l1\":\"보건업 및 사회복지 서비스업\"},\n",
      "{\"bizcategory.cat_l1\":\"부동산업\"},\n",
      "{\"bizcategory.cat_l1\":\"사업시설 관리, 사업 지원 및 임대 서비스업\"},\n",
      "{\"bizcategory.cat_l1\":\"수도, 하수 및 폐기물 처리, 원료 재생업\"},\n",
      "{\"bizcategory.cat_l1\":\"숙박 및 음식점업\"},\n",
      "{\"bizcategory.cat_l1\":\"예술, 스포츠 및 여가관련 서비스업\"},\n",
      "{\"bizcategory.cat_l1\":\"운수 및 창고업\"},\n",
      "{\"bizcategory.cat_l1\":\"전기, 가스, 증기 및 공기 조절 공급업\"},\n",
      "{\"bizcategory.cat_l1\":\"전문, 과학 및 기술 서비스업\"},\n",
      "{\"bizcategory.cat_l1\":\"정보통신업\"},\n",
      "{\"bizcategory.cat_l1\":\"제조업\"},\n",
      "{\"bizcategory.cat_l1\":\"협회 및 단체, 수리 및 기타 개인 서비스업\"},\n",
      "{\"bizcategory.cat_l1\":\"협회 및 단체, 수리 및 기타 개인서비스\"}]\n"
     ]
    }
   ],
   "source": [
    "retrieve_filter_and_values = get_validated_filter_values_from_looker(lookml_model, lookml_explore, retrieve_target_filter_obj)"
   ]
  },
  {
   "cell_type": "code",
   "execution_count": 54,
   "metadata": {},
   "outputs": [
    {
     "data": {
      "text/plain": [
       "[{'bizcategory.cat_l1': '[{\"bizcategory.cat_l1\":\"가구 내 고용활동 및 달리 분류되지 않은 자가 소비 생산활동\"},\\n{\"bizcategory.cat_l1\":\"건 설 업\"},\\n{\"bizcategory.cat_l1\":\"공공 행정, 국방 및 사회보장 행정\"},\\n{\"bizcategory.cat_l1\":\"광업\"},\\n{\"bizcategory.cat_l1\":\"교육서비스업\"},\\n{\"bizcategory.cat_l1\":\"금융 및 보험업\"},\\n{\"bizcategory.cat_l1\":\"도매 및 소매업\"},\\n{\"bizcategory.cat_l1\":\"보건업 및 사회복지 서비스업\"},\\n{\"bizcategory.cat_l1\":\"부동산업\"},\\n{\"bizcategory.cat_l1\":\"사업시설 관리, 사업 지원 및 임대 서비스업\"},\\n{\"bizcategory.cat_l1\":\"수도, 하수 및 폐기물 처리, 원료 재생업\"},\\n{\"bizcategory.cat_l1\":\"숙박 및 음식점업\"},\\n{\"bizcategory.cat_l1\":\"예술, 스포츠 및 여가관련 서비스업\"},\\n{\"bizcategory.cat_l1\":\"운수 및 창고업\"},\\n{\"bizcategory.cat_l1\":\"전기, 가스, 증기 및 공기 조절 공급업\"},\\n{\"bizcategory.cat_l1\":\"전문, 과학 및 기술 서비스업\"},\\n{\"bizcategory.cat_l1\":\"정보통신업\"},\\n{\"bizcategory.cat_l1\":\"제조업\"},\\n{\"bizcategory.cat_l1\":\"협회 및 단체, 수리 및 기타 개인 서비스업\"},\\n{\"bizcategory.cat_l1\":\"협회 및 단체, 수리 및 기타 개인서비스\"}]'}]"
      ]
     },
     "execution_count": 54,
     "metadata": {},
     "output_type": "execute_result"
    }
   ],
   "source": [
    "retrieve_filter_and_values"
   ]
  },
  {
   "cell_type": "code",
   "execution_count": 55,
   "metadata": {},
   "outputs": [],
   "source": [
    "def choose_right_filter_value(filter_values, wanted_value):\n",
    "  example_json = \"[ 'value1' , 'value2' , 'value3' ]\"\n",
    "  prompt_template = \"\"\"As a looker developer, choose right filter value for the wanted value below without changing filter value itself.\n",
    "\n",
    "  output format : json array\n",
    "  {example_json}\n",
    "\n",
    "  filter_values : {filter_values}\n",
    "\n",
    "  wanted_values: {wanted_value}\n",
    "\n",
    "  \"\"\"\n",
    "  response = llm.predict(prompt_template.format(example_json=example_json,filter_values=filter_values, wanted_value=wanted_value))\n",
    "  return response  "
   ]
  },
  {
   "cell_type": "code",
   "execution_count": 56,
   "metadata": {},
   "outputs": [],
   "source": [
    "def get_appropriate_filter_value_pair(related_fields, retrieve_filter_and_values):\n",
    "  filter_value_pair = []\n",
    "  for filter_and_values in retrieve_filter_and_values:\n",
    "    field_name = list(filter_and_values.keys())[0]\n",
    "    print(filter_and_values)\n",
    "    user_input_value = get_user_input_value_for_filter_field(related_fields, field_name)\n",
    "    print(user_input_value)\n",
    "    actual_value = choose_right_filter_value(filter_and_values, user_input_value)\n",
    "    print(actual_value)  \n",
    "    value_object = parse_python_object(actual_value)\n",
    "    print(value_object)\n",
    "    filter_value_pair.append({ field_name : value_object})\n",
    "  return filter_value_pair\n"
   ]
  },
  {
   "cell_type": "code",
   "execution_count": 57,
   "metadata": {},
   "outputs": [
    {
     "name": "stdout",
     "output_type": "stream",
     "text": [
      "{'bizcategory.cat_l1': '[{\"bizcategory.cat_l1\":\"가구 내 고용활동 및 달리 분류되지 않은 자가 소비 생산활동\"},\\n{\"bizcategory.cat_l1\":\"건 설 업\"},\\n{\"bizcategory.cat_l1\":\"공공 행정, 국방 및 사회보장 행정\"},\\n{\"bizcategory.cat_l1\":\"광업\"},\\n{\"bizcategory.cat_l1\":\"교육서비스업\"},\\n{\"bizcategory.cat_l1\":\"금융 및 보험업\"},\\n{\"bizcategory.cat_l1\":\"도매 및 소매업\"},\\n{\"bizcategory.cat_l1\":\"보건업 및 사회복지 서비스업\"},\\n{\"bizcategory.cat_l1\":\"부동산업\"},\\n{\"bizcategory.cat_l1\":\"사업시설 관리, 사업 지원 및 임대 서비스업\"},\\n{\"bizcategory.cat_l1\":\"수도, 하수 및 폐기물 처리, 원료 재생업\"},\\n{\"bizcategory.cat_l1\":\"숙박 및 음식점업\"},\\n{\"bizcategory.cat_l1\":\"예술, 스포츠 및 여가관련 서비스업\"},\\n{\"bizcategory.cat_l1\":\"운수 및 창고업\"},\\n{\"bizcategory.cat_l1\":\"전기, 가스, 증기 및 공기 조절 공급업\"},\\n{\"bizcategory.cat_l1\":\"전문, 과학 및 기술 서비스업\"},\\n{\"bizcategory.cat_l1\":\"정보통신업\"},\\n{\"bizcategory.cat_l1\":\"제조업\"},\\n{\"bizcategory.cat_l1\":\"협회 및 단체, 수리 및 기타 개인 서비스업\"},\\n{\"bizcategory.cat_l1\":\"협회 및 단체, 수리 및 기타 개인서비스\"}]'}\n",
      "['금융업']\n",
      " [\n",
      "    \"금융 및 보험업\"\n",
      "   ]\n",
      "llm response: [\n",
      "    \"금융 및 보험업\"\n",
      "   ]\n",
      "[\n",
      "    \"금융 및 보험업\"\n",
      "   ]\n",
      "['금융 및 보험업']\n"
     ]
    }
   ],
   "source": [
    "valid_filter_values = get_appropriate_filter_value_pair(related_fields, retrieve_filter_and_values)"
   ]
  },
  {
   "cell_type": "code",
   "execution_count": 58,
   "metadata": {},
   "outputs": [
    {
     "data": {
      "text/plain": [
       "[{'bizcategory.cat_l1': ['금융 및 보험업']}]"
      ]
     },
     "execution_count": 58,
     "metadata": {},
     "output_type": "execute_result"
    }
   ],
   "source": [
    "valid_filter_values"
   ]
  },
  {
   "cell_type": "code",
   "execution_count": 80,
   "metadata": {},
   "outputs": [],
   "source": [
    "# test_values = [{\n",
    "# 'bizcategory.cat_l1': [\"금융 및 보험업\", \"건 설 업\"]\n",
    "# }]\n",
    "\n",
    "# for filter_values in test_values:\n",
    "#   print(filter_values)\n",
    "#   filter_name = list(filter_values.keys())[0]\n",
    "#   print(filter_name)\n",
    "#   for filter_value in list(filter_values.values())[0]:\n",
    "#     print(filter_value)"
   ]
  },
  {
   "cell_type": "code",
   "execution_count": 60,
   "metadata": {},
   "outputs": [],
   "source": [
    "def get_quoted_value(valid_filter_values, field_name):\n",
    "  values = []\n",
    "  for filter_values in valid_filter_values:\n",
    "    field_name_cmp = list(filter_values.keys())[0]\n",
    "    if field_name_cmp == field_name:\n",
    "      for field_value in list(filter_values.values())[0]:\n",
    "        field_type = get_field_type(field_name, schema_fields)\n",
    "        if field_type == 'string':\n",
    "          values.append(field_value)\n",
    "        else:\n",
    "          values.append(str(field_value))\n",
    "  return values\n",
    "  "
   ]
  },
  {
   "cell_type": "code",
   "execution_count": 61,
   "metadata": {},
   "outputs": [],
   "source": [
    "from typing import cast, Dict, List, Union\n",
    "\n",
    "# LookML Filter values MUST be a string. \n",
    "def get_lookml_filter_values(valid_filter_values, filters):\n",
    "  filter_dict:Dict[str, Any] = {}\n",
    "  for filter in filters:\n",
    "    field_name = filter['field_name']\n",
    "    quoted_values = get_quoted_value(valid_filter_values, field_name)\n",
    "    if(quoted_values == []):\n",
    "      print(filter['values'])\n",
    "      filter_dict[field_name] = \",\".join(filter['values'])\n",
    "      continue\n",
    "    filter['values'] = quoted_values\n",
    "    filter_dict[field_name] = \",\".join(quoted_values)\n",
    "  return filter_dict"
   ]
  },
  {
   "cell_type": "code",
   "execution_count": 62,
   "metadata": {},
   "outputs": [
    {
     "name": "stdout",
     "output_type": "stream",
     "text": [
      "['2022']\n",
      "{'bizcategory.cat_l1': '금융 및 보험업', 'national_pension_category_summary.data_create_yearmonth_year': '2022'}\n"
     ]
    }
   ],
   "source": [
    "print(get_lookml_filter_values(valid_filter_values, related_fields['filters']))"
   ]
  },
  {
   "cell_type": "code",
   "execution_count": 63,
   "metadata": {},
   "outputs": [
    {
     "name": "stdout",
     "output_type": "stream",
     "text": [
      "{'field_name': 'national_pension_category_summary.data_create_yearmonth_year', 'direction': 'asc'}\n",
      "{'field_name': 'national_pension_category_summary.data_create_yearmonth_month', 'direction': 'asc'}\n"
     ]
    }
   ],
   "source": [
    "for sorted_column in related_fields['sorts']:\n",
    "  print(sorted_column)"
   ]
  },
  {
   "cell_type": "code",
   "execution_count": 64,
   "metadata": {},
   "outputs": [
    {
     "name": "stdout",
     "output_type": "stream",
     "text": [
      "{'dimensions': ['national_pension_category_summary.data_create_yearmonth_year', 'national_pension_category_summary.data_create_yearmonth_month', 'bizcategory.cat_l1'], 'measures': ['national_pension_category_summary.avg_of_monthly_fixed_amount'], 'filters': [{'field_name': 'bizcategory.cat_l1', 'values': ['금융 및 보험업']}, {'field_name': 'national_pension_category_summary.data_create_yearmonth_year', 'values': ['2022']}], 'sorts': [{'field_name': 'national_pension_category_summary.data_create_yearmonth_year', 'direction': 'asc'}, {'field_name': 'national_pension_category_summary.data_create_yearmonth_month', 'direction': 'asc'}], 'parameters': [], 'pivots': [], 'hidden_fields': []}\n"
     ]
    }
   ],
   "source": [
    "print(related_fields)"
   ]
  },
  {
   "cell_type": "code",
   "execution_count": 65,
   "metadata": {},
   "outputs": [],
   "source": [
    "def make_dimension_and_description_pair(related_fields, schema_fields):\n",
    "  dimension_and_description_pair = []\n",
    "  for one_dimension in related_fields['dimensions']:\n",
    "    for dimension in schema_fields:\n",
    "      if dimension['field_name'] == one_dimension:\n",
    "        dimension_and_description_pair.append((one_dimension, dimension['description']))\n",
    "  return dimension_and_description_pair\n"
   ]
  },
  {
   "cell_type": "code",
   "execution_count": 66,
   "metadata": {},
   "outputs": [],
   "source": [
    "def choose_chart_type_and_pivots(related_fields, schema_fields, question):\n",
    "  dimension_and_description_pair = make_dimension_and_description_pair(related_fields, schema_fields)\n",
    "  sample_json = \"\"\"{\n",
    "  \"chart_type\": \"looker_column\",\n",
    "  \"date_time_dimensions\": [\"dimension1\"],\n",
    "  \"pivots\": [\n",
    "    \"field1\"\n",
    "  ],\n",
    "  \"hidden_fields\": [\n",
    "    \"field1\"\n",
    "  ]\n",
    "  \"reason_to_choose\": \"I choose field1 as a pivot field because ...\"\n",
    "  }\"\"\"\n",
    "  prompt_template = \"\"\"As a looker developer, choose chart type and pivot fields and hidden fields in the given dimensions for the question below. \n",
    "  Pivot field is a field that is used to create a pivot table. A pivot field converts category values in the field to columns so that you can compare different category values. \n",
    "  For example, if you have sales data, you can compare sales by product by setting the \"Product\" field as a pivot field. Date/time fields MUST not be used as pivot fields.\n",
    "  Hidden field is a field that is not displayed in a chart. Hidden fields are used to hide fields that are not needed in the chart or that can confuse users. \n",
    "  For example, the \"Product ID\" field can be used to identify products, but it does not need to be displayed in a chart. If there are two same date fields, one of them can be hidden. \n",
    "  At least one field must be a visible field that is not used in pivot fields or hidden fields.\n",
    "\n",
    "  chart_types : \n",
    "  looker_column - Column charts are useful when you want to compare the values of multiple fields for multiple records. It needs one main field to show the values separated by the main field. And this field must not be a pivot field.\n",
    "  looker_line - Line charts are useful when you want to show the changes in a value over time. They are also useful for comparing the changes in two or more values over time.\n",
    "  looker_area - Area charts are useful when you want to compare the trends of two or more values over time. They are also useful for showing the cumulative sum of values over time.\n",
    "  looker_funnel - Funnel charts are useful to understand events in a sequential process, like prospect stages in a sales pipeline, engagement with a marketing campaign, or visitor movement through a website.\n",
    "  looker_pie - Pie charts are useful when you want to show the proportion of values to the total value. They are also useful for comparing the proportional differences between values.\n",
    "  looker_timeline - Timeline charts are useful when you want to show events over time. They are also useful for showing the duration of events. It needs at least 3 fields. 1. Event Name 2. Start Date 3. End Date\n",
    "  looker_table - Table charts are useful when you want to show the values of multiple fields for multiple records. They are also useful for showing the values of multiple fields for a single record.\n",
    "\n",
    "  dimensions : \n",
    "  {dimensions}\n",
    "\n",
    "  question:\n",
    "  {question}\n",
    "\n",
    "  answer format: json\n",
    "  {sample_json}\n",
    "  \"\"\"\n",
    "  prompt_full = prompt_template.format(dimensions=dimension_and_description_pair, question=question, sample_json=sample_json)\n",
    "  #print(prompt_full)\n",
    "  response = llm.predict(prompt_full)\n",
    "  return response"
   ]
  },
  {
   "cell_type": "code",
   "execution_count": 67,
   "metadata": {},
   "outputs": [],
   "source": [
    "from langchain.pydantic_v1 import BaseModel, Field, validator\n",
    "from typing import List\n",
    "\n",
    "class LookerChartTypeClassifier(BaseModel):\n",
    "  chart_type: str = Field(description=\"chart_type\")\n",
    "  date_time_dimensions: List[str] = Field(description=\"date_time_dimensions\")\n",
    "  pivots: List[str] = Field(description=\"pivot fields\")\n",
    "  hidden_fields: List[str] = Field(description=\"hidden fields\")\n",
    "  reason_to_choose: str = Field(description=\"reason_to_choose\")\n",
    "\n",
    "def get_looker_chart_type(reponse):\n",
    "  parser = PydanticOutputParser(pydantic_object=LookerChartTypeClassifier)\n",
    "  return parser.parse(response)\n"
   ]
  },
  {
   "cell_type": "code",
   "execution_count": 68,
   "metadata": {},
   "outputs": [],
   "source": [
    "llm_response = choose_chart_type_and_pivots(related_fields, schema_fields, question)"
   ]
  },
  {
   "cell_type": "code",
   "execution_count": 69,
   "metadata": {},
   "outputs": [],
   "source": [
    "# def parse_valid_json_values(response):\n",
    "#   print('llm response:'+ response)\n",
    "#   start_index = response.find('{')\n",
    "#   end_index = response.rfind('}')\n",
    "#   json_data = response[start_index:end_index+1]\n",
    "#   parsed_json = json.loads(json_data)\n",
    "#   return parsed_json\n",
    "\n",
    "chart_type_and_pivots = parse_json_response(llm_response)"
   ]
  },
  {
   "cell_type": "code",
   "execution_count": 70,
   "metadata": {},
   "outputs": [
    {
     "data": {
      "text/plain": [
       "{'chart_type': 'looker_column',\n",
       " 'date_time_dimensions': ['national_pension_category_summary.data_create_yearmonth_month'],\n",
       " 'pivots': ['bizcategory.cat_l1'],\n",
       " 'hidden_fields': ['national_pension_category_summary.data_create_yearmonth_year'],\n",
       " 'reason_to_choose': 'I choose national_pension_category_summary.data_create_yearmonth_month as a date_time_dimension because it is the most granular date field available. I choose bizcategory.cat_l1 as a pivot field because it is the most relevant field to the question. I choose to hide national_pension_category_summary.data_create_yearmonth_year because it is not relevant to the question.'}"
      ]
     },
     "execution_count": 70,
     "metadata": {},
     "output_type": "execute_result"
    }
   ],
   "source": [
    "# chart_type_and_pivots = get_looker_chart_type(llm_response)\n",
    "chart_type_and_pivots"
   ]
  },
  {
   "cell_type": "code",
   "execution_count": 71,
   "metadata": {},
   "outputs": [],
   "source": [
    "def validate_hidden_fields(chart_type_and_pivots, related_fields):\n",
    "  hidden_fields = chart_type_and_pivots['hidden_fields']\n",
    "  pivot_fields = chart_type_and_pivots['pivots']\n",
    "  dimensions = related_fields['dimensions']\n",
    "  if len(dimensions) == len(hidden_fields) + len(pivot_fields):\n",
    "    return False\n",
    "  return True\n",
    "\n",
    "def refine_hidden_fields(chart_type_and_pivots, question):\n",
    "  hidden_fields = chart_type_and_pivots['hidden_fields']\n",
    "  pivot_fields = chart_type_and_pivots['pivots']\n",
    "  dimensions = hidden_fields\n",
    "  \n",
    "  sample_json = \"\"\"{\n",
    "  \"dimension\": \"field1\"\n",
    "  }\"\"\"\n",
    "\n",
    "  prompt_template = \"\"\"As a looker developer, choose an appropriate field shown in the x-axis with the given dimensions and question.\n",
    "\n",
    "output json format:\n",
    "{sample_json}\n",
    "\n",
    "given dimensions :\n",
    "{dimensions}\n",
    "\n",
    "given question:\n",
    "{question}\n",
    "\n",
    "  \"\"\"\n",
    "  prompt_full = prompt_template.format(sample_json=sample_json, dimensions=dimensions, question=question)\n",
    "  response = llm.predict(prompt_full)\n",
    "  return response\n"
   ]
  },
  {
   "cell_type": "code",
   "execution_count": 72,
   "metadata": {},
   "outputs": [],
   "source": [
    "if not validate_hidden_fields(chart_type_and_pivots, related_fields): \n",
    "  field_shown = parse_json_response(refine_hidden_fields(chart_type_and_pivots, question))\n",
    "  chart_type_and_pivots['hidden_fields'].remove(field_shown['dimension'])"
   ]
  },
  {
   "cell_type": "code",
   "execution_count": 73,
   "metadata": {},
   "outputs": [
    {
     "data": {
      "text/plain": [
       "['national_pension_category_summary.data_create_yearmonth_year']"
      ]
     },
     "execution_count": 73,
     "metadata": {},
     "output_type": "execute_result"
    }
   ],
   "source": [
    "chart_type_and_pivots['hidden_fields']"
   ]
  },
  {
   "cell_type": "code",
   "execution_count": 74,
   "metadata": {},
   "outputs": [],
   "source": [
    "def make_query_for_the_look(lookml_model, lookml_explore, related_fields, valid_filter_values):\n",
    "  fields = []\n",
    "  fields.extend(related_fields['dimensions'])\n",
    "  fields.extend(related_fields['measures'])\n",
    "  filters = get_lookml_filter_values(valid_filter_values, related_fields['filters'])\n",
    "  hidden_fields = chart_type_and_pivots['hidden_fields']\n",
    "  pivot_fields = chart_type_and_pivots['pivots']\n",
    "  chart_type = chart_type_and_pivots['chart_type']\n",
    "  print('fields:' + str(fields))\n",
    "  print('filters:' + str(filters))\n",
    "  print('hidden_fields:' + str(hidden_fields))\n",
    "  print('pivot_fields:' + str(pivot_fields))\n",
    "  print('chart_type:' + str(chart_type))\n",
    "  query_template = ml.WriteQuery(model=lookml_model, view=lookml_explore,fields=fields,filters=filters,pivots=pivot_fields,vis_config={'type':chart_type, 'hidden_fields':hidden_fields})\n",
    "  query = sdk.create_query(query_template)\n",
    "  run_response = sdk.run_inline_query(\"json\", query)\n",
    "  print('query.id:' + str(query.id))\n",
    "  return query\n",
    "    "
   ]
  },
  {
   "cell_type": "code",
   "execution_count": 75,
   "metadata": {},
   "outputs": [
    {
     "name": "stdout",
     "output_type": "stream",
     "text": [
      "['2022']\n"
     ]
    }
   ],
   "source": [
    "lookml_filter = get_lookml_filter_values(valid_filter_values, related_fields['filters'])"
   ]
  },
  {
   "cell_type": "code",
   "execution_count": 81,
   "metadata": {},
   "outputs": [
    {
     "data": {
      "text/plain": [
       "{'dimensions': ['national_pension_category_summary.data_create_yearmonth_year',\n",
       "  'national_pension_category_summary.data_create_yearmonth_month',\n",
       "  'bizcategory.cat_l1'],\n",
       " 'measures': ['national_pension_category_summary.avg_of_monthly_fixed_amount'],\n",
       " 'filters': [{'field_name': 'bizcategory.cat_l1', 'values': ['금융 및 보험업']},\n",
       "  {'field_name': 'national_pension_category_summary.data_create_yearmonth_year',\n",
       "   'values': ['2022']}],\n",
       " 'sorts': [{'field_name': 'national_pension_category_summary.data_create_yearmonth_year',\n",
       "   'direction': 'asc'},\n",
       "  {'field_name': 'national_pension_category_summary.data_create_yearmonth_month',\n",
       "   'direction': 'asc'}],\n",
       " 'parameters': [],\n",
       " 'pivots': [],\n",
       " 'hidden_fields': []}"
      ]
     },
     "execution_count": 81,
     "metadata": {},
     "output_type": "execute_result"
    }
   ],
   "source": [
    "related_fields"
   ]
  },
  {
   "cell_type": "code",
   "execution_count": 77,
   "metadata": {},
   "outputs": [
    {
     "name": "stdout",
     "output_type": "stream",
     "text": [
      "['2022']\n",
      "fields:['national_pension_category_summary.data_create_yearmonth_year', 'national_pension_category_summary.data_create_yearmonth_month', 'bizcategory.cat_l1', 'national_pension_category_summary.avg_of_monthly_fixed_amount']\n",
      "filters:{'bizcategory.cat_l1': '금융 및 보험업', 'national_pension_category_summary.data_create_yearmonth_year': '2022'}\n",
      "hidden_fields:['national_pension_category_summary.data_create_yearmonth_year']\n",
      "pivot_fields:['bizcategory.cat_l1']\n",
      "chart_type:looker_column\n",
      "query.id:1383\n",
      "1383\n"
     ]
    }
   ],
   "source": [
    "generated_query = make_query_for_the_look(lookml_model, lookml_explore, related_fields, valid_filter_values)\n",
    "print(generated_query.id)\n",
    "\n"
   ]
  },
  {
   "cell_type": "code",
   "execution_count": 78,
   "metadata": {},
   "outputs": [],
   "source": [
    "## Caution : 'title' field should be unique for each look. You should change this field to create new look.\n",
    "\n",
    "def create_look(question, generated_query):\n",
    "  existing_look = sdk.search_looks(query_id=generated_query.id)\n",
    "  if len(existing_look) > 0:\n",
    "    return existing_look[0]\n",
    "  new_look = sdk.create_look(ml.WriteLookWithQuery(query_id=generated_query.id, \n",
    "    description=question,\n",
    "    deleted=False,\n",
    "    is_run_on_load=True,\n",
    "    public=True,\n",
    "    folder_id=str(sdk.me().personal_folder_id),\n",
    "    title=question))\n",
    "  return new_look\n"
   ]
  },
  {
   "cell_type": "code",
   "execution_count": 79,
   "metadata": {},
   "outputs": [],
   "source": [
    "new_look = create_look(question + \"1\", generated_query)"
   ]
  },
  {
   "cell_type": "code",
   "execution_count": null,
   "metadata": {},
   "outputs": [],
   "source": [
    "def get_full_url(short_url):\n",
    "  return 'http://localhost:8080' + short_url\n",
    "\n",
    "print(get_full_url(new_look.short_url))"
   ]
  },
  {
   "cell_type": "code",
   "execution_count": null,
   "metadata": {},
   "outputs": [],
   "source": [
    "for group in sdk.all_groups():\n",
    "  print(group)"
   ]
  },
  {
   "cell_type": "code",
   "execution_count": null,
   "metadata": {},
   "outputs": [],
   "source": [
    "sso_url = sdk.create_sso_embed_url(ml.EmbedSsoParams(target_url=get_full_url(new_look.short_url), group_ids=[3]))"
   ]
  },
  {
   "cell_type": "code",
   "execution_count": null,
   "metadata": {},
   "outputs": [],
   "source": [
    "print(sso_url.url)"
   ]
  },
  {
   "cell_type": "code",
   "execution_count": null,
   "metadata": {},
   "outputs": [],
   "source": [
    "for one_look in sdk.all_looks():\n",
    "  print(one_look.title)\n",
    "  query = sdk.query(one_look.query_id)\n",
    "  print(query)\n"
   ]
  },
  {
   "cell_type": "markdown",
   "metadata": {},
   "source": [
    "THe below image is a look created by the above codes. \n",
    "\n",
    "![alt Looker View image](resources/looker_view_9.png \"Title\")\n",
    "\n",
    "![alt Looker View image](resources/looker_view_8.png \"Title\")"
   ]
  },
  {
   "cell_type": "code",
   "execution_count": 86,
   "metadata": {},
   "outputs": [
    {
     "name": "stdout",
     "output_type": "stream",
     "text": [
      "['2022-10', '2022-09', '2022-08', '2022-07', '2022-06', '2022-05', '2022-04', '2022-03', '2022-02', '2022-01']\n"
     ]
    }
   ],
   "source": [
    "test_json_array = json.loads(\"\"\"[{\"national_pension_mom.data_create_yearmonth_month\":\"2022-10\"},\n",
    "{\"national_pension_mom.data_create_yearmonth_month\":\"2022-09\"},\n",
    "{\"national_pension_mom.data_create_yearmonth_month\":\"2022-08\"},\n",
    "{\"national_pension_mom.data_create_yearmonth_month\":\"2022-07\"},\n",
    "{\"national_pension_mom.data_create_yearmonth_month\":\"2022-06\"},\n",
    "{\"national_pension_mom.data_create_yearmonth_month\":\"2022-05\"},\n",
    "{\"national_pension_mom.data_create_yearmonth_month\":\"2022-04\"},\n",
    "{\"national_pension_mom.data_create_yearmonth_month\":\"2022-03\"},\n",
    "{\"national_pension_mom.data_create_yearmonth_month\":\"2022-02\"},\n",
    "{\"national_pension_mom.data_create_yearmonth_month\":\"2022-01\"}]\"\"\")\n",
    "\n",
    "def get_value_list_from_json_array(json_array):\n",
    "  values = []\n",
    "  for json_object in json_array:\n",
    "    values.append(list(json_object.values())[0])\n",
    "  return values\n",
    "\n",
    "print(get_value_list_from_json_array(test_json_array))"
   ]
  }
 ],
 "metadata": {
  "kernelspec": {
   "display_name": ".venv",
   "language": "python",
   "name": "python3"
  },
  "language_info": {
   "codemirror_mode": {
    "name": "ipython",
    "version": 3
   },
   "file_extension": ".py",
   "mimetype": "text/x-python",
   "name": "python",
   "nbconvert_exporter": "python",
   "pygments_lexer": "ipython3",
   "version": "3.8.5"
  }
 },
 "nbformat": 4,
 "nbformat_minor": 2
}
