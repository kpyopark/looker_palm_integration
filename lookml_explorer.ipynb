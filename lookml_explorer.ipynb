{
 "cells": [
  {
   "cell_type": "markdown",
   "metadata": {},
   "source": [
    "## NL to BI Architecture. \n",
    "\n",
    "Looker symantic layer can be a good helper to convert natural language to SQL and show a dashboard dependent on the given query. \n"
   ]
  },
  {
   "cell_type": "code",
   "execution_count": null,
   "metadata": {},
   "outputs": [],
   "source": [
    "#!pip install looker-sdk\n",
    "#!pip install google-cloud-aiplatform langchain"
   ]
  },
  {
   "cell_type": "code",
   "execution_count": 105,
   "metadata": {},
   "outputs": [],
   "source": [
    "question = \"생성일 기준 2022년으로, 월별로, 금융업, 보건업에 대한 연금합계를 보여줘봐.\""
   ]
  },
  {
   "cell_type": "code",
   "execution_count": 106,
   "metadata": {},
   "outputs": [],
   "source": [
    "import looker_sdk\n",
    "\n",
    "sdk = looker_sdk.init31()  # or init40() for the older v3.1 API\n",
    "my_user = sdk.me()"
   ]
  },
  {
   "cell_type": "code",
   "execution_count": 107,
   "metadata": {},
   "outputs": [],
   "source": [
    "def listup_explore(model_name):\n",
    "  \n",
    "  return sdk.all_projects()"
   ]
  },
  {
   "cell_type": "code",
   "execution_count": 108,
   "metadata": {},
   "outputs": [
    {
     "name": "stdout",
     "output_type": "stream",
     "text": [
      "[]\n",
      "[LookmlModelNavExplore(name='postal_location', description=None, label='Postal Location', hidden=False, group_label='Lookml Hol Sample', can={}),\n",
      " LookmlModelNavExplore(name='bizcategory', description='This view includes business category used in Korea. From Level 1(biggest category) to Level 3(smallest sub category).', label='Bizcategory', hidden=False, group_label='Lookml Hol Sample', can={}),\n",
      " LookmlModelNavExplore(name='national_pension_mom', description='This model explore shows the national pension information - pension amount, lost member count, added member count, business category and geolocations.', label='National Pension Mom', hidden=False, group_label='Lookml Hol Sample', can={})]\n",
      "[]\n"
     ]
    }
   ],
   "source": [
    "from pprint import pprint\n",
    "\n",
    "for lookml_model in sdk.all_lookml_models():\n",
    "  pprint(lookml_model.explores)"
   ]
  },
  {
   "cell_type": "code",
   "execution_count": 109,
   "metadata": {},
   "outputs": [],
   "source": [
    "# TODO : Implement this function with RAG architecture.\n",
    "\n",
    "def get_right_explore(question):\n",
    "  lookml_explore = \"national_pension_mom\"\n",
    "  lookml_model = \"lookml_hol_sample\"\n",
    "  return lookml_model, lookml_explore\n",
    "\n",
    "lookml_model, lookml_explore = get_right_explore(question)  "
   ]
  },
  {
   "cell_type": "code",
   "execution_count": 110,
   "metadata": {},
   "outputs": [],
   "source": [
    "def get_field_values(model_name, explore_name):\n",
    "\n",
    "  # API Call to pull in metadata about fields in a particular explore\n",
    "  explore = sdk.lookml_model_explore(\n",
    "    lookml_model_name=model_name,\n",
    "    explore_name=explore_name,\n",
    "    fields=\"id, name, description, fields\",\n",
    "  )\n",
    "\n",
    "  my_fields = []\n",
    "\n",
    "  # Iterate through the field definitions and pull in the description, sql,\n",
    "  # and other looker tags you might want to include in  your data dictionary.\n",
    "  if explore.fields and explore.fields.dimensions:\n",
    "    for dimension in explore.fields.dimensions:\n",
    "      dim_def = {\n",
    "        \"field_type\": \"Dimension\",\n",
    "        \"view_name\": dimension.view_label,\n",
    "        \"field_name\": dimension.name,\n",
    "        \"type\": dimension.type,\n",
    "        \"description\": dimension.description,\n",
    "        #\"sql\": dimension.sql,\n",
    "      }\n",
    "      my_fields.append(dim_def)\n",
    "  if explore.fields and explore.fields.measures:\n",
    "    for measure in explore.fields.measures:\n",
    "      mes_def = {\n",
    "        \"field_type\": \"Measure\",\n",
    "        \"view_name\": measure.view_label,\n",
    "        \"field_name\": measure.name,\n",
    "        \"type\": measure.type,\n",
    "        \"description\": measure.description,\n",
    "        #\"sql\": measure.sql,\n",
    "      }\n",
    "      my_fields.append(mes_def)\n",
    "  if explore.fields and explore.fields.parameters:\n",
    "    for parameter in explore.fields.parameters:\n",
    "      par_def = {\n",
    "        \"field_type\": \"Parameter\",\n",
    "        \"view_name\": parameter.view_label,\n",
    "        \"field_name\": parameter.name,\n",
    "        \"default_filter_value\": parameter.default_filter_value,\n",
    "        \"type\": parameter.type,\n",
    "        \"description\": parameter.description,\n",
    "        #\"sql\": parameter.sql,\n",
    "      }\n",
    "      my_fields.append(par_def)\n",
    "  return my_fields"
   ]
  },
  {
   "cell_type": "code",
   "execution_count": 111,
   "metadata": {},
   "outputs": [],
   "source": [
    "# for lookml_model in sdk.all_lookml_models():\n",
    "#   print('lookml model name:' + lookml_model.name)\n",
    "#   for one_explore in lookml_model.explores:\n",
    "#     print('explore name:' + one_explore.name)\n",
    "#     pprint(get_field_values(lookml_model.name, one_explore.name))\n",
    "fields = get_field_values(lookml_model, lookml_explore)"
   ]
  },
  {
   "cell_type": "code",
   "execution_count": 112,
   "metadata": {},
   "outputs": [],
   "source": [
    "import vertexai\n",
    "from langchain.chat_models import ChatVertexAI\n",
    "from langchain.llms import VertexAI\n",
    "import os\n",
    "\n",
    "PROJECT_ID = os.getenv(\"PROJECT_ID\")  # @param {type:\"string\"}\n",
    "vertexai.init(project=PROJECT_ID, location=\"us-central1\")\n",
    "\n",
    "llm_vertex = VertexAI(\n",
    "    #model_name=\"text-bison@latest\",\n",
    "    model_name=\"text-bison-32k\",\n",
    "    max_output_tokens=8000,\n",
    "    temperature=0,\n",
    "    top_p=0.8,\n",
    "    top_k=40,\n",
    ")\n"
   ]
  },
  {
   "cell_type": "code",
   "execution_count": 113,
   "metadata": {},
   "outputs": [],
   "source": [
    "llm = llm_vertex"
   ]
  },
  {
   "cell_type": "code",
   "execution_count": 114,
   "metadata": {},
   "outputs": [],
   "source": [
    "def choose_right_fields(fields, question):\n",
    "  sample_json = \"\"\"\n",
    "{\n",
    "  \"dimensions\": [\n",
    "    \"dimension1\",\n",
    "  ],\n",
    "  \"measures\": [\n",
    "    \"measure1\",\n",
    "  ],\n",
    "  \"filters\": [\n",
    "    {\n",
    "      \"field_name\": \"field_name1\",\n",
    "      \"values\": [\n",
    "        \"value1\"\n",
    "      ]\n",
    "    }\n",
    "  ],\n",
    "  \"sorts\": [\n",
    "    {\n",
    "      \"field_name\": \"field_name1\",\n",
    "      \"direction\": \"asc\"\n",
    "    }\n",
    "  ],\n",
    "  \"parameters\": [\n",
    "    \"param1\",\n",
    "  ],\n",
    "  \"pivots\": [\n",
    "    \"field1\"\n",
    "  ],\n",
    "  \"hidden_fields\": [\n",
    "    \"field1\"\n",
    "  ]\n",
    "}\n",
    "  \"\"\"\n",
    "\n",
    "  prompt_template = \"\"\"As a looker developer, choose right dimesions and measures for the question below. \n",
    "  You should choose right fields as least as possible and sort fields must be choosen in the dimension fields.\n",
    "\n",
    "  fields : {fields}\n",
    "\n",
    "  question: {question}\n",
    "\n",
    "  answer format: json\n",
    "  {sample_json}\n",
    "  \"\"\"\n",
    "  response = llm.predict(prompt_template.format(fields=fields, question=question, sample_json=sample_json))\n",
    "  return response\n",
    "\n",
    "\n"
   ]
  },
  {
   "cell_type": "code",
   "execution_count": null,
   "metadata": {},
   "outputs": [],
   "source": [
    "# Test Code.\n",
    "# get_field_values(lookml_model, lookml_explore)\n"
   ]
  },
  {
   "cell_type": "code",
   "execution_count": 115,
   "metadata": {},
   "outputs": [],
   "source": [
    "schema_fields = get_field_values(lookml_model, lookml_explore)\n",
    "response = choose_right_fields(fields=schema_fields, question=question) #S\n"
   ]
  },
  {
   "cell_type": "code",
   "execution_count": 116,
   "metadata": {},
   "outputs": [
    {
     "data": {
      "text/plain": [
       "' ```json\\n{\\n  \"dimensions\": [\\n    \"national_pension_mom.data_create_yearmonth_year\",\\n    \"national_pension_mom.data_create_yearmonth_month\",\\n    \"bizcategory.cat_l1\"\\n  ],\\n  \"measures\": [\\n    \"national_pension_mom.total_monthly_fixed_amount\"\\n  ],\\n  \"filters\": [\\n    {\\n      \"field_name\": \"national_pension_mom.data_create_yearmonth_year\",\\n      \"values\": [\\n        \"2022\"\\n      ]\\n    },\\n    {\\n      \"field_name\": \"bizcategory.cat_l1\",\\n      \"values\": [\\n        \"금융업\",\\n        \"보건업\"\\n      ]\\n    }\\n  ],\\n  \"sorts\": [\\n    {\\n      \"field_name\": \"national_pension_mom.data_create_yearmonth_month\",\\n      \"direction\": \"asc\"\\n    }\\n  ],\\n  \"parameters\": [],\\n  \"pivots\": [],\\n  \"hidden_fields\": []\\n}\\n```'"
      ]
     },
     "execution_count": 116,
     "metadata": {},
     "output_type": "execute_result"
    }
   ],
   "source": [
    "response"
   ]
  },
  {
   "cell_type": "code",
   "execution_count": 117,
   "metadata": {},
   "outputs": [],
   "source": [
    "def get_field_type(field_name, schema_fields):\n",
    "  for field in schema_fields:\n",
    "    if field['field_name'] == field_name:\n",
    "      return field['type']"
   ]
  },
  {
   "cell_type": "code",
   "execution_count": 118,
   "metadata": {},
   "outputs": [],
   "source": [
    "from langchain.output_parsers import PydanticOutputParser\n",
    "from langchain.pydantic_v1 import BaseModel, Field, validator\n",
    "from typing import List\n",
    "\n",
    "class LookerFilterValue(BaseModel):\n",
    "  field_name: str = Field(description=\"field_name\")\n",
    "  values: List[str] = Field(description=\"values\")\n",
    "\n",
    "class LookerSortField(BaseModel):\n",
    "  field_name: str = Field(description=\"field_name\")\n",
    "  direction: str = Field(description=\"direction\")\n",
    "\n",
    "class LookerQueryParameters(BaseModel):\n",
    "  dimensions: List[str] = Field(description=\"dimensions\")\n",
    "  measures: List[str] = Field(description=\"measures\")\n",
    "  parameters: List[str] = Field(description=\"parameters\")\n",
    "  filters: List[LookerFilterValue] = Field(description=\"filters\")\n",
    "  sorts: List[LookerSortField] = Field(description=\"sorts\")\n",
    "  pivots: List[str] = Field(description=\"pivot - These fields are used as pivots in the chart.\")\n",
    "  hidden_fields: List[str] = Field(description=\"hidden_fields - These fields are used as filters but are not shown in the chart.\")\n",
    "\n",
    "def get_right_fields_object(response):\n",
    "  parser = PydanticOutputParser(pydantic_object=LookerQueryParameters)\n",
    "  return parser.parse(response)\n"
   ]
  },
  {
   "cell_type": "code",
   "execution_count": 119,
   "metadata": {},
   "outputs": [],
   "source": [
    "related_fields = get_right_fields_object(response)"
   ]
  },
  {
   "cell_type": "code",
   "execution_count": 120,
   "metadata": {},
   "outputs": [],
   "source": [
    "def decide_to_retrieve_values_for_the_filters(related_fields):\n",
    "  output_sample = \"\"\"\n",
    "  {\n",
    "    \"required_target\": [\"field1\",\"field2\"]\n",
    "  }\n",
    "  \"\"\"\n",
    "  prompt_template = \"\"\"As a looker developer, decide whether to retrieve values for the filters below. \n",
    "  For example, date / timestamp columns don't need to retrieve values. but string columns need to retrieve values from the database.\n",
    "\n",
    "  filter fields : {filter_fields}\n",
    "\n",
    "  output sample : json array\n",
    "  {output_sample}\n",
    "  \"\"\"\n",
    "  response = llm.predict(prompt_template.format(filter_fields=related_fields.filters, output_sample=output_sample))\n",
    "  return response"
   ]
  },
  {
   "cell_type": "code",
   "execution_count": 121,
   "metadata": {},
   "outputs": [],
   "source": [
    "retrieve_target_filters = decide_to_retrieve_values_for_the_filters(related_fields)"
   ]
  },
  {
   "cell_type": "code",
   "execution_count": 122,
   "metadata": {},
   "outputs": [],
   "source": [
    "\n",
    "class LookerFilterRetrieves(BaseModel):\n",
    "  required_target: List[str] = Field(description=\"required_target\")\n",
    "\n",
    "def get_retrieve_target_filters_object(retrieve_target_filters):\n",
    "  parser = PydanticOutputParser(pydantic_object=LookerFilterRetrieves)\n",
    "  return parser.parse(retrieve_target_filters)\n"
   ]
  },
  {
   "cell_type": "code",
   "execution_count": 123,
   "metadata": {},
   "outputs": [
    {
     "data": {
      "text/plain": [
       "' ```json\\n  {\\n    \"required_target\": [\"national_pension_mom.data_create_yearmonth_year\", \"bizcategory.cat_l1\"]\\n  }\\n  ```'"
      ]
     },
     "execution_count": 123,
     "metadata": {},
     "output_type": "execute_result"
    }
   ],
   "source": [
    "retrieve_target_filters"
   ]
  },
  {
   "cell_type": "code",
   "execution_count": 124,
   "metadata": {},
   "outputs": [],
   "source": [
    "def get_user_input_value_for_filter_field(related_fields, field_name):\n",
    "  for filter in related_fields.filters:\n",
    "    if filter.field_name == field_name:\n",
    "      return filter.values\n",
    "  return \"\"\n"
   ]
  },
  {
   "cell_type": "code",
   "execution_count": 125,
   "metadata": {},
   "outputs": [],
   "source": [
    "retrieve_target_filter_obj = get_retrieve_target_filters_object(retrieve_target_filters)"
   ]
  },
  {
   "cell_type": "code",
   "execution_count": 126,
   "metadata": {},
   "outputs": [],
   "source": [
    "from looker_sdk.sdk.api31 import models as ml\n",
    "\n",
    "def get_validated_filter_values_from_looker(lookml_model, lookml_explore, retrieve_target_filter_obj):\n",
    "  choose_right_filter_value_list = []\n",
    "  for retrieve_target_filter in retrieve_target_filter_obj.required_target:\n",
    "    print(retrieve_target_filter)\n",
    "    query_template = ml.WriteQuery(model=lookml_model, view=lookml_explore,fields=[retrieve_target_filter])\n",
    "    query = sdk.create_query(query_template)\n",
    "    json_ = sdk.run_query(query.id, \"json\")\n",
    "    print(json_)\n",
    "    choose_right_filter_value_list.append({ retrieve_target_filter : json_})\n",
    "  return choose_right_filter_value_list\n",
    "    \n"
   ]
  },
  {
   "cell_type": "code",
   "execution_count": 127,
   "metadata": {},
   "outputs": [
    {
     "name": "stdout",
     "output_type": "stream",
     "text": [
      "national_pension_mom.data_create_yearmonth_year\n",
      "[{\"national_pension_mom.data_create_yearmonth_year\":2022}]\n",
      "bizcategory.cat_l1\n",
      "[{\"bizcategory.cat_l1\":\"가구 내 고용활동 및 달리 분류되지 않은 자가 소비 생산활동\"},\n",
      "{\"bizcategory.cat_l1\":\"건 설 업\"},\n",
      "{\"bizcategory.cat_l1\":\"공공 행정, 국방 및 사회보장 행정\"},\n",
      "{\"bizcategory.cat_l1\":\"광업\"},\n",
      "{\"bizcategory.cat_l1\":\"교육서비스업\"},\n",
      "{\"bizcategory.cat_l1\":\"금융 및 보험업\"},\n",
      "{\"bizcategory.cat_l1\":\"도매 및 소매업\"},\n",
      "{\"bizcategory.cat_l1\":\"보건업 및 사회복지 서비스업\"},\n",
      "{\"bizcategory.cat_l1\":\"부동산업\"},\n",
      "{\"bizcategory.cat_l1\":\"사업시설 관리, 사업 지원 및 임대 서비스업\"},\n",
      "{\"bizcategory.cat_l1\":\"수도, 하수 및 폐기물 처리, 원료 재생업\"},\n",
      "{\"bizcategory.cat_l1\":\"숙박 및 음식점업\"},\n",
      "{\"bizcategory.cat_l1\":\"예술, 스포츠 및 여가관련 서비스업\"},\n",
      "{\"bizcategory.cat_l1\":\"운수 및 창고업\"},\n",
      "{\"bizcategory.cat_l1\":\"전기, 가스, 증기 및 공기 조절 공급업\"},\n",
      "{\"bizcategory.cat_l1\":\"전문, 과학 및 기술 서비스업\"},\n",
      "{\"bizcategory.cat_l1\":\"정보통신업\"},\n",
      "{\"bizcategory.cat_l1\":\"제조업\"},\n",
      "{\"bizcategory.cat_l1\":\"협회 및 단체, 수리 및 기타 개인 서비스업\"},\n",
      "{\"bizcategory.cat_l1\":\"협회 및 단체, 수리 및 기타 개인서비스\"}]\n"
     ]
    }
   ],
   "source": [
    "retrieve_filter_and_values = get_validated_filter_values_from_looker(lookml_model, lookml_explore, retrieve_target_filter_obj)"
   ]
  },
  {
   "cell_type": "code",
   "execution_count": 128,
   "metadata": {},
   "outputs": [
    {
     "data": {
      "text/plain": [
       "[{'national_pension_mom.data_create_yearmonth_year': '[{\"national_pension_mom.data_create_yearmonth_year\":2022}]'},\n",
       " {'bizcategory.cat_l1': '[{\"bizcategory.cat_l1\":\"가구 내 고용활동 및 달리 분류되지 않은 자가 소비 생산활동\"},\\n{\"bizcategory.cat_l1\":\"건 설 업\"},\\n{\"bizcategory.cat_l1\":\"공공 행정, 국방 및 사회보장 행정\"},\\n{\"bizcategory.cat_l1\":\"광업\"},\\n{\"bizcategory.cat_l1\":\"교육서비스업\"},\\n{\"bizcategory.cat_l1\":\"금융 및 보험업\"},\\n{\"bizcategory.cat_l1\":\"도매 및 소매업\"},\\n{\"bizcategory.cat_l1\":\"보건업 및 사회복지 서비스업\"},\\n{\"bizcategory.cat_l1\":\"부동산업\"},\\n{\"bizcategory.cat_l1\":\"사업시설 관리, 사업 지원 및 임대 서비스업\"},\\n{\"bizcategory.cat_l1\":\"수도, 하수 및 폐기물 처리, 원료 재생업\"},\\n{\"bizcategory.cat_l1\":\"숙박 및 음식점업\"},\\n{\"bizcategory.cat_l1\":\"예술, 스포츠 및 여가관련 서비스업\"},\\n{\"bizcategory.cat_l1\":\"운수 및 창고업\"},\\n{\"bizcategory.cat_l1\":\"전기, 가스, 증기 및 공기 조절 공급업\"},\\n{\"bizcategory.cat_l1\":\"전문, 과학 및 기술 서비스업\"},\\n{\"bizcategory.cat_l1\":\"정보통신업\"},\\n{\"bizcategory.cat_l1\":\"제조업\"},\\n{\"bizcategory.cat_l1\":\"협회 및 단체, 수리 및 기타 개인 서비스업\"},\\n{\"bizcategory.cat_l1\":\"협회 및 단체, 수리 및 기타 개인서비스\"}]'}]"
      ]
     },
     "execution_count": 128,
     "metadata": {},
     "output_type": "execute_result"
    }
   ],
   "source": [
    "retrieve_filter_and_values"
   ]
  },
  {
   "cell_type": "code",
   "execution_count": 129,
   "metadata": {},
   "outputs": [],
   "source": [
    "def choose_right_filter_value(filter_values, wanted_value):\n",
    "  example_json = \"[{\\\"national_pension_mom.data_create_yearmonth_year\\\":2022}]\"\n",
    "  prompt_template = \"\"\"As a looker developer, choose right filter value for the wanted value below without changing filter value itself.\n",
    "\n",
    "  example :\n",
    "  {example_json}\n",
    "\n",
    "  filter_values : {filter_values}\n",
    "\n",
    "  wanted_values: {wanted_value}\n",
    "\n",
    "  answer format: json array\n",
    "  [filter_value1, filter_value2, ...]\n",
    "  \"\"\"\n",
    "  response = llm.predict(prompt_template.format(example_json=example_json,filter_values=filter_values, wanted_value=wanted_value))\n",
    "  return response  "
   ]
  },
  {
   "cell_type": "code",
   "execution_count": 130,
   "metadata": {},
   "outputs": [],
   "source": [
    "import json\n",
    "\n",
    "# class LookerValidFilterValue(BaseModel):\n",
    "#   field_name: str = Field(description=\"field_name\")\n",
    "#   field_values: List[str] = Field(description=\"field_values\")\n",
    "\n",
    "# def parse_valid_filter_values(response):\n",
    "#   parser = PydanticOutputParser(pydantic_object=LookerValidFilterValue)\n",
    "#   return parser.parse(response)\n",
    "\n",
    "def parse_valid_filter_values(response):\n",
    "  print('llm response:'+ response)\n",
    "  start_index = response.find('[')\n",
    "  end_index = response.rfind(']')\n",
    "  json_data = response[start_index:end_index+1]\n",
    "  parsed_json = json.loads(json_data)\n",
    "  return parsed_json"
   ]
  },
  {
   "cell_type": "code",
   "execution_count": 131,
   "metadata": {},
   "outputs": [],
   "source": [
    "def get_appropriate_filter_value_pair(related_fields, retrieve_filter_and_values):\n",
    "  filter_value_pair = []\n",
    "  for filter_and_values in retrieve_filter_and_values:\n",
    "    field_name = list(filter_and_values.keys())[0]\n",
    "    #print(filter_and_values)\n",
    "    user_input_value = get_user_input_value_for_filter_field(related_fields, field_name)\n",
    "    #print(user_input_value)\n",
    "    actual_value = choose_right_filter_value(filter_and_values, user_input_value)\n",
    "    #print(actual_value)  \n",
    "    value_object = parse_valid_filter_values(actual_value)\n",
    "    #print(value_object)\n",
    "    filter_value_pair.append(value_object)\n",
    "  return filter_value_pair\n"
   ]
  },
  {
   "cell_type": "code",
   "execution_count": 132,
   "metadata": {},
   "outputs": [
    {
     "name": "stdout",
     "output_type": "stream",
     "text": [
      "llm response: [{\"national_pension_mom.data_create_yearmonth_year\":2022}]\n",
      "llm response: [{\"bizcategory.cat_l1\":\"금융 및 보험업\"}, {\"bizcategory.cat_l1\":\"보건업 및 사회복지 서비스업\"}]\n"
     ]
    }
   ],
   "source": [
    "valid_filter_values = get_appropriate_filter_value_pair(related_fields, retrieve_filter_and_values)"
   ]
  },
  {
   "cell_type": "code",
   "execution_count": 133,
   "metadata": {},
   "outputs": [
    {
     "data": {
      "text/plain": [
       "[[{'national_pension_mom.data_create_yearmonth_year': 2022}],\n",
       " [{'bizcategory.cat_l1': '금융 및 보험업'},\n",
       "  {'bizcategory.cat_l1': '보건업 및 사회복지 서비스업'}]]"
      ]
     },
     "execution_count": 133,
     "metadata": {},
     "output_type": "execute_result"
    }
   ],
   "source": [
    "valid_filter_values"
   ]
  },
  {
   "cell_type": "code",
   "execution_count": 134,
   "metadata": {},
   "outputs": [],
   "source": [
    "def get_quoted_value(valid_filter_values, field_name):\n",
    "  values = []\n",
    "  for filter_values in valid_filter_values:\n",
    "    print(filter_values)\n",
    "    for filter_value in filter_values:\n",
    "      field_name_cmp = list(filter_value.keys())[0]\n",
    "      field_value = list(filter_value.values())[0]\n",
    "      field_type = get_field_type(field_name, schema_fields)\n",
    "      if field_name_cmp == field_name:\n",
    "        if field_type == 'string':\n",
    "          values.append(field_value)\n",
    "        else:\n",
    "          values.append(str(field_value))\n",
    "  return ','.join(values)\n",
    "  "
   ]
  },
  {
   "cell_type": "code",
   "execution_count": 135,
   "metadata": {},
   "outputs": [],
   "source": [
    "from typing import cast, Dict, List, Union\n",
    "\n",
    "\n",
    "def get_lookml_filter_values(valid_filter_values, filters):\n",
    "  filter_dict:Dict[str, str] = {}\n",
    "  for filter in filters:\n",
    "    field_name = filter.field_name\n",
    "    quoted_values = get_quoted_value(valid_filter_values, field_name)\n",
    "    filter.values = quoted_values\n",
    "    filter_dict[field_name] = quoted_values\n",
    "  return filter_dict"
   ]
  },
  {
   "cell_type": "code",
   "execution_count": 136,
   "metadata": {},
   "outputs": [
    {
     "name": "stdout",
     "output_type": "stream",
     "text": [
      "[{'national_pension_mom.data_create_yearmonth_year': 2022}]\n",
      "[{'bizcategory.cat_l1': '금융 및 보험업'}, {'bizcategory.cat_l1': '보건업 및 사회복지 서비스업'}]\n",
      "[{'national_pension_mom.data_create_yearmonth_year': 2022}]\n",
      "[{'bizcategory.cat_l1': '금융 및 보험업'}, {'bizcategory.cat_l1': '보건업 및 사회복지 서비스업'}]\n",
      "{'national_pension_mom.data_create_yearmonth_year': '2022', 'bizcategory.cat_l1': '금융 및 보험업,보건업 및 사회복지 서비스업'}\n"
     ]
    }
   ],
   "source": [
    "print(get_lookml_filter_values(valid_filter_values, related_fields.filters))"
   ]
  },
  {
   "cell_type": "code",
   "execution_count": 137,
   "metadata": {},
   "outputs": [
    {
     "name": "stdout",
     "output_type": "stream",
     "text": [
      "field_name='national_pension_mom.data_create_yearmonth_month' direction='asc'\n"
     ]
    }
   ],
   "source": [
    "for sorted_column in related_fields.sorts:\n",
    "  print(sorted_column)"
   ]
  },
  {
   "cell_type": "code",
   "execution_count": 138,
   "metadata": {},
   "outputs": [
    {
     "name": "stdout",
     "output_type": "stream",
     "text": [
      "dimensions=['national_pension_mom.data_create_yearmonth_year', 'national_pension_mom.data_create_yearmonth_month', 'bizcategory.cat_l1'] measures=['national_pension_mom.total_monthly_fixed_amount'] parameters=[] filters=[LookerFilterValue(field_name='national_pension_mom.data_create_yearmonth_year', values='2022'), LookerFilterValue(field_name='bizcategory.cat_l1', values='금융 및 보험업,보건업 및 사회복지 서비스업')] sorts=[LookerSortField(field_name='national_pension_mom.data_create_yearmonth_month', direction='asc')] pivots=[] hidden_fields=[]\n"
     ]
    }
   ],
   "source": [
    "print(related_fields)"
   ]
  },
  {
   "cell_type": "code",
   "execution_count": 139,
   "metadata": {},
   "outputs": [],
   "source": [
    "def make_dimension_and_description_pair(related_fields, schema_fields):\n",
    "  dimension_and_description_pair = []\n",
    "  for one_dimension in related_fields.dimensions:\n",
    "    for dimension in schema_fields:\n",
    "      if dimension['field_name'] == one_dimension:\n",
    "        dimension_and_description_pair.append((one_dimension, dimension['description']))\n",
    "  return dimension_and_description_pair\n"
   ]
  },
  {
   "cell_type": "code",
   "execution_count": 140,
   "metadata": {},
   "outputs": [],
   "source": [
    "def choose_chart_type_and_pivots(related_fields, schema_fields, question):\n",
    "  dimension_and_description_pair = make_dimension_and_description_pair(related_fields, schema_fields)\n",
    "  sample_json = \"\"\"{\n",
    "  \"chart_type\": \"looker_column\",\n",
    "  \"date_time_dimensions\": [\"dimension1\"],\n",
    "  \"pivots\": [\n",
    "    \"field1\"\n",
    "  ],\n",
    "  \"hidden_fields\": [\n",
    "    \"field1\"\n",
    "  ]\n",
    "  \"reason_to_choose\": \"I choose field1 as a pivot field because ...\"\n",
    "  }\"\"\"\n",
    "  prompt_template = \"\"\"As a looker developer, choose chart type and pivot fields and hidden fields in the given dimensions for the question below. \n",
    "  Pivot field is a field that is used to create a pivot table. A pivot field converts category values in the field to columns so that you can compare different category values. \n",
    "  For example, if you have sales data, you can compare sales by product by setting the \"Product\" field as a pivot field. Date/time fields MUST not be used as pivot fields.\n",
    "  Hidden field is a field that is not displayed in a chart. Hidden fields are used to hide fields that are not needed in the chart or that can confuse users. \n",
    "  For example, the \"Product ID\" field can be used to identify products, but it does not need to be displayed in a chart. If there are two same date fields, one of them can be hidden. \n",
    "  At least one field must be a visible field that is not used in pivot fields or hidden fields.\n",
    "\n",
    "  chart_types : \n",
    "  looker_column - Column charts are useful when you want to compare the values of multiple fields for multiple records. It needs one main field to show the values separated by the main field. And this field must not be a pivot field.\n",
    "  looker_line - Line charts are useful when you want to show the changes in a value over time. They are also useful for comparing the changes in two or more values over time.\n",
    "  looker_area - Area charts are useful when you want to compare the trends of two or more values over time. They are also useful for showing the cumulative sum of values over time.\n",
    "  looker_funnel - Funnel charts are useful to understand events in a sequential process, like prospect stages in a sales pipeline, engagement with a marketing campaign, or visitor movement through a website.\n",
    "  looker_pie - Pie charts are useful when you want to show the proportion of values to the total value. They are also useful for comparing the proportional differences between values.\n",
    "  looker_timeline - Timeline charts are useful when you want to show events over time. They are also useful for showing the duration of events. It needs at least 3 fields. 1. Event Name 2. Start Date 3. End Date\n",
    "  looker_table - Table charts are useful when you want to show the values of multiple fields for multiple records. They are also useful for showing the values of multiple fields for a single record.\n",
    "\n",
    "  dimensions : \n",
    "  {dimensions}\n",
    "\n",
    "  question:\n",
    "  {question}\n",
    "\n",
    "  answer format: json\n",
    "  {sample_json}\n",
    "  \"\"\"\n",
    "  prompt_full = prompt_template.format(dimensions=dimension_and_description_pair, question=question, sample_json=sample_json)\n",
    "  #print(prompt_full)\n",
    "  response = llm.predict(prompt_full)\n",
    "  return response"
   ]
  },
  {
   "cell_type": "code",
   "execution_count": 141,
   "metadata": {},
   "outputs": [],
   "source": [
    "class LookerChartTypeClassifier(BaseModel):\n",
    "  chart_type: str = Field(description=\"chart_type\")\n",
    "  date_time_dimensions: List[str] = Field(description=\"date_time_dimensions\")\n",
    "  pivots: List[str] = Field(description=\"pivot fields\")\n",
    "  hidden_fields: List[str] = Field(description=\"hidden fields\")\n",
    "  reason_to_choose: str = Field(description=\"reason_to_choose\")\n",
    "\n",
    "def get_looker_chart_type(reponse):\n",
    "  parser = PydanticOutputParser(pydantic_object=LookerChartTypeClassifier)\n",
    "  return parser.parse(response)\n"
   ]
  },
  {
   "cell_type": "code",
   "execution_count": 142,
   "metadata": {},
   "outputs": [],
   "source": [
    "llm_response = choose_chart_type_and_pivots(related_fields, schema_fields, question)"
   ]
  },
  {
   "cell_type": "code",
   "execution_count": 143,
   "metadata": {},
   "outputs": [
    {
     "name": "stdout",
     "output_type": "stream",
     "text": [
      "llm response: {\n",
      "  \"chart_type\": \"looker_column\",\n",
      "  \"date_time_dimensions\": [\n",
      "    \"national_pension_mom.data_create_yearmonth_month\"\n",
      "  ],\n",
      "  \"pivots\": [\n",
      "    \"bizcategory.cat_l1\"\n",
      "  ],\n",
      "  \"hidden_fields\": [\n",
      "    \"national_pension_mom.data_create_yearmonth_year\"\n",
      "  ],\n",
      "  \"reason_to_choose\": \"I choose national_pension_mom.data_create_yearmonth_month as a date_time_dimension because it is the most granular date field available. I choose bizcategory.cat_l1 as a pivot field because it is the most relevant field to the question. I choose to hide national_pension_mom.data_create_yearmonth_year because it is not relevant to the question.\"\n",
      "}\n"
     ]
    }
   ],
   "source": [
    "def parse_valid_json_values(response):\n",
    "  print('llm response:'+ response)\n",
    "  start_index = response.find('{')\n",
    "  end_index = response.rfind('}')\n",
    "  json_data = response[start_index:end_index+1]\n",
    "  parsed_json = json.loads(json_data)\n",
    "  return parsed_json\n",
    "\n",
    "chart_type_and_pivots = parse_valid_json_values(llm_response)"
   ]
  },
  {
   "cell_type": "code",
   "execution_count": 144,
   "metadata": {},
   "outputs": [
    {
     "data": {
      "text/plain": [
       "{'chart_type': 'looker_column',\n",
       " 'date_time_dimensions': ['national_pension_mom.data_create_yearmonth_month'],\n",
       " 'pivots': ['bizcategory.cat_l1'],\n",
       " 'hidden_fields': ['national_pension_mom.data_create_yearmonth_year'],\n",
       " 'reason_to_choose': 'I choose national_pension_mom.data_create_yearmonth_month as a date_time_dimension because it is the most granular date field available. I choose bizcategory.cat_l1 as a pivot field because it is the most relevant field to the question. I choose to hide national_pension_mom.data_create_yearmonth_year because it is not relevant to the question.'}"
      ]
     },
     "execution_count": 144,
     "metadata": {},
     "output_type": "execute_result"
    }
   ],
   "source": [
    "# chart_type_and_pivots = get_looker_chart_type(llm_response)\n",
    "chart_type_and_pivots"
   ]
  },
  {
   "cell_type": "code",
   "execution_count": 145,
   "metadata": {},
   "outputs": [],
   "source": [
    "def make_query_for_the_look(lookml_model, lookml_explore, related_fields, valid_filter_values):\n",
    "  fields = []\n",
    "  fields.extend(related_fields.dimensions)\n",
    "  fields.extend(related_fields.measures)\n",
    "  filters = get_lookml_filter_values(valid_filter_values, related_fields.filters)\n",
    "  hidden_fields = chart_type_and_pivots['hidden_fields']\n",
    "  pivot_fields = chart_type_and_pivots['pivots']\n",
    "  chart_type = chart_type_and_pivots['chart_type']\n",
    "  print('fields:' + str(fields))\n",
    "  print('filters:' + str(filters))\n",
    "  print('hidden_fields:' + str(hidden_fields))\n",
    "  print('pivot_fields:' + str(pivot_fields))\n",
    "  print('chart_type:' + str(chart_type))\n",
    "  query_template = ml.WriteQuery(model=lookml_model, view=lookml_explore,fields=fields,filters=filters,pivots=pivot_fields,vis_config={'type':chart_type, 'hidden_fields':hidden_fields})\n",
    "  query = sdk.create_query(query_template)\n",
    "  run_response = sdk.run_inline_query(\"json\", query)\n",
    "  print('query.id:' + str(query.id))\n",
    "  return query\n",
    "    "
   ]
  },
  {
   "cell_type": "code",
   "execution_count": 146,
   "metadata": {},
   "outputs": [
    {
     "name": "stdout",
     "output_type": "stream",
     "text": [
      "[{'national_pension_mom.data_create_yearmonth_year': 2022}]\n",
      "[{'bizcategory.cat_l1': '금융 및 보험업'}, {'bizcategory.cat_l1': '보건업 및 사회복지 서비스업'}]\n",
      "[{'national_pension_mom.data_create_yearmonth_year': 2022}]\n",
      "[{'bizcategory.cat_l1': '금융 및 보험업'}, {'bizcategory.cat_l1': '보건업 및 사회복지 서비스업'}]\n",
      "fields:['national_pension_mom.data_create_yearmonth_year', 'national_pension_mom.data_create_yearmonth_month', 'bizcategory.cat_l1', 'national_pension_mom.total_monthly_fixed_amount']\n",
      "filters:{'national_pension_mom.data_create_yearmonth_year': '2022', 'bizcategory.cat_l1': '금융 및 보험업,보건업 및 사회복지 서비스업'}\n",
      "hidden_fields:['national_pension_mom.data_create_yearmonth_year']\n",
      "pivot_fields:['bizcategory.cat_l1']\n",
      "chart_type:looker_column\n",
      "query.id:1243\n",
      "1243\n"
     ]
    }
   ],
   "source": [
    "generated_query = make_query_for_the_look(lookml_model, lookml_explore, related_fields, valid_filter_values)\n",
    "print(generated_query.id)\n",
    "\n"
   ]
  },
  {
   "cell_type": "code",
   "execution_count": 147,
   "metadata": {},
   "outputs": [],
   "source": [
    "## Caution : 'title' field should be unique for each look. You should change this field to create new look.\n",
    "\n",
    "def create_look(question, generated_query):\n",
    "  existing_look = sdk.search_looks(query_id=generated_query.id)\n",
    "  if len(existing_look) > 0:\n",
    "    return existing_look[0]\n",
    "  new_look = sdk.create_look(ml.WriteLookWithQuery(query_id=generated_query.id, \n",
    "    description=question,\n",
    "    deleted=False,\n",
    "    is_run_on_load=True,\n",
    "    public=True,\n",
    "    folder_id=str(sdk.me().personal_folder_id),\n",
    "    title=question+\"generated2\"))\n",
    "  return new_look\n"
   ]
  },
  {
   "cell_type": "code",
   "execution_count": 148,
   "metadata": {},
   "outputs": [],
   "source": [
    "new_look = create_look(question, generated_query)"
   ]
  },
  {
   "cell_type": "code",
   "execution_count": 149,
   "metadata": {},
   "outputs": [
    {
     "name": "stdout",
     "output_type": "stream",
     "text": [
      "http://localhost:8080/looks/11\n"
     ]
    }
   ],
   "source": [
    "def get_full_url(short_url):\n",
    "  return 'http://localhost:8080' + short_url\n",
    "\n",
    "print(get_full_url(new_look.short_url))"
   ]
  },
  {
   "cell_type": "code",
   "execution_count": 150,
   "metadata": {},
   "outputs": [
    {
     "name": "stdout",
     "output_type": "stream",
     "text": [
      "Group(can={'show': True, 'create': True, 'index': True, 'update': False, 'delete': False, 'edit_in_ui': False, 'add_to_content_metadata': True}, can_add_to_content_metadata=True, contains_current_user=True, external_group_id=None, externally_managed=True, id=1, include_by_default=True, name='All Users', user_count=4)\n",
      "Group(can={'show': True, 'create': True, 'index': True, 'update': True, 'delete': True, 'edit_in_ui': True, 'add_to_content_metadata': True}, can_add_to_content_metadata=True, contains_current_user=True, external_group_id=None, externally_managed=False, id=3, include_by_default=False, name='embedded_user', user_count=3)\n",
      "Group(can={'show': True, 'create': True, 'index': True, 'update': True, 'delete': True, 'edit_in_ui': True, 'add_to_content_metadata': True}, can_add_to_content_metadata=True, contains_current_user=False, external_group_id=None, externally_managed=False, id=2, include_by_default=False, name='User', user_count=0)\n"
     ]
    }
   ],
   "source": [
    "for group in sdk.all_groups():\n",
    "  print(group)"
   ]
  },
  {
   "cell_type": "code",
   "execution_count": 151,
   "metadata": {},
   "outputs": [],
   "source": [
    "sso_url = sdk.create_sso_embed_url(ml.EmbedSsoParams(target_url=get_full_url(new_look.short_url), group_ids=[3]))"
   ]
  },
  {
   "cell_type": "code",
   "execution_count": 152,
   "metadata": {},
   "outputs": [
    {
     "name": "stdout",
     "output_type": "stream",
     "text": [
      "http://localhost:8080/login/embed/%2Fembed%2Flooks%2F11?permissions=null&models=null&signature=gi5aW%2BOpkNtL4T5RcRCNV7qlc40%3D&nonce=%22fd20d73d7453e47d43238a4bc75e9685%22&time=1701214909&session_length=300&external_user_id=%22%22&access_filters=%7B%7D&group_ids=%5B3%5D&force_logout_login=true\n"
     ]
    }
   ],
   "source": [
    "print(sso_url.url)"
   ]
  },
  {
   "cell_type": "code",
   "execution_count": 153,
   "metadata": {},
   "outputs": [
    {
     "name": "stdout",
     "output_type": "stream",
     "text": [
      "Look 비교형 샘플\n",
      "Query(model='lookml_hol_sample', view='national_pension_mom', can={'run': True, 'see_results': True, 'explore': True, 'create': True, 'show': True, 'cost_estimate': True, 'index': True, 'see_lookml': True, 'see_aggregate_table_lookml': True, 'see_derived_table_lookml': True, 'see_sql': True, 'save': True, 'generate_drill_links': True, 'download': True, 'download_unlimited': True, 'use_custom_fields': True, 'edit_custom_fields': True, 'edit_table_calculations': True, 'schedule': True}, id=1002, fields=['bizcategory.cat_l1', 'national_pension_mom.datapoint_create_yearmonth_month', 'national_pension_mom.total_monthly_fixed_amount'], pivots=['bizcategory.cat_l1'], fill_fields=['national_pension_mom.datapoint_create_yearmonth_month'], filters={'national_pension_mom.datapoint_create_yearmonth_year': '2022', 'national_pension_mom.compared_month': '1', 'bizcategory.cat_l1': '건 설 업,제조업'}, filter_expression=None, sorts=['bizcategory.cat_l1', 'national_pension_mom.datapoint_create_yearmonth_month desc'], limit='500', column_limit='50', total=None, row_total=None, subtotals=None, vis_config={'x_axis_gridlines': False, 'y_axis_gridlines': True, 'show_view_names': False, 'show_y_axis_labels': True, 'show_y_axis_ticks': True, 'y_axis_tick_density': 'default', 'y_axis_tick_density_custom': 5, 'show_x_axis_label': True, 'show_x_axis_ticks': True, 'y_axis_scale_mode': 'linear', 'x_axis_reversed': False, 'y_axis_reversed': False, 'plot_size_by_field': False, 'trellis': '', 'stacking': '', 'limit_displayed_rows': False, 'legend_position': 'center', 'point_style': 'none', 'show_value_labels': False, 'label_density': 25, 'x_axis_scale': 'auto', 'y_axis_combined': True, 'show_null_points': True, 'interpolation': 'linear', 'type': 'looker_line', 'show_row_numbers': True, 'truncate_column_names': False, 'hide_totals': False, 'hide_row_totals': False, 'table_theme': 'editable', 'enable_conditional_formatting': False, 'conditional_formatting_include_totals': False, 'conditional_formatting_include_nulls': False, 'defaults_version': 1, 'series_types': {}, 'hidden_pivots': {}}, filter_config={'national_pension_mom.datapoint_create_yearmonth_year': [{'type': 'year', 'values': [{'constant': '2022'}, {}], 'id': 0, 'error': False}], 'national_pension_mom.compared_month': [{'type': '=', 'values': [{'constant': '1'}, {}], 'id': 1, 'error': False}], 'bizcategory.cat_l1': [{'type': '=', 'values': [{'constant': '건 설 업,제조업'}, {}], 'id': 2, 'error': False}]}, visible_ui_sections=None, slug='HX9QN8j', dynamic_fields=None, client_id='wrdjZc6Zn9lT8vUNfRsshD', share_url='https://localhost:9999/x/wrdjZc6Zn9lT8vUNfRsshD', expanded_share_url='https://localhost:9999/explore/lookml_hol_sample/national_pension_mom?fields=bizcategory.cat_l1,national_pension_mom.datapoint_create_yearmonth_month,national_pension_mom.total_monthly_fixed_amount&pivots=bizcategory.cat_l1&fill_fields=national_pension_mom.datapoint_create_yearmonth_month&f[national_pension_mom.datapoint_create_yearmonth_year]=2022&f[national_pension_mom.compared_month]=1&f[bizcategory.cat_l1]=%EA%B1%B4+%EC%84%A4+%EC%97%85%2C%EC%A0%9C%EC%A1%B0%EC%97%85&sorts=bizcategory.cat_l1,national_pension_mom.datapoint_create_yearmonth_month+desc&limit=500&column_limit=50&query_timezone=America%2FLos_Angeles&vis=%7B%22x_axis_gridlines%22%3Afalse%2C%22y_axis_gridlines%22%3Atrue%2C%22show_view_names%22%3Afalse%2C%22show_y_axis_labels%22%3Atrue%2C%22show_y_axis_ticks%22%3Atrue%2C%22y_axis_tick_density%22%3A%22default%22%2C%22y_axis_tick_density_custom%22%3A5%2C%22show_x_axis_label%22%3Atrue%2C%22show_x_axis_ticks%22%3Atrue%2C%22y_axis_scale_mode%22%3A%22linear%22%2C%22x_axis_reversed%22%3Afalse%2C%22y_axis_reversed%22%3Afalse%2C%22plot_size_by_field%22%3Afalse%2C%22trellis%22%3A%22%22%2C%22stacking%22%3A%22%22%2C%22limit_displayed_rows%22%3Afalse%2C%22legend_position%22%3A%22center%22%2C%22point_style%22%3A%22none%22%2C%22show_value_labels%22%3Afalse%2C%22label_density%22%3A25%2C%22x_axis_scale%22%3A%22auto%22%2C%22y_axis_combined%22%3Atrue%2C%22show_null_points%22%3Atrue%2C%22interpolation%22%3A%22linear%22%2C%22type%22%3A%22looker_line%22%2C%22show_row_numbers%22%3Atrue%2C%22truncate_column_names%22%3Afalse%2C%22hide_totals%22%3Afalse%2C%22hide_row_totals%22%3Afalse%2C%22table_theme%22%3A%22editable%22%2C%22enable_conditional_formatting%22%3Afalse%2C%22conditional_formatting_include_totals%22%3Afalse%2C%22conditional_formatting_include_nulls%22%3Afalse%2C%22defaults_version%22%3A1%2C%22series_types%22%3A%7B%7D%2C%22hidden_pivots%22%3A%7B%7D%7D&filter_config=%7B%22national_pension_mom.datapoint_create_yearmonth_year%22%3A%5B%7B%22type%22%3A%22year%22%2C%22values%22%3A%5B%7B%22constant%22%3A%222022%22%7D%2C%7B%7D%5D%2C%22id%22%3A0%2C%22error%22%3Afalse%7D%5D%2C%22national_pension_mom.compared_month%22%3A%5B%7B%22type%22%3A%22%3D%22%2C%22values%22%3A%5B%7B%22constant%22%3A%221%22%7D%2C%7B%7D%5D%2C%22id%22%3A1%2C%22error%22%3Afalse%7D%5D%2C%22bizcategory.cat_l1%22%3A%5B%7B%22type%22%3A%22%3D%22%2C%22values%22%3A%5B%7B%22constant%22%3A%22%EA%B1%B4+%EC%84%A4+%EC%97%85%2C%EC%A0%9C%EC%A1%B0%EC%97%85%22%7D%2C%7B%7D%5D%2C%22id%22%3A2%2C%22error%22%3Afalse%7D%5D%7D&origin=share-expanded', url='/explore/lookml_hol_sample/national_pension_mom?fields=bizcategory.cat_l1,national_pension_mom.datapoint_create_yearmonth_month,national_pension_mom.total_monthly_fixed_amount&pivots=bizcategory.cat_l1&fill_fields=national_pension_mom.datapoint_create_yearmonth_month&f[national_pension_mom.datapoint_create_yearmonth_year]=2022&f[national_pension_mom.compared_month]=1&f[bizcategory.cat_l1]=%EA%B1%B4+%EC%84%A4+%EC%97%85%2C%EC%A0%9C%EC%A1%B0%EC%97%85&sorts=bizcategory.cat_l1,national_pension_mom.datapoint_create_yearmonth_month+desc&limit=500&column_limit=50&query_timezone=America%2FLos_Angeles&vis=%7B%22x_axis_gridlines%22%3Afalse%2C%22y_axis_gridlines%22%3Atrue%2C%22show_view_names%22%3Afalse%2C%22show_y_axis_labels%22%3Atrue%2C%22show_y_axis_ticks%22%3Atrue%2C%22y_axis_tick_density%22%3A%22default%22%2C%22y_axis_tick_density_custom%22%3A5%2C%22show_x_axis_label%22%3Atrue%2C%22show_x_axis_ticks%22%3Atrue%2C%22y_axis_scale_mode%22%3A%22linear%22%2C%22x_axis_reversed%22%3Afalse%2C%22y_axis_reversed%22%3Afalse%2C%22plot_size_by_field%22%3Afalse%2C%22trellis%22%3A%22%22%2C%22stacking%22%3A%22%22%2C%22limit_displayed_rows%22%3Afalse%2C%22legend_position%22%3A%22center%22%2C%22point_style%22%3A%22none%22%2C%22show_value_labels%22%3Afalse%2C%22label_density%22%3A25%2C%22x_axis_scale%22%3A%22auto%22%2C%22y_axis_combined%22%3Atrue%2C%22show_null_points%22%3Atrue%2C%22interpolation%22%3A%22linear%22%2C%22type%22%3A%22looker_line%22%2C%22show_row_numbers%22%3Atrue%2C%22truncate_column_names%22%3Afalse%2C%22hide_totals%22%3Afalse%2C%22hide_row_totals%22%3Afalse%2C%22table_theme%22%3A%22editable%22%2C%22enable_conditional_formatting%22%3Afalse%2C%22conditional_formatting_include_totals%22%3Afalse%2C%22conditional_formatting_include_nulls%22%3Afalse%2C%22defaults_version%22%3A1%2C%22series_types%22%3A%7B%7D%2C%22hidden_pivots%22%3A%7B%7D%7D&filter_config=%7B%22national_pension_mom.datapoint_create_yearmonth_year%22%3A%5B%7B%22type%22%3A%22year%22%2C%22values%22%3A%5B%7B%22constant%22%3A%222022%22%7D%2C%7B%7D%5D%2C%22id%22%3A0%2C%22error%22%3Afalse%7D%5D%2C%22national_pension_mom.compared_month%22%3A%5B%7B%22type%22%3A%22%3D%22%2C%22values%22%3A%5B%7B%22constant%22%3A%221%22%7D%2C%7B%7D%5D%2C%22id%22%3A1%2C%22error%22%3Afalse%7D%5D%2C%22bizcategory.cat_l1%22%3A%5B%7B%22type%22%3A%22%3D%22%2C%22values%22%3A%5B%7B%22constant%22%3A%22%EA%B1%B4+%EC%84%A4+%EC%97%85%2C%EC%A0%9C%EC%A1%B0%EC%97%85%22%7D%2C%7B%7D%5D%2C%22id%22%3A2%2C%22error%22%3Afalse%7D%5D%7D', query_timezone='America/Los_Angeles', has_table_calculations=False, runtime=None)\n",
      "Bar Chart Example\n",
      "Query(model='lookml_hol_sample', view='national_pension_mom', can={'run': True, 'see_results': True, 'explore': True, 'create': True, 'show': True, 'cost_estimate': True, 'index': True, 'see_lookml': True, 'see_aggregate_table_lookml': True, 'see_derived_table_lookml': True, 'see_sql': True, 'save': True, 'generate_drill_links': True, 'download': True, 'download_unlimited': True, 'use_custom_fields': True, 'edit_custom_fields': True, 'edit_table_calculations': True, 'schedule': True}, id=1120, fields=['national_pension_mom.data_create_yearmonth_year', 'national_pension_mom.data_create_yearmonth_month', 'bizcategory.cat_l1', 'national_pension_mom.total_monthly_fixed_amount'], pivots=['bizcategory.cat_l1'], fill_fields=None, filters={'national_pension_mom.data_create_yearmonth_year': '2022', 'bizcategory.cat_l1': '건 설 업,제조업', 'national_pension_mom.compared_month': '1'}, filter_expression=None, sorts=['bizcategory.cat_l1', 'national_pension_mom.data_create_yearmonth_month'], limit='500', column_limit='50', total=None, row_total=None, subtotals=None, vis_config={'x_axis_gridlines': False, 'y_axis_gridlines': True, 'show_view_names': False, 'show_y_axis_labels': True, 'show_y_axis_ticks': True, 'y_axis_tick_density': 'default', 'y_axis_tick_density_custom': 5, 'show_x_axis_label': True, 'show_x_axis_ticks': True, 'y_axis_scale_mode': 'linear', 'x_axis_reversed': False, 'y_axis_reversed': False, 'plot_size_by_field': False, 'trellis': '', 'stacking': '', 'limit_displayed_rows': False, 'legend_position': 'center', 'point_style': 'none', 'show_value_labels': False, 'label_density': 25, 'x_axis_scale': 'auto', 'y_axis_combined': True, 'ordering': 'none', 'show_null_labels': False, 'show_totals_labels': False, 'show_silhouette': False, 'totals_color': '#808080', 'type': 'looker_column', 'show_row_numbers': True, 'truncate_column_names': False, 'hide_totals': False, 'hide_row_totals': False, 'table_theme': 'editable', 'enable_conditional_formatting': False, 'conditional_formatting_include_totals': False, 'conditional_formatting_include_nulls': False, 'defaults_version': 1, 'series_types': {}, 'hidden_pivots': {}, 'hidden_fields': ['national_pension_mom.data_create_yearmonth_year']}, filter_config={'national_pension_mom.data_create_yearmonth_year': [{'type': 'year', 'values': [{'constant': '2022'}, {}], 'id': 12, 'error': False}], 'bizcategory.cat_l1': [{'type': '=', 'values': [{'constant': '건 설 업,제조업'}, {}], 'id': 13, 'error': False}], 'national_pension_mom.compared_month': [{'type': '=', 'values': [{'constant': '1'}, {}], 'id': 11, 'error': False}]}, visible_ui_sections=None, slug='PCMnPhg', dynamic_fields=None, client_id='wrJPQ4XpTfDmm6fOFgb5lT', share_url='https://localhost:9999/x/wrJPQ4XpTfDmm6fOFgb5lT', expanded_share_url='https://localhost:9999/explore/lookml_hol_sample/national_pension_mom?fields=national_pension_mom.data_create_yearmonth_year,national_pension_mom.data_create_yearmonth_month,bizcategory.cat_l1,national_pension_mom.total_monthly_fixed_amount&pivots=bizcategory.cat_l1&f[national_pension_mom.data_create_yearmonth_year]=2022&f[bizcategory.cat_l1]=%EA%B1%B4+%EC%84%A4+%EC%97%85%2C%EC%A0%9C%EC%A1%B0%EC%97%85&f[national_pension_mom.compared_month]=1&sorts=bizcategory.cat_l1,national_pension_mom.data_create_yearmonth_month&limit=500&column_limit=50&vis=%7B%22x_axis_gridlines%22%3Afalse%2C%22y_axis_gridlines%22%3Atrue%2C%22show_view_names%22%3Afalse%2C%22show_y_axis_labels%22%3Atrue%2C%22show_y_axis_ticks%22%3Atrue%2C%22y_axis_tick_density%22%3A%22default%22%2C%22y_axis_tick_density_custom%22%3A5%2C%22show_x_axis_label%22%3Atrue%2C%22show_x_axis_ticks%22%3Atrue%2C%22y_axis_scale_mode%22%3A%22linear%22%2C%22x_axis_reversed%22%3Afalse%2C%22y_axis_reversed%22%3Afalse%2C%22plot_size_by_field%22%3Afalse%2C%22trellis%22%3A%22%22%2C%22stacking%22%3A%22%22%2C%22limit_displayed_rows%22%3Afalse%2C%22legend_position%22%3A%22center%22%2C%22point_style%22%3A%22none%22%2C%22show_value_labels%22%3Afalse%2C%22label_density%22%3A25%2C%22x_axis_scale%22%3A%22auto%22%2C%22y_axis_combined%22%3Atrue%2C%22ordering%22%3A%22none%22%2C%22show_null_labels%22%3Afalse%2C%22show_totals_labels%22%3Afalse%2C%22show_silhouette%22%3Afalse%2C%22totals_color%22%3A%22%23808080%22%2C%22type%22%3A%22looker_column%22%2C%22show_row_numbers%22%3Atrue%2C%22truncate_column_names%22%3Afalse%2C%22hide_totals%22%3Afalse%2C%22hide_row_totals%22%3Afalse%2C%22table_theme%22%3A%22editable%22%2C%22enable_conditional_formatting%22%3Afalse%2C%22conditional_formatting_include_totals%22%3Afalse%2C%22conditional_formatting_include_nulls%22%3Afalse%2C%22defaults_version%22%3A1%2C%22series_types%22%3A%7B%7D%2C%22hidden_pivots%22%3A%7B%7D%2C%22hidden_fields%22%3A%5B%22national_pension_mom.data_create_yearmonth_year%22%5D%7D&filter_config=%7B%22national_pension_mom.data_create_yearmonth_year%22%3A%5B%7B%22type%22%3A%22year%22%2C%22values%22%3A%5B%7B%22constant%22%3A%222022%22%7D%2C%7B%7D%5D%2C%22id%22%3A12%2C%22error%22%3Afalse%7D%5D%2C%22bizcategory.cat_l1%22%3A%5B%7B%22type%22%3A%22%3D%22%2C%22values%22%3A%5B%7B%22constant%22%3A%22%EA%B1%B4+%EC%84%A4+%EC%97%85%2C%EC%A0%9C%EC%A1%B0%EC%97%85%22%7D%2C%7B%7D%5D%2C%22id%22%3A13%2C%22error%22%3Afalse%7D%5D%2C%22national_pension_mom.compared_month%22%3A%5B%7B%22type%22%3A%22%3D%22%2C%22values%22%3A%5B%7B%22constant%22%3A%221%22%7D%2C%7B%7D%5D%2C%22id%22%3A11%2C%22error%22%3Afalse%7D%5D%7D&origin=share-expanded', url='/explore/lookml_hol_sample/national_pension_mom?fields=national_pension_mom.data_create_yearmonth_year,national_pension_mom.data_create_yearmonth_month,bizcategory.cat_l1,national_pension_mom.total_monthly_fixed_amount&pivots=bizcategory.cat_l1&f[national_pension_mom.data_create_yearmonth_year]=2022&f[bizcategory.cat_l1]=%EA%B1%B4+%EC%84%A4+%EC%97%85%2C%EC%A0%9C%EC%A1%B0%EC%97%85&f[national_pension_mom.compared_month]=1&sorts=bizcategory.cat_l1,national_pension_mom.data_create_yearmonth_month&limit=500&column_limit=50&vis=%7B%22x_axis_gridlines%22%3Afalse%2C%22y_axis_gridlines%22%3Atrue%2C%22show_view_names%22%3Afalse%2C%22show_y_axis_labels%22%3Atrue%2C%22show_y_axis_ticks%22%3Atrue%2C%22y_axis_tick_density%22%3A%22default%22%2C%22y_axis_tick_density_custom%22%3A5%2C%22show_x_axis_label%22%3Atrue%2C%22show_x_axis_ticks%22%3Atrue%2C%22y_axis_scale_mode%22%3A%22linear%22%2C%22x_axis_reversed%22%3Afalse%2C%22y_axis_reversed%22%3Afalse%2C%22plot_size_by_field%22%3Afalse%2C%22trellis%22%3A%22%22%2C%22stacking%22%3A%22%22%2C%22limit_displayed_rows%22%3Afalse%2C%22legend_position%22%3A%22center%22%2C%22point_style%22%3A%22none%22%2C%22show_value_labels%22%3Afalse%2C%22label_density%22%3A25%2C%22x_axis_scale%22%3A%22auto%22%2C%22y_axis_combined%22%3Atrue%2C%22ordering%22%3A%22none%22%2C%22show_null_labels%22%3Afalse%2C%22show_totals_labels%22%3Afalse%2C%22show_silhouette%22%3Afalse%2C%22totals_color%22%3A%22%23808080%22%2C%22type%22%3A%22looker_column%22%2C%22show_row_numbers%22%3Atrue%2C%22truncate_column_names%22%3Afalse%2C%22hide_totals%22%3Afalse%2C%22hide_row_totals%22%3Afalse%2C%22table_theme%22%3A%22editable%22%2C%22enable_conditional_formatting%22%3Afalse%2C%22conditional_formatting_include_totals%22%3Afalse%2C%22conditional_formatting_include_nulls%22%3Afalse%2C%22defaults_version%22%3A1%2C%22series_types%22%3A%7B%7D%2C%22hidden_pivots%22%3A%7B%7D%2C%22hidden_fields%22%3A%5B%22national_pension_mom.data_create_yearmonth_year%22%5D%7D&filter_config=%7B%22national_pension_mom.data_create_yearmonth_year%22%3A%5B%7B%22type%22%3A%22year%22%2C%22values%22%3A%5B%7B%22constant%22%3A%222022%22%7D%2C%7B%7D%5D%2C%22id%22%3A12%2C%22error%22%3Afalse%7D%5D%2C%22bizcategory.cat_l1%22%3A%5B%7B%22type%22%3A%22%3D%22%2C%22values%22%3A%5B%7B%22constant%22%3A%22%EA%B1%B4+%EC%84%A4+%EC%97%85%2C%EC%A0%9C%EC%A1%B0%EC%97%85%22%7D%2C%7B%7D%5D%2C%22id%22%3A13%2C%22error%22%3Afalse%7D%5D%2C%22national_pension_mom.compared_month%22%3A%5B%7B%22type%22%3A%22%3D%22%2C%22values%22%3A%5B%7B%22constant%22%3A%221%22%7D%2C%7B%7D%5D%2C%22id%22%3A11%2C%22error%22%3Afalse%7D%5D%7D', query_timezone=None, has_table_calculations=False, runtime=None)\n",
      "생성일 기준 2022년으로, 월별로, 건설업, 제조업에 대한 연금합계를 보여줘.generated1\n",
      "Query(model='lookml_hol_sample', view='national_pension_mom', can={'run': True, 'see_results': True, 'explore': True, 'create': True, 'show': True, 'cost_estimate': True, 'index': True, 'see_lookml': True, 'see_aggregate_table_lookml': True, 'see_derived_table_lookml': True, 'see_sql': True, 'save': True, 'generate_drill_links': True, 'download': True, 'download_unlimited': True, 'use_custom_fields': True, 'edit_custom_fields': True, 'edit_table_calculations': True, 'schedule': True}, id=1122, fields=['national_pension_mom.data_create_yearmonth_year', 'national_pension_mom.data_create_yearmonth_month', 'bizcategory.cat_l1', 'national_pension_mom.total_monthly_fixed_amount'], pivots=['bizcategory.cat_l1'], fill_fields=None, filters={'national_pension_mom.data_create_yearmonth_year': '2022', 'bizcategory.cat_l1': '건 설 업,제조업'}, filter_expression=None, sorts=None, limit=None, column_limit=None, total=None, row_total=None, subtotals=None, vis_config={'type': 'looker_column', 'hidden_fields': ['national_pension_mom.data_create_yearmonth_year']}, filter_config=None, visible_ui_sections=None, slug='XQ2xc9B', dynamic_fields=None, client_id='IscmrwGaZyJCOVVqRuUsJK', share_url='https://localhost:9999/x/IscmrwGaZyJCOVVqRuUsJK', expanded_share_url='https://localhost:9999/explore/lookml_hol_sample/national_pension_mom?fields=national_pension_mom.data_create_yearmonth_year,national_pension_mom.data_create_yearmonth_month,bizcategory.cat_l1,national_pension_mom.total_monthly_fixed_amount&pivots=bizcategory.cat_l1&f[national_pension_mom.data_create_yearmonth_year]=2022&f[bizcategory.cat_l1]=%EA%B1%B4+%EC%84%A4+%EC%97%85%2C%EC%A0%9C%EC%A1%B0%EC%97%85&vis=%7B%22type%22%3A%22looker_column%22%2C%22hidden_fields%22%3A%5B%22national_pension_mom.data_create_yearmonth_year%22%5D%7D&origin=share-expanded', url='/explore/lookml_hol_sample/national_pension_mom?fields=national_pension_mom.data_create_yearmonth_year,national_pension_mom.data_create_yearmonth_month,bizcategory.cat_l1,national_pension_mom.total_monthly_fixed_amount&pivots=bizcategory.cat_l1&f[national_pension_mom.data_create_yearmonth_year]=2022&f[bizcategory.cat_l1]=%EA%B1%B4+%EC%84%A4+%EC%97%85%2C%EC%A0%9C%EC%A1%B0%EC%97%85&vis=%7B%22type%22%3A%22looker_column%22%2C%22hidden_fields%22%3A%5B%22national_pension_mom.data_create_yearmonth_year%22%5D%7D', query_timezone=None, has_table_calculations=False, runtime=None)\n",
      "생성일 기준 2022년으로, 월별로, 건설업, 제조업에 대한 연금합계를 보여줘.3\n",
      "Query(model='lookml_hol_sample', view='national_pension_mom', can={'run': True, 'see_results': True, 'explore': True, 'create': True, 'show': True, 'cost_estimate': True, 'index': True, 'see_lookml': True, 'see_aggregate_table_lookml': True, 'see_derived_table_lookml': True, 'see_sql': True, 'save': True, 'generate_drill_links': True, 'download': True, 'download_unlimited': True, 'use_custom_fields': True, 'edit_custom_fields': True, 'edit_table_calculations': True, 'schedule': True}, id=1147, fields=['national_pension_mom.data_create_yearmonth_year', 'national_pension_mom.data_create_yearmonth_month', 'bizcategory.cat_l1', 'national_pension_mom.total_monthly_fixed_amount'], pivots=['bizcategory.cat_l1'], fill_fields=None, filters={'national_pension_mom.data_create_yearmonth_year': '2022', 'bizcategory.cat_l1': '건 설 업,제조업'}, filter_expression=None, sorts=None, limit=None, column_limit=None, total=None, row_total=None, subtotals=None, vis_config={'type': 'looker_column', 'hidden_fields': ['national_pension_mom.data_create_yearmonth_year', 'national_pension_mom.data_create_yearmonth_month']}, filter_config=None, visible_ui_sections=None, slug='txyd6MT', dynamic_fields=None, client_id='rVvxriMzIryfTkERqQs71d', share_url='https://localhost:9999/x/rVvxriMzIryfTkERqQs71d', expanded_share_url='https://localhost:9999/explore/lookml_hol_sample/national_pension_mom?fields=national_pension_mom.data_create_yearmonth_year,national_pension_mom.data_create_yearmonth_month,bizcategory.cat_l1,national_pension_mom.total_monthly_fixed_amount&pivots=bizcategory.cat_l1&f[national_pension_mom.data_create_yearmonth_year]=2022&f[bizcategory.cat_l1]=%EA%B1%B4+%EC%84%A4+%EC%97%85%2C%EC%A0%9C%EC%A1%B0%EC%97%85&query_timezone=Asia%2FSeoul&vis=%7B%22type%22%3A%22looker_column%22%2C%22hidden_fields%22%3A%5B%22national_pension_mom.data_create_yearmonth_year%22%2C%22national_pension_mom.data_create_yearmonth_month%22%5D%7D&origin=share-expanded', url='/explore/lookml_hol_sample/national_pension_mom?fields=national_pension_mom.data_create_yearmonth_year,national_pension_mom.data_create_yearmonth_month,bizcategory.cat_l1,national_pension_mom.total_monthly_fixed_amount&pivots=bizcategory.cat_l1&f[national_pension_mom.data_create_yearmonth_year]=2022&f[bizcategory.cat_l1]=%EA%B1%B4+%EC%84%A4+%EC%97%85%2C%EC%A0%9C%EC%A1%B0%EC%97%85&query_timezone=Asia%2FSeoul&vis=%7B%22type%22%3A%22looker_column%22%2C%22hidden_fields%22%3A%5B%22national_pension_mom.data_create_yearmonth_year%22%2C%22national_pension_mom.data_create_yearmonth_month%22%5D%7D', query_timezone='Asia/Seoul', has_table_calculations=False, runtime=None)\n",
      "생성일 기준 2022년으로, 월별로, 건설업, 제조업에 대한 연금합계를 보여줘.4\n",
      "Query(model='lookml_hol_sample', view='national_pension_mom', can={'run': True, 'see_results': True, 'explore': True, 'create': True, 'show': True, 'cost_estimate': True, 'index': True, 'see_lookml': True, 'see_aggregate_table_lookml': True, 'see_derived_table_lookml': True, 'see_sql': True, 'save': True, 'generate_drill_links': True, 'download': True, 'download_unlimited': True, 'use_custom_fields': True, 'edit_custom_fields': True, 'edit_table_calculations': True, 'schedule': True}, id=1156, fields=['national_pension_mom.data_create_yearmonth_year', 'national_pension_mom.data_create_yearmonth_month', 'bizcategory.cat_l1', 'national_pension_mom.total_monthly_fixed_amount'], pivots=['bizcategory.cat_l1'], fill_fields=None, filters={'national_pension_mom.data_create_yearmonth_year': '2022', 'bizcategory.cat_l1': '건 설 업,제조업'}, filter_expression=None, sorts=None, limit=None, column_limit=None, total=None, row_total=None, subtotals=None, vis_config={'type': 'looker_column', 'hidden_fields': ['national_pension_mom.data_create_yearmonth_year']}, filter_config=None, visible_ui_sections=None, slug='9WRcrDV', dynamic_fields=None, client_id='pPPOS86BAcmqQIVUztBpLp', share_url='https://localhost:9999/x/pPPOS86BAcmqQIVUztBpLp', expanded_share_url='https://localhost:9999/explore/lookml_hol_sample/national_pension_mom?fields=national_pension_mom.data_create_yearmonth_year,national_pension_mom.data_create_yearmonth_month,bizcategory.cat_l1,national_pension_mom.total_monthly_fixed_amount&pivots=bizcategory.cat_l1&f[national_pension_mom.data_create_yearmonth_year]=2022&f[bizcategory.cat_l1]=%EA%B1%B4+%EC%84%A4+%EC%97%85%2C%EC%A0%9C%EC%A1%B0%EC%97%85&query_timezone=Asia%2FSeoul&vis=%7B%22type%22%3A%22looker_column%22%2C%22hidden_fields%22%3A%5B%22national_pension_mom.data_create_yearmonth_year%22%5D%7D&origin=share-expanded', url='/explore/lookml_hol_sample/national_pension_mom?fields=national_pension_mom.data_create_yearmonth_year,national_pension_mom.data_create_yearmonth_month,bizcategory.cat_l1,national_pension_mom.total_monthly_fixed_amount&pivots=bizcategory.cat_l1&f[national_pension_mom.data_create_yearmonth_year]=2022&f[bizcategory.cat_l1]=%EA%B1%B4+%EC%84%A4+%EC%97%85%2C%EC%A0%9C%EC%A1%B0%EC%97%85&query_timezone=Asia%2FSeoul&vis=%7B%22type%22%3A%22looker_column%22%2C%22hidden_fields%22%3A%5B%22national_pension_mom.data_create_yearmonth_year%22%5D%7D', query_timezone='Asia/Seoul', has_table_calculations=False, runtime=None)\n",
      "생성일 기준 2022년으로, 산업 분류별 연금합계를 보여줘.4\n",
      "Query(model='lookml_hol_sample', view='national_pension_mom', can={'run': True, 'see_results': True, 'explore': True, 'create': True, 'show': True, 'cost_estimate': True, 'index': True, 'see_lookml': True, 'see_aggregate_table_lookml': True, 'see_derived_table_lookml': True, 'see_sql': True, 'save': True, 'generate_drill_links': True, 'download': True, 'download_unlimited': True, 'use_custom_fields': True, 'edit_custom_fields': True, 'edit_table_calculations': True, 'schedule': True}, id=1160, fields=['bizcategory.cat_l1', 'national_pension_mom.data_create_yearmonth_year', 'national_pension_mom.total_monthly_fixed_amount'], pivots=['bizcategory.cat_l1'], fill_fields=None, filters={'national_pension_mom.data_create_yearmonth_year': '2022'}, filter_expression=None, sorts=None, limit=None, column_limit=None, total=None, row_total=None, subtotals=None, vis_config={'type': 'looker_column', 'hidden_fields': ['national_pension_mom.data_create_yearmonth_year']}, filter_config=None, visible_ui_sections=None, slug='FKhsPXN', dynamic_fields=None, client_id='Q8qG2wzzhOemEfLFTEn9vf', share_url='https://localhost:9999/x/Q8qG2wzzhOemEfLFTEn9vf', expanded_share_url='https://localhost:9999/explore/lookml_hol_sample/national_pension_mom?fields=bizcategory.cat_l1,national_pension_mom.data_create_yearmonth_year,national_pension_mom.total_monthly_fixed_amount&pivots=bizcategory.cat_l1&f[national_pension_mom.data_create_yearmonth_year]=2022&query_timezone=Asia%2FSeoul&vis=%7B%22type%22%3A%22looker_column%22%2C%22hidden_fields%22%3A%5B%22national_pension_mom.data_create_yearmonth_year%22%5D%7D&origin=share-expanded', url='/explore/lookml_hol_sample/national_pension_mom?fields=bizcategory.cat_l1,national_pension_mom.data_create_yearmonth_year,national_pension_mom.total_monthly_fixed_amount&pivots=bizcategory.cat_l1&f[national_pension_mom.data_create_yearmonth_year]=2022&query_timezone=Asia%2FSeoul&vis=%7B%22type%22%3A%22looker_column%22%2C%22hidden_fields%22%3A%5B%22national_pension_mom.data_create_yearmonth_year%22%5D%7D', query_timezone='Asia/Seoul', has_table_calculations=False, runtime=None)\n",
      "생성일 기준 2022년으로, 산업 분류별 연금평균을 보여줘.4\n",
      "Query(model='lookml_hol_sample', view='national_pension_mom', can={'run': True, 'see_results': True, 'explore': True, 'create': True, 'show': True, 'cost_estimate': True, 'index': True, 'see_lookml': True, 'see_aggregate_table_lookml': True, 'see_derived_table_lookml': True, 'see_sql': True, 'save': True, 'generate_drill_links': True, 'download': True, 'download_unlimited': True, 'use_custom_fields': True, 'edit_custom_fields': True, 'edit_table_calculations': True, 'schedule': True}, id=1165, fields=['bizcategory.cat_l1', 'national_pension_mom.data_create_yearmonth_year', 'national_pension_mom.average_monthly_fixed_amount'], pivots=['bizcategory.cat_l1'], fill_fields=None, filters={'national_pension_mom.data_create_yearmonth_year': '2022'}, filter_expression=None, sorts=None, limit=None, column_limit=None, total=None, row_total=None, subtotals=None, vis_config={'type': 'looker_column', 'hidden_fields': ['national_pension_mom.data_create_yearmonth_year']}, filter_config=None, visible_ui_sections=None, slug='zTtK5b3', dynamic_fields=None, client_id='ouA30dzttSp8sk4T6r7mXl', share_url='https://localhost:9999/x/ouA30dzttSp8sk4T6r7mXl', expanded_share_url='https://localhost:9999/explore/lookml_hol_sample/national_pension_mom?fields=bizcategory.cat_l1,national_pension_mom.data_create_yearmonth_year,national_pension_mom.average_monthly_fixed_amount&pivots=bizcategory.cat_l1&f[national_pension_mom.data_create_yearmonth_year]=2022&query_timezone=Asia%2FSeoul&vis=%7B%22type%22%3A%22looker_column%22%2C%22hidden_fields%22%3A%5B%22national_pension_mom.data_create_yearmonth_year%22%5D%7D&origin=share-expanded', url='/explore/lookml_hol_sample/national_pension_mom?fields=bizcategory.cat_l1,national_pension_mom.data_create_yearmonth_year,national_pension_mom.average_monthly_fixed_amount&pivots=bizcategory.cat_l1&f[national_pension_mom.data_create_yearmonth_year]=2022&query_timezone=Asia%2FSeoul&vis=%7B%22type%22%3A%22looker_column%22%2C%22hidden_fields%22%3A%5B%22national_pension_mom.data_create_yearmonth_year%22%5D%7D', query_timezone='Asia/Seoul', has_table_calculations=False, runtime=None)\n",
      "생성일 기준 2022년으로, 월별로, 금융업, 보건업에 대한 연금합계를 보여줘봐.generated2\n",
      "Query(model='lookml_hol_sample', view='national_pension_mom', can={'run': True, 'see_results': True, 'explore': True, 'create': True, 'show': True, 'cost_estimate': True, 'index': True, 'see_lookml': True, 'see_aggregate_table_lookml': True, 'see_derived_table_lookml': True, 'see_sql': True, 'save': True, 'generate_drill_links': True, 'download': True, 'download_unlimited': True, 'use_custom_fields': True, 'edit_custom_fields': True, 'edit_table_calculations': True, 'schedule': True}, id=1243, fields=['national_pension_mom.data_create_yearmonth_year', 'national_pension_mom.data_create_yearmonth_month', 'bizcategory.cat_l1', 'national_pension_mom.total_monthly_fixed_amount'], pivots=['bizcategory.cat_l1'], fill_fields=None, filters={'national_pension_mom.data_create_yearmonth_year': '2022', 'bizcategory.cat_l1': '금융 및 보험업,보건업 및 사회복지 서비스업'}, filter_expression=None, sorts=None, limit=None, column_limit=None, total=None, row_total=None, subtotals=None, vis_config={'type': 'looker_column', 'hidden_fields': ['national_pension_mom.data_create_yearmonth_year']}, filter_config=None, visible_ui_sections=None, slug='jCvXvYT', dynamic_fields=None, client_id='SH47EWi424vccJakvw2Eq4', share_url='https://localhost:9999/x/SH47EWi424vccJakvw2Eq4', expanded_share_url='https://localhost:9999/explore/lookml_hol_sample/national_pension_mom?fields=national_pension_mom.data_create_yearmonth_year,national_pension_mom.data_create_yearmonth_month,bizcategory.cat_l1,national_pension_mom.total_monthly_fixed_amount&pivots=bizcategory.cat_l1&f[national_pension_mom.data_create_yearmonth_year]=2022&f[bizcategory.cat_l1]=%EA%B8%88%EC%9C%B5+%EB%B0%8F+%EB%B3%B4%ED%97%98%EC%97%85%2C%EB%B3%B4%EA%B1%B4%EC%97%85+%EB%B0%8F+%EC%82%AC%ED%9A%8C%EB%B3%B5%EC%A7%80+%EC%84%9C%EB%B9%84%EC%8A%A4%EC%97%85&vis=%7B%22type%22%3A%22looker_column%22%2C%22hidden_fields%22%3A%5B%22national_pension_mom.data_create_yearmonth_year%22%5D%7D&origin=share-expanded', url='/explore/lookml_hol_sample/national_pension_mom?fields=national_pension_mom.data_create_yearmonth_year,national_pension_mom.data_create_yearmonth_month,bizcategory.cat_l1,national_pension_mom.total_monthly_fixed_amount&pivots=bizcategory.cat_l1&f[national_pension_mom.data_create_yearmonth_year]=2022&f[bizcategory.cat_l1]=%EA%B8%88%EC%9C%B5+%EB%B0%8F+%EB%B3%B4%ED%97%98%EC%97%85%2C%EB%B3%B4%EA%B1%B4%EC%97%85+%EB%B0%8F+%EC%82%AC%ED%9A%8C%EB%B3%B5%EC%A7%80+%EC%84%9C%EB%B9%84%EC%8A%A4%EC%97%85&vis=%7B%22type%22%3A%22looker_column%22%2C%22hidden_fields%22%3A%5B%22national_pension_mom.data_create_yearmonth_year%22%5D%7D', query_timezone=None, has_table_calculations=False, runtime=None)\n"
     ]
    }
   ],
   "source": [
    "for one_look in sdk.all_looks():\n",
    "  print(one_look.title)\n",
    "  query = sdk.query(one_look.query_id)\n",
    "  print(query)\n"
   ]
  },
  {
   "cell_type": "markdown",
   "metadata": {},
   "source": [
    "THe below image is a look created by the above codes. \n",
    "\n",
    "![alt Looker View image](resources/looker_view_9.png \"Title\")\n",
    "\n",
    "![alt Looker View image](resources/looker_view_8.png \"Title\")"
   ]
  },
  {
   "cell_type": "markdown",
   "metadata": {},
   "source": [
    "## RAG Architecture with SQLs\n",
    "\n",
    "In many cases, there are lots of SQLs already used in the business. In that, Paretto's Rule exists - small portion of SQLs are more frequently used in the real case. \n",
    "LLM can convert SQL into plain english to describe the goal of SQLs. And RAG architecture can help to search appropriate SQLs for the user's request.\n",
    "\n",
    "I will use public dataset to show this case. "
   ]
  },
  {
   "cell_type": "code",
   "execution_count": null,
   "metadata": {},
   "outputs": [],
   "source": [
    "#!pip install pandas\n",
    "#!pip install db-dtypes\n",
    "#!pip install matplotlib"
   ]
  },
  {
   "cell_type": "code",
   "execution_count": null,
   "metadata": {},
   "outputs": [],
   "source": [
    "from google.cloud import bigquery\n",
    "client = bigquery.Client()"
   ]
  },
  {
   "cell_type": "code",
   "execution_count": null,
   "metadata": {},
   "outputs": [],
   "source": [
    "import pandas as pd\n",
    "\n",
    "df_c_cpi = client.query('SELECT * FROM `bigquery-public-data.bls.cpi_u`').to_dataframe()"
   ]
  },
  {
   "cell_type": "code",
   "execution_count": null,
   "metadata": {},
   "outputs": [],
   "source": [
    "# distinct values in each columns of the dataframe\n",
    "df_c_cpi.nunique()\n"
   ]
  },
  {
   "cell_type": "code",
   "execution_count": null,
   "metadata": {},
   "outputs": [],
   "source": [
    "# head of the 'iten_name' column's distinct values\n",
    "df_c_cpi['item_name'].unique()[:20]"
   ]
  },
  {
   "cell_type": "code",
   "execution_count": null,
   "metadata": {},
   "outputs": [],
   "source": [
    "df_ts_cpi = df_c_cpi[(df_c_cpi['item_name'] == 'All items') & (df_c_cpi['area_name'] == 'U.S. city average')][['date', 'value']]\n",
    "\n",
    "# convert the 'date' column to datetime type\n",
    "df_ts_cpi['date'] = pd.to_datetime(df_ts_cpi['date'])\n",
    "\n",
    "# set the 'date' column as the index of the dataframe\n",
    "df_ts_cpi.set_index('date', inplace=True)\n"
   ]
  },
  {
   "cell_type": "code",
   "execution_count": null,
   "metadata": {},
   "outputs": [],
   "source": [
    "df_ts_cpi.plot(figsize=(20, 6), title='Consumer Price Index (CPI)')"
   ]
  },
  {
   "cell_type": "code",
   "execution_count": null,
   "metadata": {},
   "outputs": [],
   "source": [
    "# make new dataframe with item_name == 'Commodities' and area_name == 'U.S. city average'\n",
    "# and select only 'date' and 'value' columns\n",
    "df_ts_cpi_commodities = df_c_cpi[(df_c_cpi['item_name'] == 'Commodities') & (df_c_cpi['area_name'] == 'U.S. city average')][['date', 'value']]\n"
   ]
  },
  {
   "cell_type": "code",
   "execution_count": null,
   "metadata": {},
   "outputs": [],
   "source": [
    "\n",
    "# convert the 'date' column to datetime type\n",
    "df_ts_cpi_commodities['date'] = pd.to_datetime(df_ts_cpi_commodities['date'])\n",
    "\n",
    "# set the 'date' column as the index of the dataframe\n",
    "df_ts_cpi_commodities.set_index('date', inplace=True)\n",
    "\n",
    "df_ts_cpi_commodities.plot(figsize=(20, 6), title='Consumer Price Index (CPI) - Commodities')"
   ]
  },
  {
   "cell_type": "code",
   "execution_count": null,
   "metadata": {},
   "outputs": [],
   "source": [
    "# make new dataframe with item_name == 'Food' and area_name == 'U.S. city average'\n",
    "# and select only 'date' and 'value' columns\n",
    "df_ts_cpi_food = df_c_cpi[(df_c_cpi['item_name'] == 'Food') & (df_c_cpi['area_name'] == 'U.S. city average')][['date', 'value']]\n",
    "# convert the 'date' column to datetime type\n",
    "df_ts_cpi_food['date'] = pd.to_datetime(df_ts_cpi_food['date'])\n",
    "# set the 'date' column as the index of the dataframe\n",
    "df_ts_cpi_food.set_index('date', inplace=True)\n",
    "df_ts_cpi_food.plot(figsize=(20, 6), title='Consumer Price Index (CPI) - Food')"
   ]
  },
  {
   "cell_type": "code",
   "execution_count": null,
   "metadata": {},
   "outputs": [],
   "source": [
    "sql_query_average_cpi = \"\"\"with tb_average_cpi as (\n",
    "  select date, value from `bigquery-public-data.bls.cpi_u` where item_name = %s and area_name = %s order by date asc\n",
    "  ), \n",
    "  select * from tb_average_cpi\"\"\"\n",
    "\n",
    "sql_schema = \"\"\"\n",
    "series_id\tSTRING\tREQUIRED\t\t\t\t- The series id of the data. This is a unique identifier for the data series. It determine item_code / area_code / survey_abbreviation / seasonal_code / periodicity_code\n",
    "year\tINTEGER\tNULLABLE\t\t\t\t\n",
    "period\tSTRING\tNULLABLE\t\t\t\t\n",
    "value\tFLOAT\tNULLABLE\t\t\t\t\n",
    "footnote_codes\tSTRING\tNULLABLE\t\t\t\t\n",
    "survey_abbreviation\tSTRING\tNULLABLE\t\t\t\t\n",
    "seasonal_code\tSTRING\tNULLABLE\t\t\t\t\n",
    "periodicity_code\tSTRING\tNULLABLE\t\t\t\t\n",
    "area_code\tSTRING\tNULLABLE\t\t\t\t\n",
    "area_name\tSTRING\tNULLABLE\t\t\t\t\n",
    "item_code\tSTRING\tNULLABLE\t\t\t\t\n",
    "item_name\tSTRING\tNULLABLE\t\t\t\t\n",
    "date\tDATE\tNULLABLE\t\n",
    "\"\"\""
   ]
  },
  {
   "cell_type": "code",
   "execution_count": null,
   "metadata": {},
   "outputs": [],
   "source": [
    "# !pip install pgvector\n",
    "#!pip install psycopg"
   ]
  },
  {
   "cell_type": "code",
   "execution_count": null,
   "metadata": {},
   "outputs": [],
   "source": [
    "import vector_util\n"
   ]
  },
  {
   "cell_type": "code",
   "execution_count": null,
   "metadata": {},
   "outputs": [],
   "source": [
    "import importlib\n",
    "importlib.reload(vector_util)\n",
    "\n",
    "vdb = vector_util.VectorDatabase()"
   ]
  },
  {
   "cell_type": "code",
   "execution_count": null,
   "metadata": {},
   "outputs": [],
   "source": [
    "def convert_sql_to_description(schema, sql_query):\n",
    "  sample_format = \"\"\"\n",
    "  {\n",
    "    \"description\" : \"The output of the query can be used to track the CPI over time for a specific item and area. It can also be used to compare the CPI for different items and areas.\",\n",
    "    \"input_parameters\" : [\n",
    "      {\n",
    "        \"parameter_name\" : \"cpi_item_name\",\n",
    "        \"parameter_type\" : \"string\",\n",
    "        \"matched_column_name\" : \"item_name\",\n",
    "        \"matched_table_name\" : \"bigquery-public-data.bls.cpi_u\"\n",
    "      }\n",
    "    ],\n",
    "    \"output_values\" : [\n",
    "      {\n",
    "        \"column_name\" : \"registration_date\",\n",
    "        \"column_type\" : \"date\"\n",
    "        \"matched_column_name\" : \"sample_date\",\n",
    "        \"matched_table_name\" : \"bigquery-public-data.sample2\"\n",
    "      }\n",
    "    ]\n",
    "  }\n",
    "  \"\"\"\n",
    "\n",
    "  prompt_template = \"\"\"As a business domain developer, convert the given sql & schema into plain english in json format.\n",
    "\n",
    "  schema : \n",
    "  {schema}  \n",
    "\n",
    "  sql query : \n",
    "  {sql_query}\n",
    "\n",
    "  output format : json\n",
    "  {sample_format}\n",
    "  \"\"\"\n",
    "  response = llm.predict(prompt_template.format(schema=schema, sql_query=sql_query, sample_format=sample_format))\n",
    "  return response\n",
    "  "
   ]
  },
  {
   "cell_type": "code",
   "execution_count": null,
   "metadata": {},
   "outputs": [],
   "source": [
    "import json\n",
    "\n",
    "def parse_json_response(llm_json_response) -> any:\n",
    "  #print('llm response:'+ response)\n",
    "  start_char = '['\n",
    "  end_char = ']'\n",
    "  if llm_json_response.find('[') == -1 or llm_json_response.find('{') < llm_json_response.find('[') :\n",
    "    start_char = '{'\n",
    "    end_char = '}'\n",
    "  start_index = llm_json_response.find(start_char)\n",
    "  end_index = llm_json_response.rfind(end_char)\n",
    "  json_data = llm_json_response[start_index:end_index+1]\n",
    "  parsed_json = json.loads(json_data)\n",
    "  return parsed_json\n"
   ]
  },
  {
   "cell_type": "code",
   "execution_count": null,
   "metadata": {},
   "outputs": [],
   "source": [
    "sql_description = parse_json_response(convert_sql_to_description(sql_schema, sql_query_average_cpi))"
   ]
  },
  {
   "cell_type": "code",
   "execution_count": null,
   "metadata": {},
   "outputs": [],
   "source": [
    "sql_description"
   ]
  },
  {
   "cell_type": "code",
   "execution_count": null,
   "metadata": {},
   "outputs": [],
   "source": [
    "from langchain.embeddings import VertexAIEmbeddings\n",
    "\n",
    "embeddings = VertexAIEmbeddings()\n"
   ]
  },
  {
   "cell_type": "code",
   "execution_count": null,
   "metadata": {},
   "outputs": [],
   "source": [
    "print(type(sql_description['description']))\n",
    "print(str(sql_description['description']))\n",
    "print(type(embeddings.embed_query(sql_description['description'])))\n"
   ]
  },
  {
   "cell_type": "code",
   "execution_count": null,
   "metadata": {},
   "outputs": [],
   "source": [
    "print(embeddings.embed_query(sql_description['description']))"
   ]
  },
  {
   "cell_type": "code",
   "execution_count": null,
   "metadata": {},
   "outputs": [],
   "source": [
    "\n",
    "with vdb.get_connection() as conn:\n",
    "  try:\n",
    "    with conn.cursor() as cursor:\n",
    "      insert_record = (sql_query_average_cpi, \n",
    "        sql_description['description'], \n",
    "        str(sql_description['input_parameters']), \n",
    "        None, \n",
    "        None, \n",
    "        str(embeddings.embed_query(sql_description['description'])).replace(' ',''))\n",
    "      cursor.execute(f\"INSERT INTO rag_test (sql, description, parameters, explore_view, model_name, desc_vector) VALUES ( %s, %s, %s, %s, %s, %s)\", insert_record) \n",
    "  except Exception as e:\n",
    "    print(e)\n",
    "    conn.rollback()\n",
    "  else:\n",
    "    conn.commit()\n",
    "\n",
    "# vdb.insert_record(\n",
    "#   sql=sql_query_average_cpi, \n",
    "#   parameters=str(sql_description['input_parameters']), \n",
    "#   description=sql_description['description'], \n",
    "#   explore_view=None, \n",
    "#   model_name=None, \n",
    "#   desc_vector=embeddings.embed_query(sql_description['description'])\n",
    "#   )"
   ]
  },
  {
   "cell_type": "code",
   "execution_count": null,
   "metadata": {},
   "outputs": [],
   "source": [
    "natural_language_question = 'show me the average CPI for all items in the overall US area.'\n",
    "\n",
    "search_vector =  str(embeddings.embed_query(natural_language_question)).replace(' ','')\n",
    "sql, description, parameters, explore_view, model_name  = vdb.select_similar_query(search_vector)"
   ]
  },
  {
   "cell_type": "code",
   "execution_count": null,
   "metadata": {},
   "outputs": [],
   "source": [
    "\n",
    "def get_field_unique_values(matched_table, matched_field):\n",
    "  sql_query = f\"select distinct {matched_field} as {matched_field} from {matched_table}\"\n",
    "  df = client.query(sql_query).to_dataframe()\n",
    "  return df[matched_field].tolist()\n",
    "  "
   ]
  },
  {
   "cell_type": "code",
   "execution_count": null,
   "metadata": {},
   "outputs": [],
   "source": [
    "import ast\n",
    "\n",
    "list_of_parameters = ast.literal_eval(parameters)"
   ]
  },
  {
   "cell_type": "code",
   "execution_count": null,
   "metadata": {},
   "outputs": [],
   "source": [
    "list_of_parameters"
   ]
  },
  {
   "cell_type": "code",
   "execution_count": null,
   "metadata": {},
   "outputs": [],
   "source": [
    "for parameter in list_of_parameters:\n",
    "  matched_table = parameter['matched_table_name']\n",
    "  matched_field = parameter['matched_column_name']\n",
    "  distinct_values = get_field_unique_values(matched_table, matched_field)\n",
    "  parameter['distinct_values'] = distinct_values\n",
    "  "
   ]
  },
  {
   "cell_type": "code",
   "execution_count": null,
   "metadata": {},
   "outputs": [],
   "source": []
  }
 ],
 "metadata": {
  "kernelspec": {
   "display_name": ".venv",
   "language": "python",
   "name": "python3"
  },
  "language_info": {
   "codemirror_mode": {
    "name": "ipython",
    "version": 3
   },
   "file_extension": ".py",
   "mimetype": "text/x-python",
   "name": "python",
   "nbconvert_exporter": "python",
   "pygments_lexer": "ipython3",
   "version": "3.8.5"
  }
 },
 "nbformat": 4,
 "nbformat_minor": 2
}
