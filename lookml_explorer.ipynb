{
 "cells": [
  {
   "cell_type": "code",
   "execution_count": 1,
   "metadata": {},
   "outputs": [],
   "source": [
    "#!pip install looker-sdk\n",
    "#!pip install google-cloud-aiplatform langchain"
   ]
  },
  {
   "cell_type": "code",
   "execution_count": 2,
   "metadata": {},
   "outputs": [],
   "source": [
    "question = \"생성일 기준 2022년으로, 월별로, 건설업, 제조업에 대한 연금합계를 보여줘.\""
   ]
  },
  {
   "cell_type": "code",
   "execution_count": 3,
   "metadata": {},
   "outputs": [],
   "source": [
    "import looker_sdk\n",
    "\n",
    "sdk = looker_sdk.init31()  # or init40() for the older v3.1 API\n",
    "my_user = sdk.me()"
   ]
  },
  {
   "cell_type": "code",
   "execution_count": 4,
   "metadata": {},
   "outputs": [],
   "source": [
    "def listup_explore(model_name):\n",
    "  \n",
    "  return sdk.all_projects()"
   ]
  },
  {
   "cell_type": "code",
   "execution_count": 5,
   "metadata": {},
   "outputs": [
    {
     "name": "stdout",
     "output_type": "stream",
     "text": [
      "[]\n",
      "[LookmlModelNavExplore(name='postal_location', description=None, label='Postal Location', hidden=False, group_label='Lookml Hol Sample', can={}),\n",
      " LookmlModelNavExplore(name='bizcategory', description='This view includes business category used in Korea. From Level 1(biggest category) to Level 3(smallest sub category).', label='Bizcategory', hidden=False, group_label='Lookml Hol Sample', can={}),\n",
      " LookmlModelNavExplore(name='national_pension_mom', description='This model explore shows the national pension information - pension amount, lost member count, added member count, business category and geolocations.', label='National Pension Mom', hidden=False, group_label='Lookml Hol Sample', can={})]\n",
      "[]\n"
     ]
    }
   ],
   "source": [
    "from pprint import pprint\n",
    "\n",
    "for lookml_model in sdk.all_lookml_models():\n",
    "  pprint(lookml_model.explores)"
   ]
  },
  {
   "cell_type": "code",
   "execution_count": 6,
   "metadata": {},
   "outputs": [],
   "source": [
    "# TODO : Implement this function with RAG architecture.\n",
    "\n",
    "def get_right_explore(question):\n",
    "  lookml_explore = \"national_pension_mom\"\n",
    "  lookml_model = \"lookml_hol_sample\"\n",
    "  return lookml_model, lookml_explore\n",
    "\n",
    "lookml_model, lookml_explore = get_right_explore(question)  "
   ]
  },
  {
   "cell_type": "code",
   "execution_count": 7,
   "metadata": {},
   "outputs": [],
   "source": [
    "def get_field_values(model_name, explore_name):\n",
    "\n",
    "  # API Call to pull in metadata about fields in a particular explore\n",
    "  explore = sdk.lookml_model_explore(\n",
    "    lookml_model_name=model_name,\n",
    "    explore_name=explore_name,\n",
    "    fields=\"id, name, description, fields\",\n",
    "  )\n",
    "\n",
    "  my_fields = []\n",
    "\n",
    "  # Iterate through the field definitions and pull in the description, sql,\n",
    "  # and other looker tags you might want to include in  your data dictionary.\n",
    "  if explore.fields and explore.fields.dimensions:\n",
    "    for dimension in explore.fields.dimensions:\n",
    "      dim_def = {\n",
    "        \"field_type\": \"Dimension\",\n",
    "        \"view_name\": dimension.view_label,\n",
    "        \"field_name\": dimension.name,\n",
    "        #\"type\": dimension.type,\n",
    "        \"description\": dimension.description,\n",
    "        #\"sql\": dimension.sql,\n",
    "      }\n",
    "      my_fields.append(dim_def)\n",
    "  if explore.fields and explore.fields.measures:\n",
    "    for measure in explore.fields.measures:\n",
    "      mes_def = {\n",
    "        \"field_type\": \"Measure\",\n",
    "        \"view_name\": measure.view_label,\n",
    "        \"field_name\": measure.name,\n",
    "        #\"type\": measure.type,\n",
    "        \"description\": measure.description,\n",
    "        #\"sql\": measure.sql,\n",
    "      }\n",
    "      my_fields.append(mes_def)\n",
    "  if explore.fields and explore.fields.parameters:\n",
    "    for parameter in explore.fields.parameters:\n",
    "      par_def = {\n",
    "        \"field_type\": \"Parameter\",\n",
    "        \"view_name\": parameter.view_label,\n",
    "        \"field_name\": parameter.name,\n",
    "        \"default_filter_value\": parameter.default_filter_value,\n",
    "        #\"type\": parameter.type,\n",
    "        \"description\": parameter.description,\n",
    "        #\"sql\": parameter.sql,\n",
    "      }\n",
    "      my_fields.append(par_def)\n",
    "  return my_fields"
   ]
  },
  {
   "cell_type": "code",
   "execution_count": 8,
   "metadata": {},
   "outputs": [],
   "source": [
    "# for lookml_model in sdk.all_lookml_models():\n",
    "#   print('lookml model name:' + lookml_model.name)\n",
    "#   for one_explore in lookml_model.explores:\n",
    "#     print('explore name:' + one_explore.name)\n",
    "#     pprint(get_field_values(lookml_model.name, one_explore.name))"
   ]
  },
  {
   "cell_type": "code",
   "execution_count": 9,
   "metadata": {},
   "outputs": [],
   "source": [
    "import vertexai\n",
    "from langchain.chat_models import ChatVertexAI\n",
    "from langchain.llms import VertexAI\n",
    "import os\n",
    "\n",
    "PROJECT_ID = os.getenv(\"PROJECT_ID\")  # @param {type:\"string\"}\n",
    "vertexai.init(project=PROJECT_ID, location=\"us-central1\")\n",
    "\n",
    "llm_vertex = VertexAI(\n",
    "    #model_name=\"text-bison@latest\",\n",
    "    model_name=\"text-bison-32k\",\n",
    "    max_output_tokens=8000,\n",
    "    temperature=0,\n",
    "    top_p=0.8,\n",
    "    top_k=40,\n",
    ")\n"
   ]
  },
  {
   "cell_type": "code",
   "execution_count": 10,
   "metadata": {},
   "outputs": [],
   "source": [
    "llm = llm_vertex"
   ]
  },
  {
   "cell_type": "code",
   "execution_count": 11,
   "metadata": {},
   "outputs": [],
   "source": [
    "def choose_right_fields(fields, question):\n",
    "  sample_json = \"\"\"\n",
    "{\n",
    "  \"dimensions\": [\n",
    "    \"dimension1\",\n",
    "  ],\n",
    "  \"measures\": [\n",
    "    \"measure1\",\n",
    "  ],\n",
    "  \"filters\": [\n",
    "    {\n",
    "      \"field_name\": \"field_name1\",\n",
    "      \"values\": [\n",
    "        \"value1\"\n",
    "      ]\n",
    "    }\n",
    "  ],\n",
    "  \"sorts\": [\n",
    "    {\n",
    "      \"field_name\": \"field_name1\",\n",
    "      \"direction\": \"asc\"\n",
    "    }\n",
    "  ],\n",
    "  \"parameters\": [\n",
    "    \"param1\",\n",
    "  ]\n",
    "}\n",
    "  \"\"\"\n",
    "\n",
    "  prompt_template = \"\"\"As a looker developer, choose right dimesions and measures for the question below. \n",
    "  You should choose right fields as least as possible and sort fields must be choosen in the dimension fields.\n",
    "\n",
    "  fields : {fields}\n",
    "\n",
    "  question: {question}\n",
    "\n",
    "  answer format: json\n",
    "  {sample_json}\n",
    "  \"\"\"\n",
    "  response = llm.predict(prompt_template.format(fields=fields, question=question, sample_json=sample_json))\n",
    "  return response\n",
    "\n",
    "\n"
   ]
  },
  {
   "cell_type": "code",
   "execution_count": 12,
   "metadata": {},
   "outputs": [],
   "source": [
    "# Test Code.\n",
    "# get_field_values(lookml_model, lookml_explore)\n"
   ]
  },
  {
   "cell_type": "code",
   "execution_count": 13,
   "metadata": {},
   "outputs": [],
   "source": [
    "response = choose_right_fields(fields=get_field_values(lookml_model, lookml_explore), question=question) #S\n"
   ]
  },
  {
   "cell_type": "code",
   "execution_count": 14,
   "metadata": {},
   "outputs": [
    {
     "data": {
      "text/plain": [
       "' ```json\\n{\\n  \"dimensions\": [\\n    \"national_pension_mom.datapoint_create_yearmonth_year\",\\n    \"national_pension_mom.datapoint_create_yearmonth_month\",\\n    \"bizcategory.cat_l1\"\\n  ],\\n  \"measures\": [\\n    \"national_pension_mom.total_monthly_fixed_amount\"\\n  ],\\n  \"filters\": [\\n    {\\n      \"field_name\": \"national_pension_mom.datapoint_create_yearmonth_year\",\\n      \"values\": [\\n        \"2022\"\\n      ]\\n    },\\n    {\\n      \"field_name\": \"bizcategory.cat_l1\",\\n      \"values\": [\\n        \"건설업\",\\n        \"제조업\"\\n      ]\\n    }\\n  ],\\n  \"sorts\": [\\n    {\\n      \"field_name\": \"national_pension_mom.datapoint_create_yearmonth_month\",\\n      \"direction\": \"asc\"\\n    }\\n  ],\\n  \"parameters\": []\\n}\\n```'"
      ]
     },
     "execution_count": 14,
     "metadata": {},
     "output_type": "execute_result"
    }
   ],
   "source": [
    "response"
   ]
  },
  {
   "cell_type": "code",
   "execution_count": 15,
   "metadata": {},
   "outputs": [],
   "source": [
    "from langchain.output_parsers import PydanticOutputParser\n",
    "from langchain.pydantic_v1 import BaseModel, Field, validator\n",
    "from typing import List\n",
    "\n",
    "class LookerFilterValue(BaseModel):\n",
    "  field_name: str = Field(description=\"field_name\")\n",
    "  values: List[str] = Field(description=\"values\")\n",
    "\n",
    "class LookerSortField(BaseModel):\n",
    "  field_name: str = Field(description=\"field_name\")\n",
    "  direction: str = Field(description=\"direction\")\n",
    "\n",
    "class LookerQueryParameters(BaseModel):\n",
    "  dimensions: List[str] = Field(description=\"dimensions\")\n",
    "  measures: List[str] = Field(description=\"measures\")\n",
    "  parameters: List[str] = Field(description=\"parameters\")\n",
    "  filters: List[LookerFilterValue] = Field(description=\"filters\")\n",
    "  sorts: List[LookerSortField] = Field(description=\"sorts\")\n",
    "\n",
    "def get_right_fields_object(response):\n",
    "  parser = PydanticOutputParser(pydantic_object=LookerQueryParameters)\n",
    "  return parser.parse(response)\n"
   ]
  },
  {
   "cell_type": "code",
   "execution_count": 16,
   "metadata": {},
   "outputs": [],
   "source": [
    "related_fields = get_right_fields_object(response)"
   ]
  },
  {
   "cell_type": "code",
   "execution_count": 17,
   "metadata": {},
   "outputs": [],
   "source": [
    "def decide_to_retrieve_values_for_the_filters(related_fields):\n",
    "  output_sample = \"\"\"\n",
    "  {\n",
    "    \"required_target\": [\"field1\",\"field2\"]\n",
    "  }\n",
    "  \"\"\"\n",
    "  prompt_template = \"\"\"As a looker developer, decide whether to retrieve values for the filters below. \n",
    "  For example, date / timestamp columns don't need to retrieve values. but string columns need to retrieve values from the database.\n",
    "\n",
    "  filter fields : {filter_fields}\n",
    "\n",
    "  output sample : json array\n",
    "  {output_sample}\n",
    "  \"\"\"\n",
    "  response = llm.predict(prompt_template.format(filter_fields=related_fields.filters, output_sample=output_sample))\n",
    "  return response"
   ]
  },
  {
   "cell_type": "code",
   "execution_count": 18,
   "metadata": {},
   "outputs": [],
   "source": [
    "retrieve_target_filters = decide_to_retrieve_values_for_the_filters(related_fields)"
   ]
  },
  {
   "cell_type": "code",
   "execution_count": 19,
   "metadata": {},
   "outputs": [],
   "source": [
    "\n",
    "class LookerFilterRetrieves(BaseModel):\n",
    "  required_target: List[str] = Field(description=\"required_target\")\n",
    "\n",
    "def get_retrieve_target_filters_object(retrieve_target_filters):\n",
    "  parser = PydanticOutputParser(pydantic_object=LookerFilterRetrieves)\n",
    "  return parser.parse(retrieve_target_filters)\n"
   ]
  },
  {
   "cell_type": "code",
   "execution_count": 20,
   "metadata": {},
   "outputs": [
    {
     "data": {
      "text/plain": [
       "' ```json\\n  {\\n    \"required_target\": [\"national_pension_mom.datapoint_create_yearmonth_year\", \"bizcategory.cat_l1\"]\\n  }\\n  ```'"
      ]
     },
     "execution_count": 20,
     "metadata": {},
     "output_type": "execute_result"
    }
   ],
   "source": [
    "retrieve_target_filters"
   ]
  },
  {
   "cell_type": "code",
   "execution_count": 21,
   "metadata": {},
   "outputs": [],
   "source": [
    "def get_user_input_value_for_filter_field(related_fields, field_name):\n",
    "  for filter in related_fields.filters:\n",
    "    if filter.field_name == field_name:\n",
    "      return filter.values\n",
    "  return \"\"\n"
   ]
  },
  {
   "cell_type": "code",
   "execution_count": 22,
   "metadata": {},
   "outputs": [],
   "source": [
    "retrieve_target_filter_obj = get_retrieve_target_filters_object(retrieve_target_filters)"
   ]
  },
  {
   "cell_type": "code",
   "execution_count": 25,
   "metadata": {},
   "outputs": [],
   "source": [
    "from looker_sdk.sdk.api31 import models as ml\n",
    "\n",
    "def get_validated_filter_values_from_looker(lookml_model, lookml_explore, retrieve_target_filter_obj):\n",
    "  choose_right_filter_value_list = []\n",
    "  for retrieve_target_filter in retrieve_target_filter_obj.required_target:\n",
    "    print(retrieve_target_filter)\n",
    "    query_template = ml.WriteQuery(model=lookml_model, view=lookml_explore,fields=[retrieve_target_filter])\n",
    "    query = sdk.create_query(query_template)\n",
    "    json_ = sdk.run_query(query.id, \"json\")\n",
    "    print(json_)\n",
    "    choose_right_filter_value_list.append({ retrieve_target_filter : json_})\n",
    "  return choose_right_filter_value_list\n",
    "    \n"
   ]
  },
  {
   "cell_type": "code",
   "execution_count": 48,
   "metadata": {},
   "outputs": [
    {
     "name": "stdout",
     "output_type": "stream",
     "text": [
      "national_pension_mom.datapoint_create_yearmonth_year\n",
      "[{\"national_pension_mom.datapoint_create_yearmonth_year\":2022}]\n",
      "bizcategory.cat_l1\n",
      "[{\"bizcategory.cat_l1\":\"가구 내 고용활동 및 달리 분류되지 않은 자가 소비 생산활동\"},\n",
      "{\"bizcategory.cat_l1\":\"건 설 업\"},\n",
      "{\"bizcategory.cat_l1\":\"공공 행정, 국방 및 사회보장 행정\"},\n",
      "{\"bizcategory.cat_l1\":\"광업\"},\n",
      "{\"bizcategory.cat_l1\":\"교육서비스업\"},\n",
      "{\"bizcategory.cat_l1\":\"금융 및 보험업\"},\n",
      "{\"bizcategory.cat_l1\":\"도매 및 소매업\"},\n",
      "{\"bizcategory.cat_l1\":\"보건업 및 사회복지 서비스업\"},\n",
      "{\"bizcategory.cat_l1\":\"부동산업\"},\n",
      "{\"bizcategory.cat_l1\":\"사업시설 관리, 사업 지원 및 임대 서비스업\"},\n",
      "{\"bizcategory.cat_l1\":\"수도, 하수 및 폐기물 처리, 원료 재생업\"},\n",
      "{\"bizcategory.cat_l1\":\"숙박 및 음식점업\"},\n",
      "{\"bizcategory.cat_l1\":\"예술, 스포츠 및 여가관련 서비스업\"},\n",
      "{\"bizcategory.cat_l1\":\"운수 및 창고업\"},\n",
      "{\"bizcategory.cat_l1\":\"전기, 가스, 증기 및 공기 조절 공급업\"},\n",
      "{\"bizcategory.cat_l1\":\"전문, 과학 및 기술 서비스업\"},\n",
      "{\"bizcategory.cat_l1\":\"정보통신업\"},\n",
      "{\"bizcategory.cat_l1\":\"제조업\"},\n",
      "{\"bizcategory.cat_l1\":\"협회 및 단체, 수리 및 기타 개인 서비스업\"},\n",
      "{\"bizcategory.cat_l1\":\"협회 및 단체, 수리 및 기타 개인서비스\"}]\n"
     ]
    }
   ],
   "source": [
    "retrieve_filter_and_values = get_validated_filter_values_from_looker(lookml_model, lookml_explore, retrieve_target_filter_obj)"
   ]
  },
  {
   "cell_type": "code",
   "execution_count": 49,
   "metadata": {},
   "outputs": [
    {
     "data": {
      "text/plain": [
       "[{'national_pension_mom.datapoint_create_yearmonth_year': '[{\"national_pension_mom.datapoint_create_yearmonth_year\":2022}]'},\n",
       " {'bizcategory.cat_l1': '[{\"bizcategory.cat_l1\":\"가구 내 고용활동 및 달리 분류되지 않은 자가 소비 생산활동\"},\\n{\"bizcategory.cat_l1\":\"건 설 업\"},\\n{\"bizcategory.cat_l1\":\"공공 행정, 국방 및 사회보장 행정\"},\\n{\"bizcategory.cat_l1\":\"광업\"},\\n{\"bizcategory.cat_l1\":\"교육서비스업\"},\\n{\"bizcategory.cat_l1\":\"금융 및 보험업\"},\\n{\"bizcategory.cat_l1\":\"도매 및 소매업\"},\\n{\"bizcategory.cat_l1\":\"보건업 및 사회복지 서비스업\"},\\n{\"bizcategory.cat_l1\":\"부동산업\"},\\n{\"bizcategory.cat_l1\":\"사업시설 관리, 사업 지원 및 임대 서비스업\"},\\n{\"bizcategory.cat_l1\":\"수도, 하수 및 폐기물 처리, 원료 재생업\"},\\n{\"bizcategory.cat_l1\":\"숙박 및 음식점업\"},\\n{\"bizcategory.cat_l1\":\"예술, 스포츠 및 여가관련 서비스업\"},\\n{\"bizcategory.cat_l1\":\"운수 및 창고업\"},\\n{\"bizcategory.cat_l1\":\"전기, 가스, 증기 및 공기 조절 공급업\"},\\n{\"bizcategory.cat_l1\":\"전문, 과학 및 기술 서비스업\"},\\n{\"bizcategory.cat_l1\":\"정보통신업\"},\\n{\"bizcategory.cat_l1\":\"제조업\"},\\n{\"bizcategory.cat_l1\":\"협회 및 단체, 수리 및 기타 개인 서비스업\"},\\n{\"bizcategory.cat_l1\":\"협회 및 단체, 수리 및 기타 개인서비스\"}]'}]"
      ]
     },
     "execution_count": 49,
     "metadata": {},
     "output_type": "execute_result"
    }
   ],
   "source": [
    "retrieve_filter_and_values"
   ]
  },
  {
   "cell_type": "code",
   "execution_count": 53,
   "metadata": {},
   "outputs": [],
   "source": [
    "def choose_right_filter_value(filter_values, wanted_value):\n",
    "  prompt_template = \"\"\"As a looker developer, choose right filter value for the wanted value below without changing filter value itself without json footer and header.\n",
    "\n",
    "  filter_values : {filter_values}\n",
    "\n",
    "  wanted_values: {wanted_value}\n",
    "\n",
    "  answer format: json array\n",
    "  [filter_value1, filter_value2, ...]\n",
    "  \"\"\"\n",
    "  response = llm.predict(prompt_template.format(filter_values=filter_values, wanted_value=wanted_value))\n",
    "  return response  "
   ]
  },
  {
   "cell_type": "code",
   "execution_count": 59,
   "metadata": {},
   "outputs": [],
   "source": [
    "import json\n",
    "\n",
    "# class LookerValidFilterValue(BaseModel):\n",
    "#   field_name: str = Field(description=\"field_name\")\n",
    "#   field_values: List[str] = Field(description=\"field_values\")\n",
    "\n",
    "# def parse_valid_filter_values(response):\n",
    "#   parser = PydanticOutputParser(pydantic_object=LookerValidFilterValue)\n",
    "#   return parser.parse(response)\n",
    "\n",
    "def parse_valid_filter_values(response):\n",
    "  start_index = response.find('[')\n",
    "  end_index = response.rfind(']')\n",
    "  json_data = response[start_index:end_index+1]\n",
    "  parsed_json = json.loads(json_data)\n",
    "  return parsed_json"
   ]
  },
  {
   "cell_type": "code",
   "execution_count": 61,
   "metadata": {},
   "outputs": [],
   "source": [
    "def get_appropriate_filter_value_pair(related_fields, retrieve_filter_and_values):\n",
    "  filter_value_pair = []\n",
    "  for filter_and_values in retrieve_filter_and_values:\n",
    "    field_name = list(filter_and_values.keys())[0]\n",
    "    #print(filter_and_values)\n",
    "    user_input_value = get_user_input_value_for_filter_field(related_fields, field_name)\n",
    "    #print(user_input_value)\n",
    "    actual_value = choose_right_filter_value(filter_and_values, user_input_value)\n",
    "    #print(actual_value)  \n",
    "    value_object = parse_valid_filter_values(actual_value)\n",
    "    #print(value_object)\n",
    "    filter_value_pair.append(value_object)\n",
    "  return filter_value_pair\n"
   ]
  },
  {
   "cell_type": "code",
   "execution_count": 62,
   "metadata": {},
   "outputs": [],
   "source": [
    "valid_filter_values = get_appropriate_filter_value_pair(related_fields, retrieve_filter_and_values)"
   ]
  },
  {
   "cell_type": "code",
   "execution_count": 63,
   "metadata": {},
   "outputs": [
    {
     "data": {
      "text/plain": [
       "[[{'national_pension_mom.datapoint_create_yearmonth_year': 2022}],\n",
       " [{'bizcategory.cat_l1': '건 설 업'}, {'bizcategory.cat_l1': '제조업'}]]"
      ]
     },
     "execution_count": 63,
     "metadata": {},
     "output_type": "execute_result"
    }
   ],
   "source": [
    "valid_filter_values"
   ]
  },
  {
   "cell_type": "code",
   "execution_count": null,
   "metadata": {},
   "outputs": [],
   "source": [
    "def make_query_for_the_look(lookml_model, lookml_explore, related_fields, valid_filter_values):\n",
    "  fields = related_fields.dimensions + related_fields.measures\n",
    "  filters = []\n",
    "  for index, filter in enumerate(related_fields.filters):\n",
    "    filters.append({filter.field_name : valid_filter_values[index]})\n",
    "  sorts = []\n",
    "  for sort in related_fields.sorts:\n",
    "    sorts.append({sort.field_name : sort.direction})\n",
    "  for retrieve_target_filter in retrieve_target_filter_obj.required_target:\n",
    "    print(retrieve_target_filter)\n",
    "    query_template = ml.WriteQuery(model=lookml_model, view=lookml_explore,fields=[retrieve_target_filter])\n",
    "    query = sdk.create_query(query_template)\n",
    "    json_ = sdk.run_query(query.id, \"json\")\n",
    "    print(json_)\n",
    "    choose_right_filter_value_list.append({ retrieve_target_filter : json_})\n",
    "  return choose_right_filter_value_list\n",
    "    "
   ]
  },
  {
   "cell_type": "code",
   "execution_count": null,
   "metadata": {},
   "outputs": [],
   "source": [
    "look_template = \"\"\"\n",
    "- name: {look_name}\n",
    "  title: {title}\n",
    "  model: {model}\n",
    "  explore: {explore}\n",
    "  type: looker_column\n",
    "  fields: [{dimesions_and_meaures}]\n",
    "  filters:\n",
    "    {filters}\n",
    "  sorts: [{sorts}]\n",
    "  limit: 500\n",
    "  column_limit: 50\n",
    "  query_timezone: America/Los_Angeles\n",
    "  x_axis_gridlines: false\n",
    "  y_axis_gridlines: true\n",
    "  show_view_names: false\n",
    "  show_y_axis_labels: true\n",
    "  show_y_axis_ticks: true\n",
    "  y_axis_tick_density: default\n",
    "  y_axis_tick_density_custom: 5\n",
    "  show_x_axis_label: true\n",
    "  show_x_axis_ticks: true\n",
    "  y_axis_scale_mode: linear\n",
    "  x_axis_reversed: false\n",
    "  y_axis_reversed: false\n",
    "  plot_size_by_field: false\n",
    "  trellis: ''\n",
    "  stacking: ''\n",
    "  limit_displayed_rows: false\n",
    "  legend_position: center\n",
    "  point_style: none\n",
    "  show_value_labels: false\n",
    "  label_density: 25\n",
    "  x_axis_scale: auto\n",
    "  y_axis_combined: true\n",
    "  ordering: none\n",
    "  show_null_labels: false\n",
    "  show_totals_labels: false\n",
    "  show_silhouette: false\n",
    "  totals_color: \"#808080\"\n",
    "  defaults_version: 1\n",
    "\"\"\""
   ]
  },
  {
   "cell_type": "code",
   "execution_count": null,
   "metadata": {},
   "outputs": [],
   "source": [
    "look_template.format(look_name=\"anonymous\", title=\"Monthly National Pension in 2022\", model=lookml_model, explore=lookml_explore, fields=\"'national_pension_mom.datapoint_create_yearmonth_year', 'national_pension_mom.datapoint_create_yearmonth_month', 'bizcategory.cat_l1_code','national_pension_mom.count', 'national_pension_mom.total_monthly_fixed_amount'\")"
   ]
  },
  {
   "cell_type": "code",
   "execution_count": null,
   "metadata": {},
   "outputs": [],
   "source": [
    "lookml_template = \"\"\"\n",
    "- name: add_a_unique_name_1699948162\n",
    "  title: Untitled Visualization\n",
    "  model: lookml_hol_sample\n",
    "  explore: national_pension_mom\n",
    "  type: looker_column\n",
    "  fields: [bizcategory.cat_l1, national_pension_mom.create_ym_month, national_pension_mom.total_monthly_fixed_amount,\n",
    "    national_pension_mom.total_monthly_fixed_amount_compared]\n",
    "  filters:\n",
    "    national_pension_mom.compared_month: '1'\n",
    "    national_pension_mom.create_ym_month: '2022'\n",
    "    bizcategory.cat_l1: 건 설 업\n",
    "  sorts: [national_pension_mom.create_ym_month]\n",
    "  limit: 500\n",
    "  column_limit: 50\n",
    "  query_timezone: America/Los_Angeles\n",
    "  x_axis_gridlines: false\n",
    "  y_axis_gridlines: true\n",
    "  show_view_names: false\n",
    "  show_y_axis_labels: true\n",
    "  show_y_axis_ticks: true\n",
    "  y_axis_tick_density: default\n",
    "  y_axis_tick_density_custom: 5\n",
    "  show_x_axis_label: true\n",
    "  show_x_axis_ticks: true\n",
    "  y_axis_scale_mode: linear\n",
    "  x_axis_reversed: false\n",
    "  y_axis_reversed: false\n",
    "  plot_size_by_field: false\n",
    "  trellis: ''\n",
    "  stacking: ''\n",
    "  limit_displayed_rows: false\n",
    "  legend_position: center\n",
    "  point_style: none\n",
    "  show_value_labels: false\n",
    "  label_density: 25\n",
    "  x_axis_scale: auto\n",
    "  y_axis_combined: true\n",
    "  ordering: none\n",
    "  show_null_labels: false\n",
    "  show_totals_labels: false\n",
    "  show_silhouette: false\n",
    "  totals_color: \"#808080\"\n",
    "  defaults_version: 1\n",
    "\"\"\""
   ]
  }
 ],
 "metadata": {
  "kernelspec": {
   "display_name": ".venv",
   "language": "python",
   "name": "python3"
  },
  "language_info": {
   "codemirror_mode": {
    "name": "ipython",
    "version": 3
   },
   "file_extension": ".py",
   "mimetype": "text/x-python",
   "name": "python",
   "nbconvert_exporter": "python",
   "pygments_lexer": "ipython3",
   "version": "3.8.5"
  }
 },
 "nbformat": 4,
 "nbformat_minor": 2
}
