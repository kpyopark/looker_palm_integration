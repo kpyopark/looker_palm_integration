{
 "cells": [
  {
   "cell_type": "markdown",
   "metadata": {},
   "source": [
    "## NL to BI Architecture. \n",
    "\n",
    "Looker symantic layer can be a good helper to convert natural language to SQL and show a dashboard dependent on the given query. \n"
   ]
  },
  {
   "cell_type": "code",
   "execution_count": 1,
   "metadata": {},
   "outputs": [],
   "source": [
    "#!pip install looker-sdk\n",
    "#!pip install google-cloud-aiplatform langchain"
   ]
  },
  {
   "cell_type": "code",
   "execution_count": 2,
   "metadata": {},
   "outputs": [],
   "source": [
    "question = \"생성일 기준 2022년으로, 월별로, 건설업, 제조업에 대한 연금합계를 보여줘.\""
   ]
  },
  {
   "cell_type": "code",
   "execution_count": 3,
   "metadata": {},
   "outputs": [],
   "source": [
    "import looker_sdk\n",
    "\n",
    "sdk = looker_sdk.init31()  # or init40() for the older v3.1 API\n",
    "my_user = sdk.me()"
   ]
  },
  {
   "cell_type": "code",
   "execution_count": 4,
   "metadata": {},
   "outputs": [],
   "source": [
    "def listup_explore(model_name):\n",
    "  \n",
    "  return sdk.all_projects()"
   ]
  },
  {
   "cell_type": "code",
   "execution_count": 5,
   "metadata": {},
   "outputs": [
    {
     "name": "stdout",
     "output_type": "stream",
     "text": [
      "[]\n",
      "[LookmlModelNavExplore(name='postal_location', description=None, label='Postal Location', hidden=False, group_label='Lookml Hol Sample', can={}),\n",
      " LookmlModelNavExplore(name='bizcategory', description='This view includes business category used in Korea. From Level 1(biggest category) to Level 3(smallest sub category).', label='Bizcategory', hidden=False, group_label='Lookml Hol Sample', can={}),\n",
      " LookmlModelNavExplore(name='national_pension_mom', description='This model explore shows the national pension information - pension amount, lost member count, added member count, business category and geolocations.', label='National Pension Mom', hidden=False, group_label='Lookml Hol Sample', can={})]\n",
      "[]\n"
     ]
    }
   ],
   "source": [
    "from pprint import pprint\n",
    "\n",
    "for lookml_model in sdk.all_lookml_models():\n",
    "  pprint(lookml_model.explores)"
   ]
  },
  {
   "cell_type": "code",
   "execution_count": 6,
   "metadata": {},
   "outputs": [],
   "source": [
    "# TODO : Implement this function with RAG architecture.\n",
    "\n",
    "def get_right_explore(question):\n",
    "  lookml_explore = \"national_pension_mom\"\n",
    "  lookml_model = \"lookml_hol_sample\"\n",
    "  return lookml_model, lookml_explore\n",
    "\n",
    "lookml_model, lookml_explore = get_right_explore(question)  "
   ]
  },
  {
   "cell_type": "code",
   "execution_count": 7,
   "metadata": {},
   "outputs": [],
   "source": [
    "def get_field_values(model_name, explore_name):\n",
    "\n",
    "  # API Call to pull in metadata about fields in a particular explore\n",
    "  explore = sdk.lookml_model_explore(\n",
    "    lookml_model_name=model_name,\n",
    "    explore_name=explore_name,\n",
    "    fields=\"id, name, description, fields\",\n",
    "  )\n",
    "\n",
    "  my_fields = []\n",
    "\n",
    "  # Iterate through the field definitions and pull in the description, sql,\n",
    "  # and other looker tags you might want to include in  your data dictionary.\n",
    "  if explore.fields and explore.fields.dimensions:\n",
    "    for dimension in explore.fields.dimensions:\n",
    "      dim_def = {\n",
    "        \"field_type\": \"Dimension\",\n",
    "        \"view_name\": dimension.view_label,\n",
    "        \"field_name\": dimension.name,\n",
    "        \"type\": dimension.type,\n",
    "        \"description\": dimension.description,\n",
    "        #\"sql\": dimension.sql,\n",
    "      }\n",
    "      my_fields.append(dim_def)\n",
    "  if explore.fields and explore.fields.measures:\n",
    "    for measure in explore.fields.measures:\n",
    "      mes_def = {\n",
    "        \"field_type\": \"Measure\",\n",
    "        \"view_name\": measure.view_label,\n",
    "        \"field_name\": measure.name,\n",
    "        \"type\": measure.type,\n",
    "        \"description\": measure.description,\n",
    "        #\"sql\": measure.sql,\n",
    "      }\n",
    "      my_fields.append(mes_def)\n",
    "  if explore.fields and explore.fields.parameters:\n",
    "    for parameter in explore.fields.parameters:\n",
    "      par_def = {\n",
    "        \"field_type\": \"Parameter\",\n",
    "        \"view_name\": parameter.view_label,\n",
    "        \"field_name\": parameter.name,\n",
    "        \"default_filter_value\": parameter.default_filter_value,\n",
    "        \"type\": parameter.type,\n",
    "        \"description\": parameter.description,\n",
    "        #\"sql\": parameter.sql,\n",
    "      }\n",
    "      my_fields.append(par_def)\n",
    "  return my_fields"
   ]
  },
  {
   "cell_type": "code",
   "execution_count": 8,
   "metadata": {},
   "outputs": [],
   "source": [
    "# for lookml_model in sdk.all_lookml_models():\n",
    "#   print('lookml model name:' + lookml_model.name)\n",
    "#   for one_explore in lookml_model.explores:\n",
    "#     print('explore name:' + one_explore.name)\n",
    "#     pprint(get_field_values(lookml_model.name, one_explore.name))\n",
    "fields = get_field_values(lookml_model, lookml_explore)"
   ]
  },
  {
   "cell_type": "code",
   "execution_count": 9,
   "metadata": {},
   "outputs": [],
   "source": [
    "import vertexai\n",
    "from langchain.chat_models import ChatVertexAI\n",
    "from langchain.llms import VertexAI\n",
    "import os\n",
    "\n",
    "PROJECT_ID = os.getenv(\"PROJECT_ID\")  # @param {type:\"string\"}\n",
    "vertexai.init(project=PROJECT_ID, location=\"us-central1\")\n",
    "\n",
    "llm_vertex = VertexAI(\n",
    "    #model_name=\"text-bison@latest\",\n",
    "    model_name=\"text-bison-32k\",\n",
    "    max_output_tokens=8000,\n",
    "    temperature=0,\n",
    "    top_p=0.8,\n",
    "    top_k=40,\n",
    ")\n"
   ]
  },
  {
   "cell_type": "code",
   "execution_count": 10,
   "metadata": {},
   "outputs": [],
   "source": [
    "llm = llm_vertex"
   ]
  },
  {
   "cell_type": "code",
   "execution_count": 11,
   "metadata": {},
   "outputs": [],
   "source": [
    "def choose_right_fields(fields, question):\n",
    "  sample_json = \"\"\"\n",
    "{\n",
    "  \"dimensions\": [\n",
    "    \"dimension1\",\n",
    "  ],\n",
    "  \"measures\": [\n",
    "    \"measure1\",\n",
    "  ],\n",
    "  \"filters\": [\n",
    "    {\n",
    "      \"field_name\": \"field_name1\",\n",
    "      \"values\": [\n",
    "        \"value1\"\n",
    "      ]\n",
    "    }\n",
    "  ],\n",
    "  \"sorts\": [\n",
    "    {\n",
    "      \"field_name\": \"field_name1\",\n",
    "      \"direction\": \"asc\"\n",
    "    }\n",
    "  ],\n",
    "  \"parameters\": [\n",
    "    \"param1\",\n",
    "  ],\n",
    "  \"pivots\": [\n",
    "    \"field1\"\n",
    "  ],\n",
    "  \"hidden_fields\": [\n",
    "    \"field1\"\n",
    "  ]\n",
    "}\n",
    "  \"\"\"\n",
    "\n",
    "  prompt_template = \"\"\"As a looker developer, choose right dimesions and measures for the question below. \n",
    "  You should choose right fields as least as possible and sort fields must be choosen in the dimension fields.\n",
    "\n",
    "  fields : {fields}\n",
    "\n",
    "  question: {question}\n",
    "\n",
    "  answer format: json\n",
    "  {sample_json}\n",
    "  \"\"\"\n",
    "  response = llm.predict(prompt_template.format(fields=fields, question=question, sample_json=sample_json))\n",
    "  return response\n",
    "\n",
    "\n"
   ]
  },
  {
   "cell_type": "code",
   "execution_count": 12,
   "metadata": {},
   "outputs": [],
   "source": [
    "# Test Code.\n",
    "# get_field_values(lookml_model, lookml_explore)\n"
   ]
  },
  {
   "cell_type": "code",
   "execution_count": 13,
   "metadata": {},
   "outputs": [],
   "source": [
    "schema_fields = get_field_values(lookml_model, lookml_explore)\n",
    "response = choose_right_fields(fields=schema_fields, question=question) #S\n"
   ]
  },
  {
   "cell_type": "code",
   "execution_count": 14,
   "metadata": {},
   "outputs": [
    {
     "data": {
      "text/plain": [
       "' ```json\\n{\\n  \"dimensions\": [\\n    \"national_pension_mom.data_create_yearmonth_year\",\\n    \"national_pension_mom.data_create_yearmonth_month\",\\n    \"bizcategory.cat_l1\"\\n  ],\\n  \"measures\": [\\n    \"national_pension_mom.total_monthly_fixed_amount\"\\n  ],\\n  \"filters\": [\\n    {\\n      \"field_name\": \"national_pension_mom.data_create_yearmonth_year\",\\n      \"values\": [\\n        \"2022\"\\n      ]\\n    },\\n    {\\n      \"field_name\": \"bizcategory.cat_l1\",\\n      \"values\": [\\n        \"건설업\",\\n        \"제조업\"\\n      ]\\n    }\\n  ],\\n  \"sorts\": [\\n    {\\n      \"field_name\": \"national_pension_mom.data_create_yearmonth_month\",\\n      \"direction\": \"asc\"\\n    }\\n  ],\\n  \"parameters\": [],\\n  \"pivots\": [],\\n  \"hidden_fields\": []\\n}\\n```'"
      ]
     },
     "execution_count": 14,
     "metadata": {},
     "output_type": "execute_result"
    }
   ],
   "source": [
    "response"
   ]
  },
  {
   "cell_type": "code",
   "execution_count": 15,
   "metadata": {},
   "outputs": [],
   "source": [
    "def get_field_type(field_name, schema_fields):\n",
    "  for field in schema_fields:\n",
    "    if field['field_name'] == field_name:\n",
    "      return field['type']"
   ]
  },
  {
   "cell_type": "code",
   "execution_count": 16,
   "metadata": {},
   "outputs": [],
   "source": [
    "from langchain.output_parsers import PydanticOutputParser\n",
    "from langchain.pydantic_v1 import BaseModel, Field, validator\n",
    "from typing import List\n",
    "\n",
    "class LookerFilterValue(BaseModel):\n",
    "  field_name: str = Field(description=\"field_name\")\n",
    "  values: List[str] = Field(description=\"values\")\n",
    "\n",
    "class LookerSortField(BaseModel):\n",
    "  field_name: str = Field(description=\"field_name\")\n",
    "  direction: str = Field(description=\"direction\")\n",
    "\n",
    "class LookerQueryParameters(BaseModel):\n",
    "  dimensions: List[str] = Field(description=\"dimensions\")\n",
    "  measures: List[str] = Field(description=\"measures\")\n",
    "  parameters: List[str] = Field(description=\"parameters\")\n",
    "  filters: List[LookerFilterValue] = Field(description=\"filters\")\n",
    "  sorts: List[LookerSortField] = Field(description=\"sorts\")\n",
    "  pivots: List[str] = Field(description=\"pivot - These fields are used as pivots in the chart.\")\n",
    "  hidden_fields: List[str] = Field(description=\"hidden_fields - These fields are used as filters but are not shown in the chart.\")\n",
    "\n",
    "def get_right_fields_object(response):\n",
    "  parser = PydanticOutputParser(pydantic_object=LookerQueryParameters)\n",
    "  return parser.parse(response)\n"
   ]
  },
  {
   "cell_type": "code",
   "execution_count": 17,
   "metadata": {},
   "outputs": [],
   "source": [
    "related_fields = get_right_fields_object(response)"
   ]
  },
  {
   "cell_type": "code",
   "execution_count": 18,
   "metadata": {},
   "outputs": [],
   "source": [
    "def decide_to_retrieve_values_for_the_filters(related_fields):\n",
    "  output_sample = \"\"\"\n",
    "  {\n",
    "    \"required_target\": [\"field1\",\"field2\"]\n",
    "  }\n",
    "  \"\"\"\n",
    "  prompt_template = \"\"\"As a looker developer, decide whether to retrieve values for the filters below. \n",
    "  For example, date / timestamp columns don't need to retrieve values. but string columns need to retrieve values from the database.\n",
    "\n",
    "  filter fields : {filter_fields}\n",
    "\n",
    "  output sample : json array\n",
    "  {output_sample}\n",
    "  \"\"\"\n",
    "  response = llm.predict(prompt_template.format(filter_fields=related_fields.filters, output_sample=output_sample))\n",
    "  return response"
   ]
  },
  {
   "cell_type": "code",
   "execution_count": 19,
   "metadata": {},
   "outputs": [],
   "source": [
    "retrieve_target_filters = decide_to_retrieve_values_for_the_filters(related_fields)"
   ]
  },
  {
   "cell_type": "code",
   "execution_count": 20,
   "metadata": {},
   "outputs": [],
   "source": [
    "\n",
    "class LookerFilterRetrieves(BaseModel):\n",
    "  required_target: List[str] = Field(description=\"required_target\")\n",
    "\n",
    "def get_retrieve_target_filters_object(retrieve_target_filters):\n",
    "  parser = PydanticOutputParser(pydantic_object=LookerFilterRetrieves)\n",
    "  return parser.parse(retrieve_target_filters)\n"
   ]
  },
  {
   "cell_type": "code",
   "execution_count": 21,
   "metadata": {},
   "outputs": [
    {
     "data": {
      "text/plain": [
       "' ```json\\n  {\\n    \"required_target\": [\"national_pension_mom.data_create_yearmonth_year\", \"bizcategory.cat_l1\"]\\n  }\\n  ```'"
      ]
     },
     "execution_count": 21,
     "metadata": {},
     "output_type": "execute_result"
    }
   ],
   "source": [
    "retrieve_target_filters"
   ]
  },
  {
   "cell_type": "code",
   "execution_count": 22,
   "metadata": {},
   "outputs": [],
   "source": [
    "def get_user_input_value_for_filter_field(related_fields, field_name):\n",
    "  for filter in related_fields.filters:\n",
    "    if filter.field_name == field_name:\n",
    "      return filter.values\n",
    "  return \"\"\n"
   ]
  },
  {
   "cell_type": "code",
   "execution_count": null,
   "metadata": {},
   "outputs": [],
   "source": [
    "retrieve_target_filter_obj = get_retrieve_target_filters_object(retrieve_target_filters)"
   ]
  },
  {
   "cell_type": "code",
   "execution_count": null,
   "metadata": {},
   "outputs": [],
   "source": [
    "from looker_sdk.sdk.api31 import models as ml\n",
    "\n",
    "def get_validated_filter_values_from_looker(lookml_model, lookml_explore, retrieve_target_filter_obj):\n",
    "  choose_right_filter_value_list = []\n",
    "  for retrieve_target_filter in retrieve_target_filter_obj.required_target:\n",
    "    print(retrieve_target_filter)\n",
    "    query_template = ml.WriteQuery(model=lookml_model, view=lookml_explore,fields=[retrieve_target_filter])\n",
    "    query = sdk.create_query(query_template)\n",
    "    json_ = sdk.run_query(query.id, \"json\")\n",
    "    print(json_)\n",
    "    choose_right_filter_value_list.append({ retrieve_target_filter : json_})\n",
    "  return choose_right_filter_value_list\n",
    "    \n"
   ]
  },
  {
   "cell_type": "code",
   "execution_count": null,
   "metadata": {},
   "outputs": [],
   "source": [
    "retrieve_filter_and_values = get_validated_filter_values_from_looker(lookml_model, lookml_explore, retrieve_target_filter_obj)"
   ]
  },
  {
   "cell_type": "code",
   "execution_count": null,
   "metadata": {},
   "outputs": [],
   "source": [
    "retrieve_filter_and_values"
   ]
  },
  {
   "cell_type": "code",
   "execution_count": null,
   "metadata": {},
   "outputs": [],
   "source": [
    "def choose_right_filter_value(filter_values, wanted_value):\n",
    "  example_json = \"[{\\\"national_pension_mom.data_create_yearmonth_year\\\":2022}]\"\n",
    "  prompt_template = \"\"\"As a looker developer, choose right filter value for the wanted value below without changing filter value itself.\n",
    "\n",
    "  example :\n",
    "  {example_json}\n",
    "\n",
    "  filter_values : {filter_values}\n",
    "\n",
    "  wanted_values: {wanted_value}\n",
    "\n",
    "  answer format: json array\n",
    "  [filter_value1, filter_value2, ...]\n",
    "  \"\"\"\n",
    "  response = llm.predict(prompt_template.format(example_json=example_json,filter_values=filter_values, wanted_value=wanted_value))\n",
    "  return response  "
   ]
  },
  {
   "cell_type": "code",
   "execution_count": null,
   "metadata": {},
   "outputs": [],
   "source": [
    "import json\n",
    "\n",
    "# class LookerValidFilterValue(BaseModel):\n",
    "#   field_name: str = Field(description=\"field_name\")\n",
    "#   field_values: List[str] = Field(description=\"field_values\")\n",
    "\n",
    "# def parse_valid_filter_values(response):\n",
    "#   parser = PydanticOutputParser(pydantic_object=LookerValidFilterValue)\n",
    "#   return parser.parse(response)\n",
    "\n",
    "def parse_valid_filter_values(response):\n",
    "  print('llm response:'+ response)\n",
    "  start_index = response.find('[')\n",
    "  end_index = response.rfind(']')\n",
    "  json_data = response[start_index:end_index+1]\n",
    "  parsed_json = json.loads(json_data)\n",
    "  return parsed_json"
   ]
  },
  {
   "cell_type": "code",
   "execution_count": null,
   "metadata": {},
   "outputs": [],
   "source": [
    "def get_appropriate_filter_value_pair(related_fields, retrieve_filter_and_values):\n",
    "  filter_value_pair = []\n",
    "  for filter_and_values in retrieve_filter_and_values:\n",
    "    field_name = list(filter_and_values.keys())[0]\n",
    "    #print(filter_and_values)\n",
    "    user_input_value = get_user_input_value_for_filter_field(related_fields, field_name)\n",
    "    #print(user_input_value)\n",
    "    actual_value = choose_right_filter_value(filter_and_values, user_input_value)\n",
    "    #print(actual_value)  \n",
    "    value_object = parse_valid_filter_values(actual_value)\n",
    "    #print(value_object)\n",
    "    filter_value_pair.append(value_object)\n",
    "  return filter_value_pair\n"
   ]
  },
  {
   "cell_type": "code",
   "execution_count": null,
   "metadata": {},
   "outputs": [],
   "source": [
    "valid_filter_values = get_appropriate_filter_value_pair(related_fields, retrieve_filter_and_values)"
   ]
  },
  {
   "cell_type": "code",
   "execution_count": null,
   "metadata": {},
   "outputs": [],
   "source": [
    "valid_filter_values"
   ]
  },
  {
   "cell_type": "code",
   "execution_count": null,
   "metadata": {},
   "outputs": [],
   "source": [
    "def get_quoted_value(valid_filter_values, field_name):\n",
    "  values = []\n",
    "  for filter_values in valid_filter_values:\n",
    "    print(filter_values)\n",
    "    for filter_value in filter_values:\n",
    "      field_name_cmp = list(filter_value.keys())[0]\n",
    "      field_value = list(filter_value.values())[0]\n",
    "      field_type = get_field_type(field_name, schema_fields)\n",
    "      if field_name_cmp == field_name:\n",
    "        if field_type == 'string':\n",
    "          values.append(field_value)\n",
    "        else:\n",
    "          values.append(str(field_value))\n",
    "  return ','.join(values)\n",
    "  "
   ]
  },
  {
   "cell_type": "code",
   "execution_count": null,
   "metadata": {},
   "outputs": [],
   "source": [
    "from typing import cast, Dict, List, Union\n",
    "\n",
    "\n",
    "def get_lookml_filter_values(valid_filter_values, filters):\n",
    "  filter_dict:Dict[str, str] = {}\n",
    "  for filter in filters:\n",
    "    field_name = filter.field_name\n",
    "    quoted_values = get_quoted_value(valid_filter_values, field_name)\n",
    "    filter.values = quoted_values\n",
    "    filter_dict[field_name] = quoted_values\n",
    "  return filter_dict"
   ]
  },
  {
   "cell_type": "code",
   "execution_count": null,
   "metadata": {},
   "outputs": [],
   "source": [
    "print(get_lookml_filter_values(valid_filter_values, related_fields.filters))"
   ]
  },
  {
   "cell_type": "code",
   "execution_count": null,
   "metadata": {},
   "outputs": [],
   "source": [
    "for sorted_column in related_fields.sorts:\n",
    "  print(sorted_column)"
   ]
  },
  {
   "cell_type": "code",
   "execution_count": null,
   "metadata": {},
   "outputs": [],
   "source": [
    "print(related_fields)"
   ]
  },
  {
   "cell_type": "code",
   "execution_count": null,
   "metadata": {},
   "outputs": [],
   "source": [
    "def make_dimension_and_description_pair(related_fields, schema_fields):\n",
    "  dimension_and_description_pair = []\n",
    "  for one_dimension in related_fields.dimensions:\n",
    "    for dimension in schema_fields:\n",
    "      if dimension['field_name'] == one_dimension:\n",
    "        dimension_and_description_pair.append((one_dimension, dimension['description']))\n",
    "  return dimension_and_description_pair\n"
   ]
  },
  {
   "cell_type": "code",
   "execution_count": null,
   "metadata": {},
   "outputs": [],
   "source": [
    "def choose_chart_type_and_pivots(related_fields, schema_fields, question):\n",
    "  dimension_and_description_pair = make_dimension_and_description_pair(related_fields, schema_fields)\n",
    "  sample_json = \"\"\"{\n",
    "  \"chart_type\": \"looker_column\",\n",
    "  \"date_time_dimensions\": [\"dimension1\"],\n",
    "  \"pivots\": [\n",
    "    \"field1\"\n",
    "  ],\n",
    "  \"hidden_fields\": [\n",
    "    \"field1\"\n",
    "  ]\n",
    "  \"reason_to_choose\": \"I choose field1 as a pivot field because ...\"\n",
    "  }\"\"\"\n",
    "  prompt_template = \"\"\"As a looker developer, choose chart type and pivot fields and hidden fields in the given dimensions for the question below. \n",
    "  Pivot field is a field that is used to create a pivot table. A pivot field converts category values in the field to columns so that you can compare different category values. \n",
    "  For example, if you have sales data, you can compare sales by product by setting the \"Product\" field as a pivot field. Date/time fields MUST not be used as pivot fields.\n",
    "  Hidden field is a field that is not displayed in a chart. Hidden fields are used to hide fields that are not needed in the chart or that can confuse users. \n",
    "  For example, the \"Product ID\" field can be used to identify products, but it does not need to be displayed in a chart. If there are two same date fields, one of them can be hidden. \n",
    "  At least one field must be a visible field that is not used in pivot fields or hidden fields.\n",
    "\n",
    "  chart_types : \n",
    "  looker_column - Column charts are useful when you want to compare the values of multiple fields for multiple records. It needs one main field to show the values separated by the main field. And this field must not be a pivot field.\n",
    "  looker_line - Line charts are useful when you want to show the changes in a value over time. They are also useful for comparing the changes in two or more values over time.\n",
    "  looker_area - Area charts are useful when you want to compare the trends of two or more values over time. They are also useful for showing the cumulative sum of values over time.\n",
    "  looker_funnel - Funnel charts are useful to understand events in a sequential process, like prospect stages in a sales pipeline, engagement with a marketing campaign, or visitor movement through a website.\n",
    "  looker_pie - Pie charts are useful when you want to show the proportion of values to the total value. They are also useful for comparing the proportional differences between values.\n",
    "  looker_timeline - Timeline charts are useful when you want to show events over time. They are also useful for showing the duration of events. It needs at least 3 fields. 1. Event Name 2. Start Date 3. End Date\n",
    "  looker_table - Table charts are useful when you want to show the values of multiple fields for multiple records. They are also useful for showing the values of multiple fields for a single record.\n",
    "\n",
    "  dimensions : \n",
    "  {dimensions}\n",
    "\n",
    "  question:\n",
    "  {question}\n",
    "\n",
    "  answer format: json\n",
    "  {sample_json}\n",
    "  \"\"\"\n",
    "  prompt_full = prompt_template.format(dimensions=dimension_and_description_pair, question=question, sample_json=sample_json)\n",
    "  #print(prompt_full)\n",
    "  response = llm.predict(prompt_full)\n",
    "  return response"
   ]
  },
  {
   "cell_type": "code",
   "execution_count": null,
   "metadata": {},
   "outputs": [],
   "source": [
    "class LookerChartTypeClassifier(BaseModel):\n",
    "  chart_type: str = Field(description=\"chart_type\")\n",
    "  date_time_dimensions: List[str] = Field(description=\"date_time_dimensions\")\n",
    "  pivots: List[str] = Field(description=\"pivot fields\")\n",
    "  hidden_fields: List[str] = Field(description=\"hidden fields\")\n",
    "  reason_to_choose: str = Field(description=\"reason_to_choose\")\n",
    "\n",
    "def get_looker_chart_type(reponse):\n",
    "  parser = PydanticOutputParser(pydantic_object=LookerChartTypeClassifier)\n",
    "  return parser.parse(response)\n"
   ]
  },
  {
   "cell_type": "code",
   "execution_count": null,
   "metadata": {},
   "outputs": [],
   "source": [
    "llm_response = choose_chart_type_and_pivots(related_fields, schema_fields, question)"
   ]
  },
  {
   "cell_type": "code",
   "execution_count": null,
   "metadata": {},
   "outputs": [],
   "source": [
    "def parse_valid_json_values(response):\n",
    "  print('llm response:'+ response)\n",
    "  start_index = response.find('{')\n",
    "  end_index = response.rfind('}')\n",
    "  json_data = response[start_index:end_index+1]\n",
    "  parsed_json = json.loads(json_data)\n",
    "  return parsed_json\n",
    "\n",
    "chart_type_and_pivots = parse_valid_json_values(llm_response)"
   ]
  },
  {
   "cell_type": "code",
   "execution_count": null,
   "metadata": {},
   "outputs": [],
   "source": [
    "# chart_type_and_pivots = get_looker_chart_type(llm_response)\n",
    "chart_type_and_pivots"
   ]
  },
  {
   "cell_type": "code",
   "execution_count": null,
   "metadata": {},
   "outputs": [],
   "source": [
    "def make_query_for_the_look(lookml_model, lookml_explore, related_fields, valid_filter_values):\n",
    "  fields = []\n",
    "  fields.extend(related_fields.dimensions)\n",
    "  fields.extend(related_fields.measures)\n",
    "  filters = get_lookml_filter_values(valid_filter_values, related_fields.filters)\n",
    "  hidden_fields = chart_type_and_pivots['hidden_fields']\n",
    "  pivot_fields = chart_type_and_pivots['pivots']\n",
    "  chart_type = chart_type_and_pivots['chart_type']\n",
    "  print('fields:' + str(fields))\n",
    "  print('filters:' + str(filters))\n",
    "  print('hidden_fields:' + str(hidden_fields))\n",
    "  print('pivot_fields:' + str(pivot_fields))\n",
    "  print('chart_type:' + str(chart_type))\n",
    "  query_template = ml.WriteQuery(model=lookml_model, view=lookml_explore,fields=fields,filters=filters,pivots=pivot_fields,vis_config={'type':chart_type, 'hidden_fields':hidden_fields})\n",
    "  query = sdk.create_query(query_template)\n",
    "  run_response = sdk.run_inline_query(\"json\", query)\n",
    "  print('query.id:' + str(query.id))\n",
    "  return query\n",
    "    "
   ]
  },
  {
   "cell_type": "code",
   "execution_count": null,
   "metadata": {},
   "outputs": [],
   "source": [
    "generated_query = make_query_for_the_look(lookml_model, lookml_explore, related_fields, valid_filter_values)\n",
    "print(generated_query.id)\n",
    "\n"
   ]
  },
  {
   "cell_type": "code",
   "execution_count": null,
   "metadata": {},
   "outputs": [],
   "source": [
    "## Caution : 'title' field should be unique for each look. You should change this field to create new look.\n",
    "\n",
    "def create_look(question, generated_query):\n",
    "  existing_look = sdk.search_looks(query_id=generated_query.id)\n",
    "  if len(existing_look) > 0:\n",
    "    return existing_look[0]\n",
    "  new_look = sdk.create_look(ml.WriteLookWithQuery(query_id=generated_query.id, \n",
    "    description=question,\n",
    "    deleted=False,\n",
    "    is_run_on_load=True,\n",
    "    public=True,\n",
    "    folder_id=str(sdk.me().personal_folder_id),\n",
    "    title=question+\"generated2\"))\n",
    "  return new_look\n"
   ]
  },
  {
   "cell_type": "code",
   "execution_count": null,
   "metadata": {},
   "outputs": [],
   "source": [
    "new_look = create_look(question, generated_query)"
   ]
  },
  {
   "cell_type": "code",
   "execution_count": null,
   "metadata": {},
   "outputs": [],
   "source": [
    "def get_full_url(short_url):\n",
    "  return 'http://localhost:8080' + short_url\n",
    "\n",
    "print(get_full_url(new_look.short_url))"
   ]
  },
  {
   "cell_type": "code",
   "execution_count": null,
   "metadata": {},
   "outputs": [],
   "source": [
    "for group in sdk.all_groups():\n",
    "  print(group)"
   ]
  },
  {
   "cell_type": "code",
   "execution_count": null,
   "metadata": {},
   "outputs": [],
   "source": [
    "sso_url = sdk.create_sso_embed_url(ml.EmbedSsoParams(target_url=get_full_url(new_look.short_url), group_ids=[3]))"
   ]
  },
  {
   "cell_type": "code",
   "execution_count": null,
   "metadata": {},
   "outputs": [],
   "source": [
    "print(sso_url.url)"
   ]
  },
  {
   "cell_type": "code",
   "execution_count": null,
   "metadata": {},
   "outputs": [],
   "source": [
    "for one_look in sdk.all_looks():\n",
    "  print(one_look.title)\n",
    "  query = sdk.query(one_look.query_id)\n",
    "  print(query)\n"
   ]
  },
  {
   "cell_type": "markdown",
   "metadata": {},
   "source": [
    "THe below image is a look created by the above codes. \n",
    "\n",
    "![alt Looker View image](resources/looker_view_8.png \"Title\")"
   ]
  },
  {
   "cell_type": "markdown",
   "metadata": {},
   "source": [
    "## RAG Architecture with SQLs\n",
    "\n",
    "In many cases, there are lots of SQLs already used in the business. In that, Paretto's Rule exists - small portion of SQLs are more frequently used in the real case. \n",
    "LLM can convert SQL into plain english to describe the goal of SQLs. And RAG architecture can help to search appropriate SQLs for the user's request.\n",
    "\n",
    "I will use public dataset to show this case. "
   ]
  },
  {
   "cell_type": "code",
   "execution_count": 23,
   "metadata": {},
   "outputs": [],
   "source": [
    "#!pip install pandas\n",
    "#!pip install db-dtypes\n",
    "#!pip install matplotlib"
   ]
  },
  {
   "cell_type": "code",
   "execution_count": 24,
   "metadata": {},
   "outputs": [],
   "source": [
    "from google.cloud import bigquery\n",
    "client = bigquery.Client()"
   ]
  },
  {
   "cell_type": "code",
   "execution_count": 25,
   "metadata": {},
   "outputs": [],
   "source": [
    "import pandas as pd\n",
    "\n",
    "df_c_cpi = client.query('SELECT * FROM `bigquery-public-data.bls.cpi_u`').to_dataframe()"
   ]
  },
  {
   "cell_type": "code",
   "execution_count": 26,
   "metadata": {},
   "outputs": [
    {
     "data": {
      "text/plain": [
       "series_id                7928\n",
       "year                       25\n",
       "period                     16\n",
       "value                  254037\n",
       "footnote_codes              1\n",
       "survey_abbreviation         1\n",
       "seasonal_code               2\n",
       "periodicity_code            2\n",
       "area_code                  64\n",
       "area_name                  58\n",
       "item_code                 400\n",
       "item_name                 400\n",
       "date                      375\n",
       "dtype: int64"
      ]
     },
     "execution_count": 26,
     "metadata": {},
     "output_type": "execute_result"
    }
   ],
   "source": [
    "# distinct values in each columns of the dataframe\n",
    "df_c_cpi.nunique()\n"
   ]
  },
  {
   "cell_type": "code",
   "execution_count": 27,
   "metadata": {},
   "outputs": [
    {
     "data": {
      "text/plain": [
       "array(['All items', 'Energy', 'All items less food',\n",
       "       'All items less food and shelter',\n",
       "       'All items less food, shelter, and energy',\n",
       "       'All items less food, shelter, energy, and used cars and trucks',\n",
       "       'All items less food and energy', 'All items less shelter',\n",
       "       'All items less medical care', 'All items less energy',\n",
       "       'Apparel less footwear', 'Apparel', \"Men's and boys' apparel\",\n",
       "       \"Women's and girls' apparel\", 'Commodities', 'Energy commodities',\n",
       "       'Commodities less food', 'Commodities less food and beverages',\n",
       "       'Commodities less food and energy commodities',\n",
       "       'Commodities less food, energy, and used cars and trucks'],\n",
       "      dtype=object)"
      ]
     },
     "execution_count": 27,
     "metadata": {},
     "output_type": "execute_result"
    }
   ],
   "source": [
    "# head of the 'iten_name' column's distinct values\n",
    "df_c_cpi['item_name'].unique()[:20]"
   ]
  },
  {
   "cell_type": "code",
   "execution_count": 28,
   "metadata": {},
   "outputs": [],
   "source": [
    "df_ts_cpi = df_c_cpi[(df_c_cpi['item_name'] == 'All items') & (df_c_cpi['area_name'] == 'U.S. city average')][['date', 'value']]\n",
    "\n",
    "# convert the 'date' column to datetime type\n",
    "df_ts_cpi['date'] = pd.to_datetime(df_ts_cpi['date'])\n",
    "\n",
    "# set the 'date' column as the index of the dataframe\n",
    "df_ts_cpi.set_index('date', inplace=True)\n"
   ]
  },
  {
   "cell_type": "code",
   "execution_count": 29,
   "metadata": {},
   "outputs": [
    {
     "data": {
      "text/plain": [
       "<Axes: title={'center': 'Consumer Price Index (CPI)'}, xlabel='date'>"
      ]
     },
     "execution_count": 29,
     "metadata": {},
     "output_type": "execute_result"
    },
    {
     "data": {
      "image/png": "[encoded data removed]",
      "text/plain": [
       "<Figure size 2000x600 with 1 Axes>"
      ]
     },
     "metadata": {},
     "output_type": "display_data"
    }
   ],
   "source": [
    "df_ts_cpi.plot(figsize=(20, 6), title='Consumer Price Index (CPI)')"
   ]
  },
  {
   "cell_type": "code",
   "execution_count": 30,
   "metadata": {},
   "outputs": [],
   "source": [
    "# make new dataframe with item_name == 'Commodities' and area_name == 'U.S. city average'\n",
    "# and select only 'date' and 'value' columns\n",
    "df_ts_cpi_commodities = df_c_cpi[(df_c_cpi['item_name'] == 'Commodities') & (df_c_cpi['area_name'] == 'U.S. city average')][['date', 'value']]\n"
   ]
  },
  {
   "cell_type": "code",
   "execution_count": 31,
   "metadata": {},
   "outputs": [
    {
     "data": {
      "text/plain": [
       "<Axes: title={'center': 'Consumer Price Index (CPI) - Commodities'}, xlabel='date'>"
      ]
     },
     "execution_count": 31,
     "metadata": {},
     "output_type": "execute_result"
    },
    {
     "data": {
      "image/png": "[encoded data removed]",
      "text/plain": [
       "<Figure size 2000x600 with 1 Axes>"
      ]
     },
     "metadata": {},
     "output_type": "display_data"
    }
   ],
   "source": [
    "\n",
    "# convert the 'date' column to datetime type\n",
    "df_ts_cpi_commodities['date'] = pd.to_datetime(df_ts_cpi_commodities['date'])\n",
    "\n",
    "# set the 'date' column as the index of the dataframe\n",
    "df_ts_cpi_commodities.set_index('date', inplace=True)\n",
    "\n",
    "df_ts_cpi_commodities.plot(figsize=(20, 6), title='Consumer Price Index (CPI) - Commodities')"
   ]
  },
  {
   "cell_type": "code",
   "execution_count": 32,
   "metadata": {},
   "outputs": [
    {
     "data": {
      "text/plain": [
       "<Axes: title={'center': 'Consumer Price Index (CPI) - Food'}, xlabel='date'>"
      ]
     },
     "execution_count": 32,
     "metadata": {},
     "output_type": "execute_result"
    },
    {
     "data": {
      "image/png": "[encoded data removed]",
      "text/plain": [
       "<Figure size 2000x600 with 1 Axes>"
      ]
     },
     "metadata": {},
     "output_type": "display_data"
    }
   ],
   "source": [
    "# make new dataframe with item_name == 'Food' and area_name == 'U.S. city average'\n",
    "# and select only 'date' and 'value' columns\n",
    "df_ts_cpi_food = df_c_cpi[(df_c_cpi['item_name'] == 'Food') & (df_c_cpi['area_name'] == 'U.S. city average')][['date', 'value']]\n",
    "# convert the 'date' column to datetime type\n",
    "df_ts_cpi_food['date'] = pd.to_datetime(df_ts_cpi_food['date'])\n",
    "# set the 'date' column as the index of the dataframe\n",
    "df_ts_cpi_food.set_index('date', inplace=True)\n",
    "df_ts_cpi_food.plot(figsize=(20, 6), title='Consumer Price Index (CPI) - Food')"
   ]
  },
  {
   "cell_type": "code",
   "execution_count": 33,
   "metadata": {},
   "outputs": [],
   "source": [
    "sql_query_average_cpi = \"\"\"with tb_average_cpi as (\n",
    "  select date, value from `bigquery-public-data.bls.cpi_u` where item_name = {cpi_item_name} and area_name = {us_overall_or_specific_region} order by date asc\n",
    "  ), \n",
    "  select * from tb_average_cpi\"\"\"\n",
    "\n",
    "sql_schema = \"\"\"\n",
    "series_id\tSTRING\tREQUIRED\t\t\t\t- The series id of the data. This is a unique identifier for the data series. It determine item_code / area_code / survey_abbreviation / seasonal_code / periodicity_code\n",
    "year\tINTEGER\tNULLABLE\t\t\t\t\n",
    "period\tSTRING\tNULLABLE\t\t\t\t\n",
    "value\tFLOAT\tNULLABLE\t\t\t\t\n",
    "footnote_codes\tSTRING\tNULLABLE\t\t\t\t\n",
    "survey_abbreviation\tSTRING\tNULLABLE\t\t\t\t\n",
    "seasonal_code\tSTRING\tNULLABLE\t\t\t\t\n",
    "periodicity_code\tSTRING\tNULLABLE\t\t\t\t\n",
    "area_code\tSTRING\tNULLABLE\t\t\t\t\n",
    "area_name\tSTRING\tNULLABLE\t\t\t\t\n",
    "item_code\tSTRING\tNULLABLE\t\t\t\t\n",
    "item_name\tSTRING\tNULLABLE\t\t\t\t\n",
    "date\tDATE\tNULLABLE\t\n",
    "\"\"\""
   ]
  },
  {
   "cell_type": "code",
   "execution_count": 34,
   "metadata": {},
   "outputs": [],
   "source": [
    "# !pip install pgvector\n",
    "#!pip install psycopg"
   ]
  },
  {
   "cell_type": "code",
   "execution_count": 68,
   "metadata": {},
   "outputs": [],
   "source": [
    "import vector_util\n"
   ]
  },
  {
   "cell_type": "code",
   "execution_count": 70,
   "metadata": {},
   "outputs": [],
   "source": [
    "import importlib\n",
    "importlib.reload(vector_util)\n",
    "\n",
    "vdb = vector_util.VectorDatabase()"
   ]
  },
  {
   "cell_type": "code",
   "execution_count": 71,
   "metadata": {},
   "outputs": [],
   "source": [
    "def convert_sql_to_description(schema, sql_query):\n",
    "  sample_format = \"\"\"\n",
    "  {\n",
    "    \"description\" : \"The output of the query can be used to track the CPI over time for a specific item and area. It can also be used to compare the CPI for different items and areas.\",\n",
    "    \"input_parameters\" : [\n",
    "      {\n",
    "        \"parameter_name\" : \"cpi_item_name\",\n",
    "        \"parameter_type\" : \"string\",\n",
    "        \"matched_column_name\" : \"item_name\",\n",
    "        \"matched_table_name\" : \"bigquery-public-data.bls.cpi_u\"\n",
    "      }\n",
    "    ],\n",
    "    \"output_values\" : [\n",
    "      {\n",
    "        \"column_name\" : \"registration_date\",\n",
    "        \"column_type\" : \"date\"\n",
    "        \"matched_column_name\" : \"sample_date\",\n",
    "        \"matched_table_name\" : \"bigquery-public-data.sample2\"\n",
    "      }\n",
    "    ]\n",
    "  }\n",
    "  \"\"\"\n",
    "\n",
    "  prompt_template = \"\"\"As a business domain developer, convert the given sql & schema into plain english in json format.\n",
    "\n",
    "  schema : \n",
    "  {schema}  \n",
    "\n",
    "  sql query : \n",
    "  {sql_query}\n",
    "\n",
    "  output format : json\n",
    "  {sample_format}\n",
    "  \"\"\"\n",
    "  response = llm.predict(prompt_template.format(schema=schema, sql_query=sql_query, sample_format=sample_format))\n",
    "  return response\n",
    "  "
   ]
  },
  {
   "cell_type": "code",
   "execution_count": 72,
   "metadata": {},
   "outputs": [],
   "source": [
    "import json\n",
    "\n",
    "def parse_json_response(llm_json_response) -> any:\n",
    "  #print('llm response:'+ response)\n",
    "  start_char = '['\n",
    "  end_char = ']'\n",
    "  if llm_json_response.find('[') == -1 or llm_json_response.find('{') < llm_json_response.find('[') :\n",
    "    start_char = '{'\n",
    "    end_char = '}'\n",
    "  start_index = llm_json_response.find(start_char)\n",
    "  end_index = llm_json_response.rfind(end_char)\n",
    "  json_data = llm_json_response[start_index:end_index+1]\n",
    "  parsed_json = json.loads(json_data)\n",
    "  return parsed_json\n"
   ]
  },
  {
   "cell_type": "code",
   "execution_count": 73,
   "metadata": {},
   "outputs": [],
   "source": [
    "sql_description = parse_json_response(convert_sql_to_description(sql_schema, sql_query_average_cpi))"
   ]
  },
  {
   "cell_type": "code",
   "execution_count": 74,
   "metadata": {},
   "outputs": [
    {
     "data": {
      "text/plain": [
       "{'description': 'The output of the query can be used to track the CPI over time for a specific item and area. It can also be used to compare the CPI for different items and areas.',\n",
       " 'input_parameters': [{'parameter_name': 'cpi_item_name',\n",
       "   'parameter_type': 'string',\n",
       "   'matched_column_name': 'item_name',\n",
       "   'matched_table_name': 'bigquery-public-data.bls.cpi_u'},\n",
       "  {'parameter_name': 'us_overall_or_specific_region',\n",
       "   'parameter_type': 'string',\n",
       "   'matched_column_name': 'area_name',\n",
       "   'matched_table_name': 'bigquery-public-data.bls.cpi_u'}],\n",
       " 'output_values': [{'column_name': 'date',\n",
       "   'column_type': 'date',\n",
       "   'matched_column_name': 'date',\n",
       "   'matched_table_name': 'tb_average_cpi'},\n",
       "  {'column_name': 'value',\n",
       "   'column_type': 'float',\n",
       "   'matched_column_name': 'value',\n",
       "   'matched_table_name': 'tb_average_cpi'}]}"
      ]
     },
     "execution_count": 74,
     "metadata": {},
     "output_type": "execute_result"
    }
   ],
   "source": [
    "sql_description"
   ]
  },
  {
   "cell_type": "code",
   "execution_count": 75,
   "metadata": {},
   "outputs": [],
   "source": [
    "from langchain.embeddings import VertexAIEmbeddings\n",
    "\n",
    "embeddings = VertexAIEmbeddings()\n",
    "text = \"This is a test document.\""
   ]
  },
  {
   "cell_type": "code",
   "execution_count": 76,
   "metadata": {},
   "outputs": [],
   "source": [
    "query_result = embeddings.embed_query(text)"
   ]
  },
  {
   "cell_type": "code",
   "execution_count": 77,
   "metadata": {},
   "outputs": [
    {
     "name": "stdout",
     "output_type": "stream",
     "text": [
      "<class 'str'>\n",
      "The output of the query can be used to track the CPI over time for a specific item and area. It can also be used to compare the CPI for different items and areas.\n",
      "<class 'list'>\n"
     ]
    }
   ],
   "source": [
    "print(type(sql_description['description']))\n",
    "print(str(sql_description['description']))\n",
    "print(type(embeddings.embed_query(sql_description['description'])))\n"
   ]
  },
  {
   "cell_type": "code",
   "execution_count": 78,
   "metadata": {},
   "outputs": [
    {
     "name": "stdout",
     "output_type": "stream",
     "text": [
      "[-0.02595522068440914, 0.0006572342244908214, -0.023377886041998863, 0.020433232188224792, 0.027631275355815887, -0.0030629723332822323, -0.007826668210327625, -0.00043231327435933053, 0.03842558711767197, 0.024827519431710243, -0.027034303173422813, 0.010279344394803047, 0.032118748873472214, -0.04200919345021248, -0.0012781902914866805, -0.0509631484746933, 0.0017937598749995232, 0.00027060252614319324, 0.03978674113750458, -0.018073340877890587, -0.01945793256163597, 0.0051135108806192875, -0.008163293823599815, 0.024988019838929176, -0.00780998170375824, -0.08009365946054459, 0.03683385252952576, 0.016621651127934456, -0.06003792583942413, -0.008484517224133015, -0.021625490859150887, 0.02502411976456642, -0.011375430971384048, -0.019045941531658173, -0.022286009043455124, 0.07250796258449554, -0.0007727102492935956, 0.04286448284983635, 0.003474119119346142, 0.07721562683582306, 0.01902158558368683, -0.03039928339421749, 0.026833293959498405, 0.04327411204576492, -0.01610691286623478, -0.02751237154006958, -0.03132005035877228, 0.006773331202566624, -0.004700473044067621, -0.04253728687763214, -0.007850720547139645, 0.011416088789701462, -0.008480479940772057, 0.06815490871667862, 0.060694143176078796, 0.026897365227341652, -0.061493974179029465, -0.015412344597280025, 0.011366907507181168, -0.018985524773597717, 0.01006588526070118, 0.006023286376148462, -0.03996976464986801, -0.026169700548052788, -0.022167785093188286, 0.02940014936029911, -0.0050111012533307076, 0.011137079447507858, -0.03586773946881294, -0.03989647701382637, 0.045926254242658615, -0.013800134882330894, -0.03786686807870865, 0.021701687946915627, 0.07826535403728485, 0.04525594413280487, 0.02702249400317669, 0.03328605368733406, 0.04205535724759102, -0.07374878227710724, 0.008811159059405327, -0.010975254699587822, -0.09028621017932892, -0.11659133434295654, -0.07076834887266159, 0.04787003621459007, 0.012610897421836853, 0.0877595990896225, -0.06922701001167297, 0.012924795038998127, 0.009584559127688408, -0.02757377177476883, 0.033920422196388245, 0.019864283502101898, 0.006206369958817959, -0.007657949812710285, -0.03695972263813019, -0.05366601049900055, -0.008843309246003628, -0.032503336668014526, -0.03172609582543373, -0.04926542192697525, 0.02908899635076523, -0.05177873745560646, 0.028646424412727356, -0.013201716355979443, -0.022776730358600616, 0.06856659799814224, -0.011586864478886127, -0.08841443806886673, -0.056236300617456436, -0.04655236005783081, -0.007085399702191353, 0.06594278663396835, 0.022903703153133392, -0.0025496711023151875, -0.04915808513760567, -0.00787490513175726, 0.042051248252391815, -0.020636655390262604, -0.02682850882411003, -0.040446650236845016, 0.0167390126734972, 0.0023651854135096073, -0.024389926344156265, 0.004187618847936392, 0.06222186237573624, -0.01787688583135605, -0.012652234174311161, -0.06557351350784302, 0.01965055987238884, -0.013403008691966534, -0.005280154291540384, -0.04632570594549179, 0.02749127335846424, 0.01811278983950615, 0.06988835334777832, 0.00846455805003643, -0.02209179848432541, 0.04633178934454918, -0.021807314828038216, 0.005263135768473148, -0.004176987335085869, -0.017709627747535706, 0.0012265356490388513, -0.009283296763896942, 0.013518567197024822, -0.06183289736509323, -0.06568549573421478, -0.05123533308506012, 0.005028256215155125, -0.029105903580784798, 0.005660421680659056, 0.0021467912010848522, 0.040834102779626846, -0.012616114690899849, 0.017827767878770828, -0.005053177010267973, -0.00908130407333374, -0.03706933557987213, 0.007649227511137724, -0.07976046949625015, -0.007436004001647234, 0.0010646659648045897, 0.06651594489812851, 0.03705998510122299, 0.07387162744998932, 0.01570657268166542, 0.011187921278178692, 0.027250615879893303, 0.06669321656227112, -0.13142497837543488, 0.04329213500022888, -0.020183390006422997, -0.021677814424037933, -0.03322267532348633, -0.009108485653996468, 0.032339274883270264, -0.012406302616000175, -0.007726851850748062, -0.05353450030088425, -0.022625751793384552, -0.05350419878959656, 0.013677260838449001, -0.09954727441072464, -0.03310844674706459, -0.033384982496500015, -0.008175059221684933, -0.05168043449521065, 0.04663022607564926, -0.00937584601342678, -0.03268823400139809, 0.016339298337697983, -0.033909741789102554, -0.037786923348903656, 0.01810586079955101, 0.028592728078365326, -0.11861003190279007, 0.0008510759216733277, 0.020187215879559517, -0.022397974506020546, 0.03987802192568779, 0.025283994153141975, 0.033284034579992294, -0.007842494174838066, 0.03167375177145004, -0.02986895479261875, 0.03644833341240883, 0.00549339409917593, 0.008247996680438519, 0.002087010769173503, 0.014056974090635777, 0.03592713177204132, 0.000511494348756969, 0.007258621510118246, 0.0010755478870123625, -0.015767155215144157, -0.10841398686170578, -0.04892685264348984, 0.008123073726892471, -0.036082785576581955, 0.012934126891195774, 0.005686355754733086, 0.04468005895614624, -0.025088217109441757, 0.03660890460014343, 0.06974971294403076, 0.04457363486289978, 0.04544977843761444, 0.03264375776052475, -0.007437295746058226, -0.018497521057724953, 0.008765694685280323, 0.00128517288248986, 0.022131986916065216, 0.012716448865830898, 0.005272198002785444, -0.02556166984140873, -0.051955223083496094, -0.0400310754776001, 0.0674978718161583, 0.039688240736722946, -0.06151793524622917, 0.004152781330049038, 0.0037367106415331364, -0.0004152214096393436, 0.002605488058179617, 0.03780355304479599, 0.038059331476688385, 0.006379876751452684, 0.07869116961956024, -0.07107073068618774, 0.00694266427308321, -0.016559278592467308, 0.05489557981491089, 0.011006067506968975, -0.007625747472047806, 0.037671979516744614, -0.03636733070015907, 0.04117999225854874, -0.019919514656066895, -0.03121459111571312, -0.017258640378713608, 0.09723677486181259, -0.010367300361394882, -0.015176055021584034, -0.028760161250829697, 0.00035835543530993164, 0.029595382511615753, -0.03674829751253128, 0.006844908930361271, -0.01862356625497341, 0.03927798941731453, 0.02906058542430401, 0.019131971523165703, 0.013594190590083599, 0.0056647565215826035, 0.07110433280467987, -0.0060311416164040565, 0.04900256171822548, 0.04934173449873924, 0.02751556783914566, 0.08307408541440964, 0.05261073634028435, -0.030208418145775795, 0.04852902516722679, -0.022350281476974487, 0.037938281893730164, -0.05504096671938896, 0.026486631482839584, 0.02790442481637001, -0.022364260628819466, -0.005860785022377968, -0.0031077787280082703, 0.04658759757876396, -0.03930556774139404, 0.05825527012348175, 0.010357935912907124, -0.03930791839957237, 0.03379390388727188, -0.02641337551176548, -0.0116161173209548, 0.044653527438640594, 0.030592158436775208, -0.012626409530639648, -0.004832389764487743, 0.00032924895640462637, 0.019883006811141968, 0.04921180009841919, 0.0010251193307340145, -0.03929062932729721, 0.006254862993955612, 0.015821849927306175, 0.05806519836187363, -0.05773963779211044, 0.03466889634728432, 0.006591163109987974, -0.030024949461221695, -0.06342758983373642, 0.08697091788053513, -0.09315744042396545, -0.002522255526855588, 0.09642573446035385, 0.012050929479300976, -0.00398095790296793, -0.022066762670874596, -0.015511094592511654, -0.029963459819555283, 0.045242466032505035, -0.03814027085900307, -0.009931566193699837, 0.030935537070035934, -0.04832806438207626, 0.0528254397213459, 0.056120581924915314, -0.03678320348262787, 0.03066783957183361, 0.06828567385673523, 0.002470560371875763, -0.031058793887495995, -0.002025795169174671, -0.025584183633327484, 0.017607364803552628, 0.011369225569069386, -0.06558910012245178, 0.035729072988033295, -0.04677014797925949, -0.027572689577937126, -0.006000646855682135, 0.02212831936776638, 0.06909563392400742, -0.012345670722424984, -0.03183244541287422, 0.02899770997464657, 0.00460206950083375, 0.0011969057377427816, -0.03917800262570381, 0.03919900953769684, -0.008012467995285988, 0.029462914913892746, -0.05662837624549866, 0.01483328640460968, -0.010071617551147938, 0.05120221897959709, -0.013329753652215004, 0.024958409368991852, -0.07473647594451904, 0.0221933014690876, 0.0398293174803257, 0.010693338699638844, -0.04452156648039818, -0.04086187854409218, -0.025355516001582146, -0.07458815723657608, -0.06685862690210342, 0.007235023193061352, -0.0021976998541504145, 0.03805331885814667, -0.019148726016283035, 0.04126265272498131, 0.010757619515061378, -0.030699597671628, 0.03811425715684891, -0.04614325612783432, -0.002457581227645278, 0.044029124081134796, 0.011305801570415497, 0.04309247434139252, -0.0049596428871154785, -0.0652594193816185, 0.008551975712180138, 0.04238283261656761, -0.016845637932419777, 0.015815887600183487, -0.0151768047362566, 0.029100170359015465, -0.051229484379291534, -0.03257760778069496, 0.009515328332781792, 0.0058067915961146355, 0.01681596413254738, -0.0046263160184025764, -0.08238527923822403, -0.0676470473408699, 0.05142669379711151, -0.003015861613675952, 0.011964185163378716, -0.01780705340206623, 0.02341296710073948, -0.032274775207042694, 0.032136235386133194, -0.009819239377975464, 0.004428390879184008, 0.012956995517015457, -0.017015209421515465, -0.03018120490014553, 0.014795755036175251, -0.06167147308588028, -0.01660904847085476, -0.020382827147841454, 0.00796875637024641, -0.018343281000852585, -0.0653984546661377, 0.010072518140077591, 0.019665291532874107, 0.02291785180568695, -0.07348362356424332, 0.05607941374182701, 0.013035066425800323, -0.035777561366558075, 0.00629391660913825, -0.002537580206990242, 0.044045157730579376, -0.04520999640226364, -0.019552888348698616, -0.038954660296440125, 0.11946186423301697, -0.008159894496202469, 0.006428971886634827, 0.0040664286352694035, -0.021769393235445023, -0.015337915159761906, -0.046954911202192307, -0.010117525234818459, -0.06172264739871025, -0.01143638789653778, 0.0038307406939566135, -0.01603788137435913, -0.0449872724711895, -0.00896853394806385, -0.024624017998576164, -0.009740665555000305, -0.0012347230222076178, 0.06195822358131409, 0.017020240426063538, 0.041183967143297195, 0.03830661624670029, -0.021901490166783333, -0.006223154719918966, -0.03143622353672981, -0.012416338548064232, -0.024605872109532356, -0.03517019748687744, 0.044398725032806396, -0.03324412181973457, 0.008375050500035286, -0.00025361438747495413, 0.016614951193332672, -0.037388965487480164, 0.023112451657652855, -0.030967695638537407, 0.062234632670879364, -0.019137274473905563, -0.009182821027934551, -0.01035014633089304, -0.012872211635112762, 0.016335634514689445, 0.020408358424901962, -0.030634010210633278, 0.02513454295694828, -0.019268222153186798, -0.02831435203552246, -0.027181539684534073, -0.007965464144945145, 0.0683760717511177, 0.006306463852524757, 0.04021524637937546, -0.007395926397293806, -0.02492533065378666, -0.0012016692198812962, -0.002197561552748084, -0.015376615338027477, 0.025153748691082, 0.0023423531092703342, 0.015495025552809238, 0.02643156796693802, -0.05193868279457092, 0.03749685734510422, 0.0032701080199331045, -0.034872621297836304, 0.01878943480551243, 0.031714946031570435, 0.03684418275952339, -0.028753213584423065, -0.016732865944504738, 0.010547671467065811, 0.008621526882052422, -0.009850584901869297, -0.07632499933242798, -0.0059422957710921764, -0.03236006945371628, 0.03853441774845123, -0.020368875935673714, -0.026363560929894447, -0.02061309479176998, -0.07043447345495224, -0.012654945254325867, 0.008983582258224487, 0.00871491339057684, -0.031972382217645645, -0.007161720655858517, -0.017857959493994713, -0.008057137951254845, 0.0024122290778905153, 0.06613542139530182, 0.06068289279937744, 0.04487331211566925, -0.043001044541597366, -0.030430886894464493, 0.008215360343456268, 0.005689364392310381, 0.04096275195479393, -0.010099825449287891, 0.05360439047217369, 0.0018301050877198577, -0.019491152837872505, 0.020658547058701515, -0.012570613995194435, 0.03251185268163681, 0.048794686794281006, 0.01947934180498123, -0.08001033961772919, 0.03133169934153557, -0.0068833292461931705, 0.02590624988079071, 0.027425410225987434, -0.0064429184421896935, 0.031505174934864044, 0.007411858066916466, 0.04805668443441391, 0.005881374701857567, -0.0546061135828495, -0.018636882305145264, 0.09671521931886673, 0.03744272142648697, -0.004682829603552818, 0.05008755251765251, -0.05473225191235542, -0.027813097462058067, 0.01004460547119379, -0.025128772482275963, 0.00017072458285838366, -0.0321553535759449, -0.04191087558865547, 0.0035681540612131357, -0.013675553724169731, 0.026176119223237038, -0.03848479315638542, 0.00475703040137887, 0.06132360175251961, -0.03270844370126724, -0.016236715018749237, -0.04340332746505737, 0.036877747625112534, -0.00619707303121686, 0.035866282880306244, -0.03241916373372078, 0.016184324398636818, -0.012377945706248283, -0.00859348475933075, 0.01146559789776802, 0.013662414625287056, -0.019337326288223267, 0.07901248335838318, -0.04239669814705849, -0.019660653546452522, 0.018481086939573288, -0.03449670970439911, -0.013342484831809998, -0.041334234178066254, 0.040387801826000214, -0.07177984714508057, -0.01424369029700756, 0.004415393806993961, -0.039288513362407684, 0.0030515440739691257, -0.0070603094063699245, 0.005393094848841429, -0.007298795040696859, 0.023267943412065506, -0.018468210473656654, 0.024306224659085274, -0.0002564649621490389, -0.026494985446333885, 0.02590789832174778, 0.0014841667143628001, 0.023351727053523064, 0.037856630980968475, 0.012857722118496895, 0.040105510503053665, 0.01590036414563656, 0.0784095972776413, -0.012713462114334106, -0.03606410697102547, -0.02688126638531685, -0.025625817477703094, -0.025574129074811935, -0.013244585134088993, 0.016614725813269615, -0.03455951064825058, 0.03845047205686569, 0.020946335047483444, 0.022652313113212585, -0.06869471073150635, 0.017978383228182793, 0.03165118023753166, 0.026711611077189445, 0.031470730900764465, 0.016392046585679054, -0.057360563427209854, 0.0069335890002548695, -0.010991441085934639, -0.008977281861007214, -0.017471032217144966, 0.030027927830815315, -0.04069320112466812, -0.039629243314266205, 0.04832851141691208, 0.04387236759066582, 0.03549972549080849, 0.008959791623055935, 0.01049228385090828, 0.001869735773652792, -0.029248163104057312, -0.016199953854084015, -0.006900143343955278, -0.017475830391049385, -0.012378519400954247, -0.02855934388935566, 0.022005708888173103, -0.03728180378675461, -0.043464284390211105, -0.07069453597068787, -0.06340727210044861, 0.02809709869325161, 0.02594451792538166, -0.005668752361088991, -0.0066952090710401535, 0.0010470200795680285, 0.04717298597097397, 0.07334258407354355, -0.0007958704372867942, 0.01695023663341999, -0.00903200265020132, -0.05666659027338028, 0.05764096602797508, -0.048335812985897064, 0.03623395040631294, 0.03494972735643387, -0.001133038429543376, 0.009295415133237839, -0.01661863923072815, 0.019850706681609154, -0.04242658242583275, -0.02402460388839245, 0.01739325188100338, 0.01618870161473751, -0.009216821752488613, 0.052284784615039825, -0.03335699066519737, -0.04876480996608734, -0.028207631781697273, 0.01318993978202343, -0.02193424291908741, 0.03045879490673542, -0.03520414978265762, -0.007406860589981079, 0.07927145063877106, -0.014717294834554195, -0.034759242087602615, -0.027500519528985023, 0.020230989903211594, -0.09007981419563293, 0.005560194607824087, 0.010525885969400406, -0.04849587008357048, 0.026363199576735497, -0.020289838314056396, -0.009634948335587978, 0.023604614660143852, 0.042070914059877396, 0.06006409972906113, 0.029470892623066902, 0.05205046012997627, 0.039438724517822266, -0.06491322815418243, -0.026647334918379784, 0.00695068808272481, 0.0037975995801389217, -0.003808058565482497, -0.020831767469644547, -0.033436838537454605, 0.06225700303912163, 0.02122977003455162, -0.06335526704788208, 0.050067637115716934, -0.06364377588033676, 0.0029585049487650394, -0.003337574191391468, 0.015036551281809807, -0.012441360391676426, 0.01960575580596924, 0.014662694185972214, -0.07588560879230499, 0.021339891478419304, 0.01403568685054779, 0.006526474840939045, 0.015853609889745712, -0.009445820935070515, -0.011653421446681023, -0.014890115708112717, -0.015957871451973915, 0.05968340486288071, 0.046718060970306396, -0.029981272295117378, -0.053348224610090256, 0.048843078315258026, 0.0070337471552193165, 0.051840245723724365, -0.01484788116067648, 0.014194612391293049, 0.04297276586294174, -0.0022129130084067583, -0.012476718053221703, 0.011028381064534187, 0.030144549906253815, -0.007644603960216045, -0.006084110122174025, 0.028892096132040024, -0.03292352333664894, -0.07364430278539658, -0.005012125708162785, 0.006654153577983379, 0.02935270592570305, 0.017090175300836563, 0.04295941814780235, 0.012497755698859692, 0.03247692063450813, 0.013461947441101074, 0.02927575260400772, 0.012899029068648815, 0.011831155978143215, -0.03860384225845337, 0.024797745048999786, 0.05593975633382797, -0.02952861599624157, -0.0287408959120512, 0.02529321238398552]\n"
     ]
    }
   ],
   "source": [
    "print(embeddings.embed_query(sql_description['description']))"
   ]
  },
  {
   "cell_type": "code",
   "execution_count": 80,
   "metadata": {},
   "outputs": [],
   "source": [
    "\n",
    "with vdb.get_connection() as conn:\n",
    "  try:\n",
    "    with conn.cursor() as cursor:\n",
    "      insert_record = (sql_query_average_cpi, \n",
    "        sql_description['description'], \n",
    "        str(sql_description['input_parameters']), \n",
    "        None, \n",
    "        None, \n",
    "        str(embeddings.embed_query(sql_description['description'])).replace(' ',''))\n",
    "      cursor.execute(f\"INSERT INTO rag_test (sql, description, parameters, explore_view, model_name, desc_vector) VALUES ( %s, %s, %s, %s, %s, %s)\", insert_record) \n",
    "  except Exception as e:\n",
    "    print(e)\n",
    "    conn.rollback()\n",
    "  else:\n",
    "    conn.commit()\n",
    "\n",
    "# vdb.insert_record(\n",
    "#   sql=sql_query_average_cpi, \n",
    "#   parameters=str(sql_description['input_parameters']), \n",
    "#   description=sql_description['description'], \n",
    "#   explore_view=None, \n",
    "#   model_name=None, \n",
    "#   desc_vector=embeddings.embed_query(sql_description['description'])\n",
    "#   )"
   ]
  },
  {
   "cell_type": "code",
   "execution_count": 85,
   "metadata": {},
   "outputs": [],
   "source": [
    "natural_language_question = 'show me the average CPI for all items in the overall US area.'\n",
    "\n",
    "search_vector =  str(embeddings.embed_query(natural_language_question)).replace(' ','')\n",
    "sql, description, parameters, explore_view, model_name  = vdb.select_similar_query(search_vector)"
   ]
  },
  {
   "cell_type": "code",
   "execution_count": 92,
   "metadata": {},
   "outputs": [],
   "source": [
    "\n",
    "def get_field_unique_values(matched_table, matched_field):\n",
    "  sql_query = f\"select distinct {matched_field} as {matched_field} from {matched_table}\"\n",
    "  df = client.query(sql_query).to_dataframe()\n",
    "  return df[matched_field].tolist()\n",
    "  "
   ]
  },
  {
   "cell_type": "code",
   "execution_count": 89,
   "metadata": {},
   "outputs": [],
   "source": [
    "import ast\n",
    "\n",
    "list_of_parameters = ast.literal_eval(parameters)"
   ]
  },
  {
   "cell_type": "code",
   "execution_count": 90,
   "metadata": {},
   "outputs": [
    {
     "data": {
      "text/plain": [
       "[{'parameter_name': 'cpi_item_name',\n",
       "  'parameter_type': 'string',\n",
       "  'matched_column_name': 'item_name',\n",
       "  'matched_table_name': 'bigquery-public-data.bls.cpi_u'},\n",
       " {'parameter_name': 'us_overall_or_specific_region',\n",
       "  'parameter_type': 'string',\n",
       "  'matched_column_name': 'area_name',\n",
       "  'matched_table_name': 'bigquery-public-data.bls.cpi_u'}]"
      ]
     },
     "execution_count": 90,
     "metadata": {},
     "output_type": "execute_result"
    }
   ],
   "source": [
    "list_of_parameters"
   ]
  },
  {
   "cell_type": "code",
   "execution_count": 94,
   "metadata": {},
   "outputs": [],
   "source": [
    "for parameter in list_of_parameters:\n",
    "  matched_table = parameter['matched_table_name']\n",
    "  matched_field = parameter['matched_column_name']\n",
    "  distinct_values = get_field_unique_values(matched_table, matched_field)\n",
    "  parameter['distinct_values'] = distinct_values\n",
    "  "
   ]
  },
  {
   "cell_type": "code",
   "execution_count": 95,
   "metadata": {},
   "outputs": [
    {
     "data": {
      "text/plain": [
       "[{'parameter_name': 'cpi_item_name',\n",
       "  'parameter_type': 'string',\n",
       "  'matched_column_name': 'item_name',\n",
       "  'matched_table_name': 'bigquery-public-data.bls.cpi_u',\n",
       "  'distinct_values': ['All items',\n",
       "   'Energy',\n",
       "   'All items less food',\n",
       "   'All items less food and shelter',\n",
       "   'All items less food, shelter, and energy',\n",
       "   'All items less food, shelter, energy, and used cars and trucks',\n",
       "   'All items less food and energy',\n",
       "   'All items less shelter',\n",
       "   'All items less medical care',\n",
       "   'All items less energy',\n",
       "   'Apparel less footwear',\n",
       "   'Apparel',\n",
       "   \"Men's and boys' apparel\",\n",
       "   \"Women's and girls' apparel\",\n",
       "   'Commodities',\n",
       "   'Energy commodities',\n",
       "   'Commodities less food',\n",
       "   'Commodities less food and beverages',\n",
       "   'Commodities less food and energy commodities',\n",
       "   'Commodities less food, energy, and used cars and trucks',\n",
       "   'Durables',\n",
       "   'Education and communication',\n",
       "   'Education',\n",
       "   'Communication',\n",
       "   'Information and information processing',\n",
       "   'Education and communication commodities',\n",
       "   'Education and communication services',\n",
       "   'Food and beverages',\n",
       "   'Food',\n",
       "   'Food at home',\n",
       "   'Cereals and bakery products',\n",
       "   'Meats, poultry, fish, and eggs',\n",
       "   'Meats, poultry, and fish',\n",
       "   'Meats',\n",
       "   'Fruits and vegetables',\n",
       "   'Fresh fruits and vegetables',\n",
       "   'Nonalcoholic beverages and beverage materials',\n",
       "   'Other food at home',\n",
       "   'Alcoholic beverages',\n",
       "   'Other goods and services',\n",
       "   'Personal care',\n",
       "   'Other goods',\n",
       "   'Housing',\n",
       "   'Shelter',\n",
       "   'Fuels and utilities',\n",
       "   'Household energy',\n",
       "   'Household furnishings and operations',\n",
       "   'Household furnishings and supplies',\n",
       "   'Medical care',\n",
       "   'Medical care commodities',\n",
       "   'Medical care services',\n",
       "   'Nondurables',\n",
       "   'Domestically produced farm food',\n",
       "   'Nondurables less food',\n",
       "   'Nondurables less food and beverages',\n",
       "   'Nondurables less food, beverages, and apparel',\n",
       "   'Nondurables less food and apparel',\n",
       "   'Recreation',\n",
       "   'Recreation commodities',\n",
       "   'Recreation services',\n",
       "   'Services',\n",
       "   'Utilities and public transportation',\n",
       "   'Rent of shelter',\n",
       "   'Other services',\n",
       "   'Transportation services',\n",
       "   'Services less rent of shelter',\n",
       "   'Services less medical care services',\n",
       "   'Services less energy services',\n",
       "   'Transportation',\n",
       "   'Private transportation',\n",
       "   'Transportation commodities less motor fuel',\n",
       "   \"Men's apparel\",\n",
       "   \"Men's suits, sport coats, and outerwear\",\n",
       "   \"Men's underwear, nightwear, swimwear and accessories\",\n",
       "   \"Men's shirts and sweaters\",\n",
       "   \"Men's pants and shorts\",\n",
       "   \"Boys' apparel\",\n",
       "   \"Women's apparel\",\n",
       "   \"Women's outerwear\",\n",
       "   \"Women's dresses\",\n",
       "   \"Women's suits and separates\",\n",
       "   \"Women's underwear, nightwear, swimwear and accessories\",\n",
       "   \"Girls' apparel\",\n",
       "   'Footwear',\n",
       "   \"Men's footwear\",\n",
       "   \"Boys' and girls' footwear\",\n",
       "   \"Women's footwear\",\n",
       "   \"Infants' and toddlers' apparel\",\n",
       "   'Jewelry and watches',\n",
       "   'Watches',\n",
       "   'Jewelry',\n",
       "   'Educational books and supplies',\n",
       "   'Tuition, other school fees, and childcare',\n",
       "   'College tuition and fees',\n",
       "   'Elementary and high school tuition and fees',\n",
       "   'Day care and preschool',\n",
       "   'Technical and business school tuition and fees',\n",
       "   'Postage and delivery services',\n",
       "   'Postage',\n",
       "   'Delivery services',\n",
       "   'Information technology, hardware and services',\n",
       "   'Computers, peripherals, and smart home assistants',\n",
       "   'Internet services and electronic information providers',\n",
       "   'Telephone hardware, calculators, and other consumer information items',\n",
       "   'Information technology commodities',\n",
       "   'Cereals and cereal products',\n",
       "   'Flour and prepared flour mixes',\n",
       "   'Breakfast cereal',\n",
       "   'Rice, pasta, cornmeal',\n",
       "   'Bakery products',\n",
       "   'Bread',\n",
       "   'Fresh biscuits, rolls, muffins',\n",
       "   'Cakes, cupcakes, and cookies',\n",
       "   'Other bakery products',\n",
       "   'Beef and veal',\n",
       "   'Uncooked ground beef',\n",
       "   'Uncooked beef steaks',\n",
       "   'Pork',\n",
       "   'Bacon, breakfast sausage, and related products',\n",
       "   'Ham',\n",
       "   'Pork chops',\n",
       "   'Other pork including roasts, steaks, and ribs',\n",
       "   'Other meats',\n",
       "   'Poultry',\n",
       "   'Chicken',\n",
       "   'Other uncooked poultry including turkey',\n",
       "   'Fish and seafood',\n",
       "   'Fresh fish and seafood',\n",
       "   'Processed fish and seafood',\n",
       "   'Eggs',\n",
       "   'Dairy and related products',\n",
       "   'Milk',\n",
       "   'Cheese and related products',\n",
       "   'Ice cream and related products',\n",
       "   'Other dairy and related products',\n",
       "   'Fresh fruits',\n",
       "   'Apples',\n",
       "   'Bananas',\n",
       "   'Citrus fruits',\n",
       "   'Other fresh fruits',\n",
       "   'Fresh vegetables',\n",
       "   'Potatoes',\n",
       "   'Lettuce',\n",
       "   'Tomatoes',\n",
       "   'Other fresh vegetables',\n",
       "   'Processed fruits and vegetables',\n",
       "   'Canned fruits and vegetables',\n",
       "   'Frozen fruits and vegetables',\n",
       "   'Other processed fruits and vegetables including dried',\n",
       "   'Juices and nonalcoholic drinks',\n",
       "   'Carbonated drinks',\n",
       "   'Nonfrozen noncarbonated juices and drinks',\n",
       "   'Beverage materials including coffee and tea',\n",
       "   'Coffee',\n",
       "   'Other beverage materials including tea',\n",
       "   'Sugar and sweets',\n",
       "   'Sugar and sugar substitutes',\n",
       "   'Other sweets',\n",
       "   'Fats and oils',\n",
       "   'Butter and margarine',\n",
       "   'Salad dressing',\n",
       "   'Other fats and oils including peanut butter',\n",
       "   'Other foods',\n",
       "   'Soups',\n",
       "   'Frozen and freeze dried prepared foods',\n",
       "   'Snacks',\n",
       "   'Spices, seasonings, condiments, sauces',\n",
       "   'Other miscellaneous foods',\n",
       "   'Food away from home',\n",
       "   'Full service meals and snacks',\n",
       "   'Food at employee sites and schools',\n",
       "   'Other food away from home',\n",
       "   'Alcoholic beverages at home',\n",
       "   'Beer, ale, and other malt beverages at home',\n",
       "   'Distilled spirits at home',\n",
       "   'Wine at home',\n",
       "   'Alcoholic beverages away from home',\n",
       "   'Tobacco and smoking products',\n",
       "   'Cigarettes',\n",
       "   'Miscellaneous personal services',\n",
       "   'Legal services',\n",
       "   'Funeral expenses',\n",
       "   'Laundry and dry cleaning services',\n",
       "   'Financial services',\n",
       "   'Miscellaneous personal goods',\n",
       "   'Rent of primary residence',\n",
       "   'Lodging away from home',\n",
       "   'Housing at school, excluding board',\n",
       "   'Other lodging away from home including hotels and motels',\n",
       "   \"Owners' equivalent rent of residences\",\n",
       "   \"Owners' equivalent rent of primary residence\",\n",
       "   'Fuel oil and other fuels',\n",
       "   'Fuel oil',\n",
       "   'Propane, kerosene, and firewood',\n",
       "   'Energy services',\n",
       "   'Electricity',\n",
       "   'Utility (piped) gas service',\n",
       "   'Water and sewer and trash collection services',\n",
       "   'Water and sewerage maintenance',\n",
       "   'Garbage and trash collection',\n",
       "   'Window and floor coverings and other linens',\n",
       "   'Window coverings',\n",
       "   'Furniture and bedding',\n",
       "   'Other furniture',\n",
       "   'Appliances',\n",
       "   'Major appliances',\n",
       "   'Other appliances',\n",
       "   'Other household equipment and furnishings',\n",
       "   'Indoor plants and flowers',\n",
       "   'Nonelectric cookware and tableware',\n",
       "   'Tools, hardware, outdoor equipment and supplies',\n",
       "   'Outdoor equipment and supplies',\n",
       "   'Housekeeping supplies',\n",
       "   'Household cleaning products',\n",
       "   'Miscellaneous household products',\n",
       "   'Moving, storage, freight expense',\n",
       "   'Professional services',\n",
       "   \"Physicians' services\",\n",
       "   'Dental services',\n",
       "   'Eyeglasses and eye care',\n",
       "   'Services by other medical professionals',\n",
       "   'Hospital and related services',\n",
       "   'Hospital services',\n",
       "   'Nursing homes and adult day services',\n",
       "   'Medicinal drugs',\n",
       "   'Prescription drugs',\n",
       "   'Video and audio',\n",
       "   'Televisions',\n",
       "   'Cable and satellite television service',\n",
       "   'Other video equipment',\n",
       "   'Audio equipment',\n",
       "   'Video and audio products',\n",
       "   'Video and audio services',\n",
       "   'Pets, pet products and services',\n",
       "   'Pets and pet products',\n",
       "   'Pet services including veterinary',\n",
       "   'Sporting goods',\n",
       "   'Sports vehicles including bicycles',\n",
       "   'Sports equipment',\n",
       "   'Photography',\n",
       "   'Photographic equipment and supplies',\n",
       "   'Other recreational goods',\n",
       "   'Toys',\n",
       "   'Sewing machines, fabric and supplies',\n",
       "   'Music instruments and accessories',\n",
       "   'Other recreation services',\n",
       "   'Club membership for shopping clubs, fraternal, or other organizations, or participant sports fees',\n",
       "   'Admissions',\n",
       "   'Fees for lessons or instructions',\n",
       "   'Recreational reading materials',\n",
       "   'New and used motor vehicles',\n",
       "   'New vehicles',\n",
       "   'Used cars and trucks',\n",
       "   'Leased cars and trucks',\n",
       "   'Car and truck rental',\n",
       "   'Motor fuel',\n",
       "   'Gasoline (all types)',\n",
       "   'Other motor fuels',\n",
       "   'Motor vehicle parts and equipment',\n",
       "   'Tires',\n",
       "   'Motor vehicle maintenance and repair',\n",
       "   'Motor vehicle repair',\n",
       "   'Motor vehicle insurance',\n",
       "   'Parking and other fees',\n",
       "   'Public transportation',\n",
       "   'Airline fares',\n",
       "   'Other intercity transportation',\n",
       "   'Cookies',\n",
       "   'Crackers, bread, and cracker products',\n",
       "   'Frozen and refrigerated bakery products, pies, tarts, turnovers',\n",
       "   'Bacon and related products',\n",
       "   'Breakfast sausage and related products',\n",
       "   'Ham, excluding canned',\n",
       "   'Frankfurters',\n",
       "   'Lunchmeats',\n",
       "   'Fresh whole chicken',\n",
       "   'Shelf stable fish and seafood',\n",
       "   'Frozen fish and seafood',\n",
       "   'Fresh whole milk',\n",
       "   'Fresh milk other than whole',\n",
       "   'Butter',\n",
       "   'Oranges, including tangerines',\n",
       "   'Canned fruits',\n",
       "   'Frozen vegetables',\n",
       "   'Canned vegetables',\n",
       "   'Margarine',\n",
       "   'Roasted coffee',\n",
       "   'Salt and other seasonings and spices',\n",
       "   'Sauces and gravies',\n",
       "   'Other condiments',\n",
       "   'Prepared salads',\n",
       "   'Whiskey at home',\n",
       "   'Distilled spirits, excluding whiskey, at home',\n",
       "   'Distilled spirits away from home',\n",
       "   'Laundry equipment',\n",
       "   'Stationery, stationery supplies, gift wrap',\n",
       "   'New cars',\n",
       "   'New cars and trucks',\n",
       "   'New trucks',\n",
       "   'New motorcycles',\n",
       "   'Gasoline, unleaded regular',\n",
       "   'Gasoline, unleaded midgrade',\n",
       "   'Gasoline, unleaded premium',\n",
       "   'Parking fees and tolls',\n",
       "   'Intercity train fare',\n",
       "   'Ship fare',\n",
       "   'Inpatient hospital services',\n",
       "   'Outpatient hospital services',\n",
       "   'Toys, games, hobbies and playground equipment',\n",
       "   'Photographic equipment',\n",
       "   'Pet food',\n",
       "   'Purchase of pets, pet supplies, accessories',\n",
       "   'Admission to movies, theaters, and concerts',\n",
       "   'Admission to sporting events',\n",
       "   'Pet services',\n",
       "   'Veterinarian services',\n",
       "   'Tax return preparation and other accounting fees',\n",
       "   'Food at elementary and secondary schools',\n",
       "   'All items - old base',\n",
       "   'Purchasing power of the consumer dollar - old base',\n",
       "   'Purchasing power of the consumer dollar',\n",
       "   'Other personal services',\n",
       "   'Telephone services',\n",
       "   'Wireless telephone services',\n",
       "   'Land-line telephone services',\n",
       "   'Computer software and accessories',\n",
       "   'Uncooked beef roasts',\n",
       "   'Uncooked other beef and veal',\n",
       "   'Frozen noncarbonated juices and drinks',\n",
       "   'Candy and chewing gum',\n",
       "   'Baby food',\n",
       "   'Limited service meals and snacks',\n",
       "   'Food from vending machines and mobile vendors',\n",
       "   'Tobacco products other than cigarettes',\n",
       "   'Personal care products',\n",
       "   'Hair, dental, shaving, and miscellaneous personal care products',\n",
       "   'Cosmetics, perfume, bath, nail preparations and implements',\n",
       "   'Personal care services',\n",
       "   'Haircuts and other personal care services',\n",
       "   'Apparel services other than laundry and dry cleaning',\n",
       "   \"Tenants' and household insurance\",\n",
       "   'Floor coverings',\n",
       "   'Other linens',\n",
       "   'Bedroom furniture',\n",
       "   'Living room, kitchen, and dining room furniture',\n",
       "   'Clocks, lamps, and decorator items',\n",
       "   'Dishes and flatware',\n",
       "   'Tools, hardware and supplies',\n",
       "   'Household paper products',\n",
       "   'Household operations',\n",
       "   'Domestic services',\n",
       "   'Gardening and lawncare services',\n",
       "   'Repair of household items',\n",
       "   'Care of invalids and elderly at home',\n",
       "   'Health insurance',\n",
       "   'Nonprescription drugs',\n",
       "   'Medical equipment and supplies',\n",
       "   'Video discs and other media, including rental of video',\n",
       "   'Recorded music and music subscriptions',\n",
       "   'Photographers and photo processing',\n",
       "   'Newspapers and magazines',\n",
       "   'Recreational books',\n",
       "   'Vehicle accessories other than tires',\n",
       "   'Motor vehicle body work',\n",
       "   'Motor vehicle maintenance and servicing',\n",
       "   'Motor vehicle fees',\n",
       "   'State motor vehicle registration and license fees',\n",
       "   'Intracity transportation',\n",
       "   'Rice',\n",
       "   'White bread',\n",
       "   'Bread other than white',\n",
       "   'Fresh cakes and cupcakes',\n",
       "   'Fresh sweetrolls, coffeecakes, doughnuts',\n",
       "   'Lamb and organ meats',\n",
       "   'Lamb and mutton',\n",
       "   'Fresh and frozen chicken parts',\n",
       "   'Dried beans, peas, and lentils',\n",
       "   'Peanut butter',\n",
       "   'Instant coffee',\n",
       "   'Olives, pickles, relishes',\n",
       "   'Beer, ale, and other malt beverages away from home',\n",
       "   'Wine away from home',\n",
       "   'Land-line interstate toll calls',\n",
       "   'Land-line intrastate toll calls',\n",
       "   'Video discs and other media',\n",
       "   'Video game hardware, software and accessories',\n",
       "   'Motor oil, coolant, and fluids',\n",
       "   'Vehicle parts and equipment other than tires',\n",
       "   'Intercity bus fare',\n",
       "   'Intracity mass transit',\n",
       "   'Film and photographic supplies',\n",
       "   'Automobile service clubs',\n",
       "   'Photographer fees',\n",
       "   'Photo Processing',\n",
       "   'Rental of video discs and other media',\n",
       "   'Checking account and other bank services',\n",
       "   'College textbooks',\n",
       "   'Smartphones',\n",
       "   \"Infants' equipment\",\n",
       "   \"Infants' furniture\"]},\n",
       " {'parameter_name': 'us_overall_or_specific_region',\n",
       "  'parameter_type': 'string',\n",
       "  'matched_column_name': 'area_name',\n",
       "  'matched_table_name': 'bigquery-public-data.bls.cpi_u',\n",
       "  'distinct_values': ['U.S. city average',\n",
       "   'Northeast',\n",
       "   'New England',\n",
       "   'Middle Atlantic',\n",
       "   'Midwest',\n",
       "   'East North Central',\n",
       "   'West North Central',\n",
       "   'South',\n",
       "   'South Atlantic',\n",
       "   'East South Central',\n",
       "   'West South Central',\n",
       "   'West',\n",
       "   'Mountain',\n",
       "   'Pacific',\n",
       "   'Pittsburgh, PA',\n",
       "   'Cleveland-Akron, OH',\n",
       "   'Milwaukee-Racine, WI',\n",
       "   'Cincinnati-Hamilton, OH-KY-IN',\n",
       "   'Kansas City, MO-KS',\n",
       "   'Washington-Baltimore, DC-MD-VA-WV',\n",
       "   'Los Angeles-Riverside-Orange County, CA',\n",
       "   'Portland-Salem, OR-WA',\n",
       "   'Size Class D',\n",
       "   'Midwest - Size Class D',\n",
       "   'South - Size Class D',\n",
       "   'Size Class B/C',\n",
       "   'Northeast - Size Class B/C',\n",
       "   'Midwest - Size Class B/C',\n",
       "   'South - Size Class B/C',\n",
       "   'West - Size Class B/C',\n",
       "   'Size Class A',\n",
       "   'Northeast - Size Class A',\n",
       "   'Boston-Cambridge-Newton, MA-NH',\n",
       "   'New York-Newark-Jersey City, NY-NJ-PA',\n",
       "   'Philadelphia-Camden-Wilmington, PA-NJ-DE-MD',\n",
       "   'Midwest - Size Class A',\n",
       "   'Chicago-Naperville-Elgin, IL-IN-WI',\n",
       "   'Detroit-Warren-Dearborn, MI',\n",
       "   'Minneapolis-St.Paul-Bloomington, MN-WI',\n",
       "   'St. Louis, MO-IL',\n",
       "   'South - Size Class A',\n",
       "   'Washington-Arlington-Alexandria, DC-VA-MD-WV',\n",
       "   'Miami-Fort Lauderdale-West Palm Beach, FL',\n",
       "   'Atlanta-Sandy Springs-Roswell, GA',\n",
       "   'Tampa-St. Petersburg-Clearwater, FL',\n",
       "   'Baltimore-Columbia-Towson, MD',\n",
       "   'Dallas-Fort Worth-Arlington, TX',\n",
       "   'Houston-The Woodlands-Sugar Land, TX',\n",
       "   'West - Size Class A',\n",
       "   'Phoenix-Mesa-Scottsdale, AZ',\n",
       "   'Denver-Aurora-Lakewood, CO',\n",
       "   'Los Angeles-Long Beach-Anaheim, CA',\n",
       "   'San Francisco-Oakland-Hayward, CA',\n",
       "   'Riverside-San Bernardino-Ontario, CA',\n",
       "   'Seattle-Tacoma-Bellevue WA',\n",
       "   'San Diego-Carlsbad, CA',\n",
       "   'Urban Hawaii',\n",
       "   'Urban Alaska']}]"
      ]
     },
     "execution_count": 95,
     "metadata": {},
     "output_type": "execute_result"
    }
   ],
   "source": []
  }
 ],
 "metadata": {
  "kernelspec": {
   "display_name": ".venv",
   "language": "python",
   "name": "python3"
  },
  "language_info": {
   "codemirror_mode": {
    "name": "ipython",
    "version": 3
   },
   "file_extension": ".py",
   "mimetype": "text/x-python",
   "name": "python",
   "nbconvert_exporter": "python",
   "pygments_lexer": "ipython3",
   "version": "3.8.5"
  }
 },
 "nbformat": 4,
 "nbformat_minor": 2
}
